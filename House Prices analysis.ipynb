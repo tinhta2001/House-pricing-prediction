{
 "cells": [
  {
   "cell_type": "code",
   "execution_count": 113,
   "id": "1803cd85-6805-45b5-b755-3ba5b9bf2da3",
   "metadata": {
    "tags": []
   },
   "outputs": [],
   "source": [
    "import pandas as pd\n",
    "import numpy as np\n",
    "import matplotlib.pyplot as plt\n",
    "import seaborn as sns\n",
    "import optuna\n",
    "\n",
    "from sklearn.metrics import mean_squared_error, r2_score, mean_absolute_error\n",
    "from sklearn.model_selection import train_test_split\n",
    "\n",
    "from sklearn.linear_model import LinearRegression, Lasso, LassoCV\n",
    "from mlxtend.feature_selection import SequentialFeatureSelector as SFS\n",
    "from mlxtend.plotting import plot_sequential_feature_selection as plot_sfs\n",
    "\n",
    "from sklearn.preprocessing import StandardScaler, MinMaxScaler\n",
    "from sklearn.ensemble import AdaBoostRegressor\n",
    "from xgboost import XGBRegressor\n",
    "\n",
    "import os\n",
    "\n",
    "from sklearn.metrics import roc_curve, auc, r2_score\n",
    "from sklearn.metrics import RocCurveDisplay, classification_report, accuracy_score\n",
    "from sklearn.metrics import confusion_matrix, ConfusionMatrixDisplay\n",
    "\n",
    "from sklearn.model_selection import cross_val_score, train_test_split\n",
    "from sklearn.model_selection import KFold, GridSearchCV\n",
    "from optuna.integration import OptunaSearchCV\n",
    "from sklearn import tree\n"
   ]
  },
  {
   "cell_type": "raw",
   "id": "00e618d5-82af-4b16-909b-d516702ee16e",
   "metadata": {},
   "source": [
    "Importing and cleaning dataset for descriptive statistics"
   ]
  },
  {
   "cell_type": "code",
   "execution_count": 2,
   "id": "c25a8384-a8f6-4c1d-8050-0e7e25e47d80",
   "metadata": {
    "tags": []
   },
   "outputs": [],
   "source": [
    "df = pd.read_csv('train.csv', header = 0)"
   ]
  },
  {
   "cell_type": "code",
   "execution_count": 3,
   "id": "054b1b06-0210-4a77-ba02-feea76646a58",
   "metadata": {
    "tags": []
   },
   "outputs": [
    {
     "data": {
      "text/html": [
       "<div>\n",
       "<style scoped>\n",
       "    .dataframe tbody tr th:only-of-type {\n",
       "        vertical-align: middle;\n",
       "    }\n",
       "\n",
       "    .dataframe tbody tr th {\n",
       "        vertical-align: top;\n",
       "    }\n",
       "\n",
       "    .dataframe thead th {\n",
       "        text-align: right;\n",
       "    }\n",
       "</style>\n",
       "<table border=\"1\" class=\"dataframe\">\n",
       "  <thead>\n",
       "    <tr style=\"text-align: right;\">\n",
       "      <th></th>\n",
       "      <th>Id</th>\n",
       "      <th>MSSubClass</th>\n",
       "      <th>MSZoning</th>\n",
       "      <th>LotFrontage</th>\n",
       "      <th>LotArea</th>\n",
       "      <th>Street</th>\n",
       "      <th>Alley</th>\n",
       "      <th>LotShape</th>\n",
       "      <th>LandContour</th>\n",
       "      <th>Utilities</th>\n",
       "      <th>...</th>\n",
       "      <th>PoolArea</th>\n",
       "      <th>PoolQC</th>\n",
       "      <th>Fence</th>\n",
       "      <th>MiscFeature</th>\n",
       "      <th>MiscVal</th>\n",
       "      <th>MoSold</th>\n",
       "      <th>YrSold</th>\n",
       "      <th>SaleType</th>\n",
       "      <th>SaleCondition</th>\n",
       "      <th>SalePrice</th>\n",
       "    </tr>\n",
       "  </thead>\n",
       "  <tbody>\n",
       "    <tr>\n",
       "      <th>0</th>\n",
       "      <td>1</td>\n",
       "      <td>60</td>\n",
       "      <td>RL</td>\n",
       "      <td>65.0</td>\n",
       "      <td>8450</td>\n",
       "      <td>Pave</td>\n",
       "      <td>NaN</td>\n",
       "      <td>Reg</td>\n",
       "      <td>Lvl</td>\n",
       "      <td>AllPub</td>\n",
       "      <td>...</td>\n",
       "      <td>0</td>\n",
       "      <td>NaN</td>\n",
       "      <td>NaN</td>\n",
       "      <td>NaN</td>\n",
       "      <td>0</td>\n",
       "      <td>2</td>\n",
       "      <td>2008</td>\n",
       "      <td>WD</td>\n",
       "      <td>Normal</td>\n",
       "      <td>208500</td>\n",
       "    </tr>\n",
       "    <tr>\n",
       "      <th>1</th>\n",
       "      <td>2</td>\n",
       "      <td>20</td>\n",
       "      <td>RL</td>\n",
       "      <td>80.0</td>\n",
       "      <td>9600</td>\n",
       "      <td>Pave</td>\n",
       "      <td>NaN</td>\n",
       "      <td>Reg</td>\n",
       "      <td>Lvl</td>\n",
       "      <td>AllPub</td>\n",
       "      <td>...</td>\n",
       "      <td>0</td>\n",
       "      <td>NaN</td>\n",
       "      <td>NaN</td>\n",
       "      <td>NaN</td>\n",
       "      <td>0</td>\n",
       "      <td>5</td>\n",
       "      <td>2007</td>\n",
       "      <td>WD</td>\n",
       "      <td>Normal</td>\n",
       "      <td>181500</td>\n",
       "    </tr>\n",
       "    <tr>\n",
       "      <th>2</th>\n",
       "      <td>3</td>\n",
       "      <td>60</td>\n",
       "      <td>RL</td>\n",
       "      <td>68.0</td>\n",
       "      <td>11250</td>\n",
       "      <td>Pave</td>\n",
       "      <td>NaN</td>\n",
       "      <td>IR1</td>\n",
       "      <td>Lvl</td>\n",
       "      <td>AllPub</td>\n",
       "      <td>...</td>\n",
       "      <td>0</td>\n",
       "      <td>NaN</td>\n",
       "      <td>NaN</td>\n",
       "      <td>NaN</td>\n",
       "      <td>0</td>\n",
       "      <td>9</td>\n",
       "      <td>2008</td>\n",
       "      <td>WD</td>\n",
       "      <td>Normal</td>\n",
       "      <td>223500</td>\n",
       "    </tr>\n",
       "    <tr>\n",
       "      <th>3</th>\n",
       "      <td>4</td>\n",
       "      <td>70</td>\n",
       "      <td>RL</td>\n",
       "      <td>60.0</td>\n",
       "      <td>9550</td>\n",
       "      <td>Pave</td>\n",
       "      <td>NaN</td>\n",
       "      <td>IR1</td>\n",
       "      <td>Lvl</td>\n",
       "      <td>AllPub</td>\n",
       "      <td>...</td>\n",
       "      <td>0</td>\n",
       "      <td>NaN</td>\n",
       "      <td>NaN</td>\n",
       "      <td>NaN</td>\n",
       "      <td>0</td>\n",
       "      <td>2</td>\n",
       "      <td>2006</td>\n",
       "      <td>WD</td>\n",
       "      <td>Abnorml</td>\n",
       "      <td>140000</td>\n",
       "    </tr>\n",
       "    <tr>\n",
       "      <th>4</th>\n",
       "      <td>5</td>\n",
       "      <td>60</td>\n",
       "      <td>RL</td>\n",
       "      <td>84.0</td>\n",
       "      <td>14260</td>\n",
       "      <td>Pave</td>\n",
       "      <td>NaN</td>\n",
       "      <td>IR1</td>\n",
       "      <td>Lvl</td>\n",
       "      <td>AllPub</td>\n",
       "      <td>...</td>\n",
       "      <td>0</td>\n",
       "      <td>NaN</td>\n",
       "      <td>NaN</td>\n",
       "      <td>NaN</td>\n",
       "      <td>0</td>\n",
       "      <td>12</td>\n",
       "      <td>2008</td>\n",
       "      <td>WD</td>\n",
       "      <td>Normal</td>\n",
       "      <td>250000</td>\n",
       "    </tr>\n",
       "  </tbody>\n",
       "</table>\n",
       "<p>5 rows × 81 columns</p>\n",
       "</div>"
      ],
      "text/plain": [
       "   Id  MSSubClass MSZoning  LotFrontage  LotArea Street Alley LotShape  \\\n",
       "0   1          60       RL         65.0     8450   Pave   NaN      Reg   \n",
       "1   2          20       RL         80.0     9600   Pave   NaN      Reg   \n",
       "2   3          60       RL         68.0    11250   Pave   NaN      IR1   \n",
       "3   4          70       RL         60.0     9550   Pave   NaN      IR1   \n",
       "4   5          60       RL         84.0    14260   Pave   NaN      IR1   \n",
       "\n",
       "  LandContour Utilities  ... PoolArea PoolQC Fence MiscFeature MiscVal MoSold  \\\n",
       "0         Lvl    AllPub  ...        0    NaN   NaN         NaN       0      2   \n",
       "1         Lvl    AllPub  ...        0    NaN   NaN         NaN       0      5   \n",
       "2         Lvl    AllPub  ...        0    NaN   NaN         NaN       0      9   \n",
       "3         Lvl    AllPub  ...        0    NaN   NaN         NaN       0      2   \n",
       "4         Lvl    AllPub  ...        0    NaN   NaN         NaN       0     12   \n",
       "\n",
       "  YrSold  SaleType  SaleCondition  SalePrice  \n",
       "0   2008        WD         Normal     208500  \n",
       "1   2007        WD         Normal     181500  \n",
       "2   2008        WD         Normal     223500  \n",
       "3   2006        WD        Abnorml     140000  \n",
       "4   2008        WD         Normal     250000  \n",
       "\n",
       "[5 rows x 81 columns]"
      ]
     },
     "execution_count": 3,
     "metadata": {},
     "output_type": "execute_result"
    }
   ],
   "source": [
    "df.head()"
   ]
  },
  {
   "cell_type": "raw",
   "id": "6fdee2ef-d693-4309-93c2-c00502c40644",
   "metadata": {},
   "source": [
    "Remove unecessary variables"
   ]
  },
  {
   "cell_type": "code",
   "execution_count": 4,
   "id": "2aad5b0b-c408-4825-a01d-cd5abdc948b6",
   "metadata": {
    "tags": []
   },
   "outputs": [],
   "source": [
    "df.drop(columns = ['GarageYrBlt','YrSold','MasVnrType','YearRemodAdd','MoSold','MasVnrArea','Id'], inplace = True) "
   ]
  },
  {
   "cell_type": "raw",
   "id": "cfd24d2c-462d-43f9-b5b7-aca384c94b8c",
   "metadata": {},
   "source": [
    "Replace values for Python interpretation "
   ]
  },
  {
   "cell_type": "code",
   "execution_count": 5,
   "id": "eeb35432-7826-4362-b92c-860b3ad7b45e",
   "metadata": {
    "tags": []
   },
   "outputs": [],
   "source": [
    "df['Alley'].fillna('NAA', inplace = True)"
   ]
  },
  {
   "cell_type": "code",
   "execution_count": 6,
   "id": "5cb336d2-e5b3-41de-920a-60fdc06dae1c",
   "metadata": {
    "tags": []
   },
   "outputs": [],
   "source": [
    "df['PoolQC'].fillna('NP', inplace = True)"
   ]
  },
  {
   "cell_type": "code",
   "execution_count": 7,
   "id": "e05a23b6-fdc1-4e05-9cff-4814d567482b",
   "metadata": {
    "tags": []
   },
   "outputs": [],
   "source": [
    "df['BsmtQual'].fillna('NB', inplace = True)"
   ]
  },
  {
   "cell_type": "code",
   "execution_count": 8,
   "id": "08caa59f-8733-437a-9b67-190d53f4fd6b",
   "metadata": {
    "tags": []
   },
   "outputs": [],
   "source": [
    "df['BsmtCond'].fillna('NB', inplace = True)"
   ]
  },
  {
   "cell_type": "code",
   "execution_count": 9,
   "id": "d9b3e8f8-d47c-4203-8c9e-ae8b30358492",
   "metadata": {
    "tags": []
   },
   "outputs": [],
   "source": [
    "df['BsmtExposure'].fillna('NB', inplace = True)"
   ]
  },
  {
   "cell_type": "code",
   "execution_count": 10,
   "id": "0d0c5dc4-18e8-47db-8419-d4b48096d1d1",
   "metadata": {
    "tags": []
   },
   "outputs": [],
   "source": [
    "df['BsmtFinType1'].fillna('NB', inplace = True)"
   ]
  },
  {
   "cell_type": "code",
   "execution_count": 11,
   "id": "5682b084-7266-4073-b797-322576c45ebf",
   "metadata": {
    "tags": []
   },
   "outputs": [],
   "source": [
    "df['BsmtFinType2'].fillna('NB', inplace = True)"
   ]
  },
  {
   "cell_type": "code",
   "execution_count": 12,
   "id": "4303f89b-3b9a-4404-b044-2473a8866dc1",
   "metadata": {
    "tags": []
   },
   "outputs": [],
   "source": [
    "df['FireplaceQu'].fillna('NF', inplace = True)"
   ]
  },
  {
   "cell_type": "code",
   "execution_count": 13,
   "id": "699f571f-d741-4e59-bb73-20eb33e71cdc",
   "metadata": {
    "tags": []
   },
   "outputs": [],
   "source": [
    "df['GarageType'].fillna('NG', inplace = True)"
   ]
  },
  {
   "cell_type": "code",
   "execution_count": 14,
   "id": "c9eed0d9-801e-42ee-b546-008a427deda1",
   "metadata": {
    "tags": []
   },
   "outputs": [],
   "source": [
    "df['GarageFinish'].fillna('NG', inplace = True)"
   ]
  },
  {
   "cell_type": "code",
   "execution_count": 15,
   "id": "80f5bac8-5093-4ef0-b77c-f2329b8436a0",
   "metadata": {
    "tags": []
   },
   "outputs": [],
   "source": [
    "df['GarageQual'].fillna('NG', inplace = True)"
   ]
  },
  {
   "cell_type": "code",
   "execution_count": 16,
   "id": "0b7bb028-e863-4929-9e41-1e17e7195d9d",
   "metadata": {
    "tags": []
   },
   "outputs": [],
   "source": [
    "df['GarageCond'].fillna('NG', inplace = True)"
   ]
  },
  {
   "cell_type": "code",
   "execution_count": 17,
   "id": "281a1486-df37-43ff-8836-697dbe4c6854",
   "metadata": {
    "tags": []
   },
   "outputs": [],
   "source": [
    "df['PoolQC'].fillna('NP', inplace  = True)"
   ]
  },
  {
   "cell_type": "code",
   "execution_count": 18,
   "id": "45f1468b-14b8-4d06-be8b-844c9a89f237",
   "metadata": {
    "tags": []
   },
   "outputs": [],
   "source": [
    "df['Fence'].fillna('NF', inplace  = True)"
   ]
  },
  {
   "cell_type": "code",
   "execution_count": 19,
   "id": "252b4eb4-65ce-4719-b210-59045de832b1",
   "metadata": {
    "tags": []
   },
   "outputs": [],
   "source": [
    "df['MiscFeature'].fillna('None', inplace  = True)"
   ]
  },
  {
   "cell_type": "code",
   "execution_count": 20,
   "id": "94f6c6b9-53f7-42b4-8b66-d75934d10fb4",
   "metadata": {
    "tags": []
   },
   "outputs": [],
   "source": [
    "variables_to_fill = ['WoodDeckSF', 'OpenPorchSF', 'EnclosedPorch', '3SsnPorch','ScreenPorch','PoolArea','GarageCars','GarageArea','Fireplaces','MiscVal','LotFrontage']"
   ]
  },
  {
   "cell_type": "code",
   "execution_count": 21,
   "id": "e1752aab-f6c3-459f-a143-5d32ad0ec349",
   "metadata": {
    "tags": []
   },
   "outputs": [],
   "source": [
    "df[variables_to_fill]=df[variables_to_fill].fillna(0)"
   ]
  },
  {
   "cell_type": "code",
   "execution_count": 22,
   "id": "5a66e845-6169-436b-9741-9ed8e9f293f6",
   "metadata": {
    "tags": []
   },
   "outputs": [
    {
     "data": {
      "text/plain": [
       "WoodDeckSF  OpenPorchSF  EnclosedPorch  3SsnPorch  ScreenPorch  PoolArea  GarageCars  GarageArea  Fireplaces  MiscVal  LotFrontage\n",
       "False       False        False          False      False        False     False       False       False       False    False          1460\n",
       "Name: count, dtype: int64"
      ]
     },
     "execution_count": 22,
     "metadata": {},
     "output_type": "execute_result"
    }
   ],
   "source": [
    "df[variables_to_fill].isna().value_counts()"
   ]
  },
  {
   "cell_type": "code",
   "execution_count": 23,
   "id": "9d072f08-1c9f-4a33-bc07-c397c21b0116",
   "metadata": {
    "tags": []
   },
   "outputs": [
    {
     "data": {
      "text/html": [
       "<div>\n",
       "<style scoped>\n",
       "    .dataframe tbody tr th:only-of-type {\n",
       "        vertical-align: middle;\n",
       "    }\n",
       "\n",
       "    .dataframe tbody tr th {\n",
       "        vertical-align: top;\n",
       "    }\n",
       "\n",
       "    .dataframe thead th {\n",
       "        text-align: right;\n",
       "    }\n",
       "</style>\n",
       "<table border=\"1\" class=\"dataframe\">\n",
       "  <thead>\n",
       "    <tr style=\"text-align: right;\">\n",
       "      <th></th>\n",
       "      <th>MSSubClass</th>\n",
       "      <th>MSZoning</th>\n",
       "      <th>LotFrontage</th>\n",
       "      <th>LotArea</th>\n",
       "      <th>Street</th>\n",
       "      <th>Alley</th>\n",
       "      <th>LotShape</th>\n",
       "      <th>LandContour</th>\n",
       "      <th>Utilities</th>\n",
       "      <th>LotConfig</th>\n",
       "      <th>...</th>\n",
       "      <th>3SsnPorch</th>\n",
       "      <th>ScreenPorch</th>\n",
       "      <th>PoolArea</th>\n",
       "      <th>PoolQC</th>\n",
       "      <th>Fence</th>\n",
       "      <th>MiscFeature</th>\n",
       "      <th>MiscVal</th>\n",
       "      <th>SaleType</th>\n",
       "      <th>SaleCondition</th>\n",
       "      <th>SalePrice</th>\n",
       "    </tr>\n",
       "  </thead>\n",
       "  <tbody>\n",
       "    <tr>\n",
       "      <th>0</th>\n",
       "      <td>60</td>\n",
       "      <td>RL</td>\n",
       "      <td>65.0</td>\n",
       "      <td>8450</td>\n",
       "      <td>Pave</td>\n",
       "      <td>NAA</td>\n",
       "      <td>Reg</td>\n",
       "      <td>Lvl</td>\n",
       "      <td>AllPub</td>\n",
       "      <td>Inside</td>\n",
       "      <td>...</td>\n",
       "      <td>0</td>\n",
       "      <td>0</td>\n",
       "      <td>0</td>\n",
       "      <td>NP</td>\n",
       "      <td>NF</td>\n",
       "      <td>None</td>\n",
       "      <td>0</td>\n",
       "      <td>WD</td>\n",
       "      <td>Normal</td>\n",
       "      <td>208500</td>\n",
       "    </tr>\n",
       "    <tr>\n",
       "      <th>1</th>\n",
       "      <td>20</td>\n",
       "      <td>RL</td>\n",
       "      <td>80.0</td>\n",
       "      <td>9600</td>\n",
       "      <td>Pave</td>\n",
       "      <td>NAA</td>\n",
       "      <td>Reg</td>\n",
       "      <td>Lvl</td>\n",
       "      <td>AllPub</td>\n",
       "      <td>FR2</td>\n",
       "      <td>...</td>\n",
       "      <td>0</td>\n",
       "      <td>0</td>\n",
       "      <td>0</td>\n",
       "      <td>NP</td>\n",
       "      <td>NF</td>\n",
       "      <td>None</td>\n",
       "      <td>0</td>\n",
       "      <td>WD</td>\n",
       "      <td>Normal</td>\n",
       "      <td>181500</td>\n",
       "    </tr>\n",
       "    <tr>\n",
       "      <th>2</th>\n",
       "      <td>60</td>\n",
       "      <td>RL</td>\n",
       "      <td>68.0</td>\n",
       "      <td>11250</td>\n",
       "      <td>Pave</td>\n",
       "      <td>NAA</td>\n",
       "      <td>IR1</td>\n",
       "      <td>Lvl</td>\n",
       "      <td>AllPub</td>\n",
       "      <td>Inside</td>\n",
       "      <td>...</td>\n",
       "      <td>0</td>\n",
       "      <td>0</td>\n",
       "      <td>0</td>\n",
       "      <td>NP</td>\n",
       "      <td>NF</td>\n",
       "      <td>None</td>\n",
       "      <td>0</td>\n",
       "      <td>WD</td>\n",
       "      <td>Normal</td>\n",
       "      <td>223500</td>\n",
       "    </tr>\n",
       "    <tr>\n",
       "      <th>3</th>\n",
       "      <td>70</td>\n",
       "      <td>RL</td>\n",
       "      <td>60.0</td>\n",
       "      <td>9550</td>\n",
       "      <td>Pave</td>\n",
       "      <td>NAA</td>\n",
       "      <td>IR1</td>\n",
       "      <td>Lvl</td>\n",
       "      <td>AllPub</td>\n",
       "      <td>Corner</td>\n",
       "      <td>...</td>\n",
       "      <td>0</td>\n",
       "      <td>0</td>\n",
       "      <td>0</td>\n",
       "      <td>NP</td>\n",
       "      <td>NF</td>\n",
       "      <td>None</td>\n",
       "      <td>0</td>\n",
       "      <td>WD</td>\n",
       "      <td>Abnorml</td>\n",
       "      <td>140000</td>\n",
       "    </tr>\n",
       "    <tr>\n",
       "      <th>4</th>\n",
       "      <td>60</td>\n",
       "      <td>RL</td>\n",
       "      <td>84.0</td>\n",
       "      <td>14260</td>\n",
       "      <td>Pave</td>\n",
       "      <td>NAA</td>\n",
       "      <td>IR1</td>\n",
       "      <td>Lvl</td>\n",
       "      <td>AllPub</td>\n",
       "      <td>FR2</td>\n",
       "      <td>...</td>\n",
       "      <td>0</td>\n",
       "      <td>0</td>\n",
       "      <td>0</td>\n",
       "      <td>NP</td>\n",
       "      <td>NF</td>\n",
       "      <td>None</td>\n",
       "      <td>0</td>\n",
       "      <td>WD</td>\n",
       "      <td>Normal</td>\n",
       "      <td>250000</td>\n",
       "    </tr>\n",
       "  </tbody>\n",
       "</table>\n",
       "<p>5 rows × 74 columns</p>\n",
       "</div>"
      ],
      "text/plain": [
       "   MSSubClass MSZoning  LotFrontage  LotArea Street Alley LotShape  \\\n",
       "0          60       RL         65.0     8450   Pave   NAA      Reg   \n",
       "1          20       RL         80.0     9600   Pave   NAA      Reg   \n",
       "2          60       RL         68.0    11250   Pave   NAA      IR1   \n",
       "3          70       RL         60.0     9550   Pave   NAA      IR1   \n",
       "4          60       RL         84.0    14260   Pave   NAA      IR1   \n",
       "\n",
       "  LandContour Utilities LotConfig  ... 3SsnPorch ScreenPorch PoolArea PoolQC  \\\n",
       "0         Lvl    AllPub    Inside  ...         0           0        0     NP   \n",
       "1         Lvl    AllPub       FR2  ...         0           0        0     NP   \n",
       "2         Lvl    AllPub    Inside  ...         0           0        0     NP   \n",
       "3         Lvl    AllPub    Corner  ...         0           0        0     NP   \n",
       "4         Lvl    AllPub       FR2  ...         0           0        0     NP   \n",
       "\n",
       "  Fence MiscFeature  MiscVal  SaleType  SaleCondition SalePrice  \n",
       "0    NF        None        0        WD         Normal    208500  \n",
       "1    NF        None        0        WD         Normal    181500  \n",
       "2    NF        None        0        WD         Normal    223500  \n",
       "3    NF        None        0        WD        Abnorml    140000  \n",
       "4    NF        None        0        WD         Normal    250000  \n",
       "\n",
       "[5 rows x 74 columns]"
      ]
     },
     "execution_count": 23,
     "metadata": {},
     "output_type": "execute_result"
    }
   ],
   "source": [
    "df.head()"
   ]
  },
  {
   "cell_type": "code",
   "execution_count": 24,
   "id": "72a015a4-dbc3-4dd6-98f8-bdc4a5ad2912",
   "metadata": {
    "tags": []
   },
   "outputs": [
    {
     "name": "stdout",
     "output_type": "stream",
     "text": [
      "<class 'pandas.core.frame.DataFrame'>\n",
      "RangeIndex: 1460 entries, 0 to 1459\n",
      "Data columns (total 74 columns):\n",
      " #   Column         Non-Null Count  Dtype  \n",
      "---  ------         --------------  -----  \n",
      " 0   MSSubClass     1460 non-null   int64  \n",
      " 1   MSZoning       1460 non-null   object \n",
      " 2   LotFrontage    1460 non-null   float64\n",
      " 3   LotArea        1460 non-null   int64  \n",
      " 4   Street         1460 non-null   object \n",
      " 5   Alley          1460 non-null   object \n",
      " 6   LotShape       1460 non-null   object \n",
      " 7   LandContour    1460 non-null   object \n",
      " 8   Utilities      1460 non-null   object \n",
      " 9   LotConfig      1460 non-null   object \n",
      " 10  LandSlope      1460 non-null   object \n",
      " 11  Neighborhood   1460 non-null   object \n",
      " 12  Condition1     1460 non-null   object \n",
      " 13  Condition2     1460 non-null   object \n",
      " 14  BldgType       1460 non-null   object \n",
      " 15  HouseStyle     1460 non-null   object \n",
      " 16  OverallQual    1460 non-null   int64  \n",
      " 17  OverallCond    1460 non-null   int64  \n",
      " 18  YearBuilt      1460 non-null   int64  \n",
      " 19  RoofStyle      1460 non-null   object \n",
      " 20  RoofMatl       1460 non-null   object \n",
      " 21  Exterior1st    1460 non-null   object \n",
      " 22  Exterior2nd    1460 non-null   object \n",
      " 23  ExterQual      1460 non-null   object \n",
      " 24  ExterCond      1460 non-null   object \n",
      " 25  Foundation     1460 non-null   object \n",
      " 26  BsmtQual       1460 non-null   object \n",
      " 27  BsmtCond       1460 non-null   object \n",
      " 28  BsmtExposure   1460 non-null   object \n",
      " 29  BsmtFinType1   1460 non-null   object \n",
      " 30  BsmtFinSF1     1460 non-null   int64  \n",
      " 31  BsmtFinType2   1460 non-null   object \n",
      " 32  BsmtFinSF2     1460 non-null   int64  \n",
      " 33  BsmtUnfSF      1460 non-null   int64  \n",
      " 34  TotalBsmtSF    1460 non-null   int64  \n",
      " 35  Heating        1460 non-null   object \n",
      " 36  HeatingQC      1460 non-null   object \n",
      " 37  CentralAir     1460 non-null   object \n",
      " 38  Electrical     1459 non-null   object \n",
      " 39  1stFlrSF       1460 non-null   int64  \n",
      " 40  2ndFlrSF       1460 non-null   int64  \n",
      " 41  LowQualFinSF   1460 non-null   int64  \n",
      " 42  GrLivArea      1460 non-null   int64  \n",
      " 43  BsmtFullBath   1460 non-null   int64  \n",
      " 44  BsmtHalfBath   1460 non-null   int64  \n",
      " 45  FullBath       1460 non-null   int64  \n",
      " 46  HalfBath       1460 non-null   int64  \n",
      " 47  BedroomAbvGr   1460 non-null   int64  \n",
      " 48  KitchenAbvGr   1460 non-null   int64  \n",
      " 49  KitchenQual    1460 non-null   object \n",
      " 50  TotRmsAbvGrd   1460 non-null   int64  \n",
      " 51  Functional     1460 non-null   object \n",
      " 52  Fireplaces     1460 non-null   int64  \n",
      " 53  FireplaceQu    1460 non-null   object \n",
      " 54  GarageType     1460 non-null   object \n",
      " 55  GarageFinish   1460 non-null   object \n",
      " 56  GarageCars     1460 non-null   int64  \n",
      " 57  GarageArea     1460 non-null   int64  \n",
      " 58  GarageQual     1460 non-null   object \n",
      " 59  GarageCond     1460 non-null   object \n",
      " 60  PavedDrive     1460 non-null   object \n",
      " 61  WoodDeckSF     1460 non-null   int64  \n",
      " 62  OpenPorchSF    1460 non-null   int64  \n",
      " 63  EnclosedPorch  1460 non-null   int64  \n",
      " 64  3SsnPorch      1460 non-null   int64  \n",
      " 65  ScreenPorch    1460 non-null   int64  \n",
      " 66  PoolArea       1460 non-null   int64  \n",
      " 67  PoolQC         1460 non-null   object \n",
      " 68  Fence          1460 non-null   object \n",
      " 69  MiscFeature    1460 non-null   object \n",
      " 70  MiscVal        1460 non-null   int64  \n",
      " 71  SaleType       1460 non-null   object \n",
      " 72  SaleCondition  1460 non-null   object \n",
      " 73  SalePrice      1460 non-null   int64  \n",
      "dtypes: float64(1), int64(31), object(42)\n",
      "memory usage: 844.2+ KB\n"
     ]
    }
   ],
   "source": [
    "df.info()"
   ]
  },
  {
   "cell_type": "code",
   "execution_count": 25,
   "id": "29bf4502-b41e-4b19-9ed6-48d73a72b3bd",
   "metadata": {
    "tags": []
   },
   "outputs": [],
   "source": [
    "df.dropna(axis = 'index', subset=['Electrical'],inplace  = True)"
   ]
  },
  {
   "cell_type": "code",
   "execution_count": 26,
   "id": "9a9979bd-c9a2-4a57-9a8e-131afb4a5e18",
   "metadata": {
    "tags": []
   },
   "outputs": [
    {
     "name": "stdout",
     "output_type": "stream",
     "text": [
      "<class 'pandas.core.frame.DataFrame'>\n",
      "Index: 1459 entries, 0 to 1459\n",
      "Data columns (total 74 columns):\n",
      " #   Column         Non-Null Count  Dtype  \n",
      "---  ------         --------------  -----  \n",
      " 0   MSSubClass     1459 non-null   int64  \n",
      " 1   MSZoning       1459 non-null   object \n",
      " 2   LotFrontage    1459 non-null   float64\n",
      " 3   LotArea        1459 non-null   int64  \n",
      " 4   Street         1459 non-null   object \n",
      " 5   Alley          1459 non-null   object \n",
      " 6   LotShape       1459 non-null   object \n",
      " 7   LandContour    1459 non-null   object \n",
      " 8   Utilities      1459 non-null   object \n",
      " 9   LotConfig      1459 non-null   object \n",
      " 10  LandSlope      1459 non-null   object \n",
      " 11  Neighborhood   1459 non-null   object \n",
      " 12  Condition1     1459 non-null   object \n",
      " 13  Condition2     1459 non-null   object \n",
      " 14  BldgType       1459 non-null   object \n",
      " 15  HouseStyle     1459 non-null   object \n",
      " 16  OverallQual    1459 non-null   int64  \n",
      " 17  OverallCond    1459 non-null   int64  \n",
      " 18  YearBuilt      1459 non-null   int64  \n",
      " 19  RoofStyle      1459 non-null   object \n",
      " 20  RoofMatl       1459 non-null   object \n",
      " 21  Exterior1st    1459 non-null   object \n",
      " 22  Exterior2nd    1459 non-null   object \n",
      " 23  ExterQual      1459 non-null   object \n",
      " 24  ExterCond      1459 non-null   object \n",
      " 25  Foundation     1459 non-null   object \n",
      " 26  BsmtQual       1459 non-null   object \n",
      " 27  BsmtCond       1459 non-null   object \n",
      " 28  BsmtExposure   1459 non-null   object \n",
      " 29  BsmtFinType1   1459 non-null   object \n",
      " 30  BsmtFinSF1     1459 non-null   int64  \n",
      " 31  BsmtFinType2   1459 non-null   object \n",
      " 32  BsmtFinSF2     1459 non-null   int64  \n",
      " 33  BsmtUnfSF      1459 non-null   int64  \n",
      " 34  TotalBsmtSF    1459 non-null   int64  \n",
      " 35  Heating        1459 non-null   object \n",
      " 36  HeatingQC      1459 non-null   object \n",
      " 37  CentralAir     1459 non-null   object \n",
      " 38  Electrical     1459 non-null   object \n",
      " 39  1stFlrSF       1459 non-null   int64  \n",
      " 40  2ndFlrSF       1459 non-null   int64  \n",
      " 41  LowQualFinSF   1459 non-null   int64  \n",
      " 42  GrLivArea      1459 non-null   int64  \n",
      " 43  BsmtFullBath   1459 non-null   int64  \n",
      " 44  BsmtHalfBath   1459 non-null   int64  \n",
      " 45  FullBath       1459 non-null   int64  \n",
      " 46  HalfBath       1459 non-null   int64  \n",
      " 47  BedroomAbvGr   1459 non-null   int64  \n",
      " 48  KitchenAbvGr   1459 non-null   int64  \n",
      " 49  KitchenQual    1459 non-null   object \n",
      " 50  TotRmsAbvGrd   1459 non-null   int64  \n",
      " 51  Functional     1459 non-null   object \n",
      " 52  Fireplaces     1459 non-null   int64  \n",
      " 53  FireplaceQu    1459 non-null   object \n",
      " 54  GarageType     1459 non-null   object \n",
      " 55  GarageFinish   1459 non-null   object \n",
      " 56  GarageCars     1459 non-null   int64  \n",
      " 57  GarageArea     1459 non-null   int64  \n",
      " 58  GarageQual     1459 non-null   object \n",
      " 59  GarageCond     1459 non-null   object \n",
      " 60  PavedDrive     1459 non-null   object \n",
      " 61  WoodDeckSF     1459 non-null   int64  \n",
      " 62  OpenPorchSF    1459 non-null   int64  \n",
      " 63  EnclosedPorch  1459 non-null   int64  \n",
      " 64  3SsnPorch      1459 non-null   int64  \n",
      " 65  ScreenPorch    1459 non-null   int64  \n",
      " 66  PoolArea       1459 non-null   int64  \n",
      " 67  PoolQC         1459 non-null   object \n",
      " 68  Fence          1459 non-null   object \n",
      " 69  MiscFeature    1459 non-null   object \n",
      " 70  MiscVal        1459 non-null   int64  \n",
      " 71  SaleType       1459 non-null   object \n",
      " 72  SaleCondition  1459 non-null   object \n",
      " 73  SalePrice      1459 non-null   int64  \n",
      "dtypes: float64(1), int64(31), object(42)\n",
      "memory usage: 854.9+ KB\n"
     ]
    }
   ],
   "source": [
    "df.info()"
   ]
  },
  {
   "cell_type": "raw",
   "id": "8b4b9cc9-6eca-4844-961f-cd01f5af6356",
   "metadata": {},
   "source": [
    "Descriptive statistic"
   ]
  },
  {
   "cell_type": "code",
   "execution_count": 27,
   "id": "e1f9fb20-5847-4c5c-8d55-e3053047e1cb",
   "metadata": {
    "tags": []
   },
   "outputs": [
    {
     "data": {
      "text/html": [
       "<div>\n",
       "<style scoped>\n",
       "    .dataframe tbody tr th:only-of-type {\n",
       "        vertical-align: middle;\n",
       "    }\n",
       "\n",
       "    .dataframe tbody tr th {\n",
       "        vertical-align: top;\n",
       "    }\n",
       "\n",
       "    .dataframe thead th {\n",
       "        text-align: right;\n",
       "    }\n",
       "</style>\n",
       "<table border=\"1\" class=\"dataframe\">\n",
       "  <thead>\n",
       "    <tr style=\"text-align: right;\">\n",
       "      <th></th>\n",
       "      <th>MSSubClass</th>\n",
       "      <th>LotFrontage</th>\n",
       "      <th>LotArea</th>\n",
       "      <th>OverallQual</th>\n",
       "      <th>OverallCond</th>\n",
       "      <th>YearBuilt</th>\n",
       "      <th>BsmtFinSF1</th>\n",
       "      <th>BsmtFinSF2</th>\n",
       "      <th>BsmtUnfSF</th>\n",
       "      <th>TotalBsmtSF</th>\n",
       "      <th>...</th>\n",
       "      <th>GarageCars</th>\n",
       "      <th>GarageArea</th>\n",
       "      <th>WoodDeckSF</th>\n",
       "      <th>OpenPorchSF</th>\n",
       "      <th>EnclosedPorch</th>\n",
       "      <th>3SsnPorch</th>\n",
       "      <th>ScreenPorch</th>\n",
       "      <th>PoolArea</th>\n",
       "      <th>MiscVal</th>\n",
       "      <th>SalePrice</th>\n",
       "    </tr>\n",
       "  </thead>\n",
       "  <tbody>\n",
       "    <tr>\n",
       "      <th>count</th>\n",
       "      <td>1459.000000</td>\n",
       "      <td>1459.000000</td>\n",
       "      <td>1459.000000</td>\n",
       "      <td>1459.000000</td>\n",
       "      <td>1459.000000</td>\n",
       "      <td>1459.000000</td>\n",
       "      <td>1459.000000</td>\n",
       "      <td>1459.000000</td>\n",
       "      <td>1459.000000</td>\n",
       "      <td>1459.000000</td>\n",
       "      <td>...</td>\n",
       "      <td>1459.000000</td>\n",
       "      <td>1459.000000</td>\n",
       "      <td>1459.000000</td>\n",
       "      <td>1459.000000</td>\n",
       "      <td>1459.000000</td>\n",
       "      <td>1459.000000</td>\n",
       "      <td>1459.000000</td>\n",
       "      <td>1459.000000</td>\n",
       "      <td>1459.000000</td>\n",
       "      <td>1459.000000</td>\n",
       "    </tr>\n",
       "    <tr>\n",
       "      <th>mean</th>\n",
       "      <td>56.881426</td>\n",
       "      <td>57.612748</td>\n",
       "      <td>10517.363948</td>\n",
       "      <td>6.100069</td>\n",
       "      <td>5.575737</td>\n",
       "      <td>1971.244003</td>\n",
       "      <td>443.943797</td>\n",
       "      <td>46.581220</td>\n",
       "      <td>567.366004</td>\n",
       "      <td>1057.891021</td>\n",
       "      <td>...</td>\n",
       "      <td>1.766964</td>\n",
       "      <td>473.030158</td>\n",
       "      <td>94.240576</td>\n",
       "      <td>46.692255</td>\n",
       "      <td>21.969157</td>\n",
       "      <td>3.411926</td>\n",
       "      <td>15.071282</td>\n",
       "      <td>2.760795</td>\n",
       "      <td>43.518849</td>\n",
       "      <td>180930.394791</td>\n",
       "    </tr>\n",
       "    <tr>\n",
       "      <th>std</th>\n",
       "      <td>42.310746</td>\n",
       "      <td>34.673850</td>\n",
       "      <td>9984.666267</td>\n",
       "      <td>1.383171</td>\n",
       "      <td>1.113079</td>\n",
       "      <td>30.199555</td>\n",
       "      <td>456.106417</td>\n",
       "      <td>161.369977</td>\n",
       "      <td>441.992392</td>\n",
       "      <td>438.500975</td>\n",
       "      <td>...</td>\n",
       "      <td>0.747546</td>\n",
       "      <td>213.869604</td>\n",
       "      <td>125.381679</td>\n",
       "      <td>66.267472</td>\n",
       "      <td>61.137400</td>\n",
       "      <td>29.327247</td>\n",
       "      <td>55.775138</td>\n",
       "      <td>40.191018</td>\n",
       "      <td>496.291826</td>\n",
       "      <td>79468.964025</td>\n",
       "    </tr>\n",
       "    <tr>\n",
       "      <th>min</th>\n",
       "      <td>20.000000</td>\n",
       "      <td>0.000000</td>\n",
       "      <td>1300.000000</td>\n",
       "      <td>1.000000</td>\n",
       "      <td>1.000000</td>\n",
       "      <td>1872.000000</td>\n",
       "      <td>0.000000</td>\n",
       "      <td>0.000000</td>\n",
       "      <td>0.000000</td>\n",
       "      <td>0.000000</td>\n",
       "      <td>...</td>\n",
       "      <td>0.000000</td>\n",
       "      <td>0.000000</td>\n",
       "      <td>0.000000</td>\n",
       "      <td>0.000000</td>\n",
       "      <td>0.000000</td>\n",
       "      <td>0.000000</td>\n",
       "      <td>0.000000</td>\n",
       "      <td>0.000000</td>\n",
       "      <td>0.000000</td>\n",
       "      <td>34900.000000</td>\n",
       "    </tr>\n",
       "    <tr>\n",
       "      <th>25%</th>\n",
       "      <td>20.000000</td>\n",
       "      <td>42.000000</td>\n",
       "      <td>7549.000000</td>\n",
       "      <td>5.000000</td>\n",
       "      <td>5.000000</td>\n",
       "      <td>1954.000000</td>\n",
       "      <td>0.000000</td>\n",
       "      <td>0.000000</td>\n",
       "      <td>223.000000</td>\n",
       "      <td>796.000000</td>\n",
       "      <td>...</td>\n",
       "      <td>1.000000</td>\n",
       "      <td>333.000000</td>\n",
       "      <td>0.000000</td>\n",
       "      <td>0.000000</td>\n",
       "      <td>0.000000</td>\n",
       "      <td>0.000000</td>\n",
       "      <td>0.000000</td>\n",
       "      <td>0.000000</td>\n",
       "      <td>0.000000</td>\n",
       "      <td>129950.000000</td>\n",
       "    </tr>\n",
       "    <tr>\n",
       "      <th>50%</th>\n",
       "      <td>50.000000</td>\n",
       "      <td>63.000000</td>\n",
       "      <td>9477.000000</td>\n",
       "      <td>6.000000</td>\n",
       "      <td>5.000000</td>\n",
       "      <td>1973.000000</td>\n",
       "      <td>384.000000</td>\n",
       "      <td>0.000000</td>\n",
       "      <td>479.000000</td>\n",
       "      <td>992.000000</td>\n",
       "      <td>...</td>\n",
       "      <td>2.000000</td>\n",
       "      <td>480.000000</td>\n",
       "      <td>0.000000</td>\n",
       "      <td>25.000000</td>\n",
       "      <td>0.000000</td>\n",
       "      <td>0.000000</td>\n",
       "      <td>0.000000</td>\n",
       "      <td>0.000000</td>\n",
       "      <td>0.000000</td>\n",
       "      <td>163000.000000</td>\n",
       "    </tr>\n",
       "    <tr>\n",
       "      <th>75%</th>\n",
       "      <td>70.000000</td>\n",
       "      <td>79.000000</td>\n",
       "      <td>11603.000000</td>\n",
       "      <td>7.000000</td>\n",
       "      <td>6.000000</td>\n",
       "      <td>2000.000000</td>\n",
       "      <td>712.500000</td>\n",
       "      <td>0.000000</td>\n",
       "      <td>808.000000</td>\n",
       "      <td>1298.500000</td>\n",
       "      <td>...</td>\n",
       "      <td>2.000000</td>\n",
       "      <td>576.000000</td>\n",
       "      <td>168.000000</td>\n",
       "      <td>68.000000</td>\n",
       "      <td>0.000000</td>\n",
       "      <td>0.000000</td>\n",
       "      <td>0.000000</td>\n",
       "      <td>0.000000</td>\n",
       "      <td>0.000000</td>\n",
       "      <td>214000.000000</td>\n",
       "    </tr>\n",
       "    <tr>\n",
       "      <th>max</th>\n",
       "      <td>190.000000</td>\n",
       "      <td>313.000000</td>\n",
       "      <td>215245.000000</td>\n",
       "      <td>10.000000</td>\n",
       "      <td>9.000000</td>\n",
       "      <td>2010.000000</td>\n",
       "      <td>5644.000000</td>\n",
       "      <td>1474.000000</td>\n",
       "      <td>2336.000000</td>\n",
       "      <td>6110.000000</td>\n",
       "      <td>...</td>\n",
       "      <td>4.000000</td>\n",
       "      <td>1418.000000</td>\n",
       "      <td>857.000000</td>\n",
       "      <td>547.000000</td>\n",
       "      <td>552.000000</td>\n",
       "      <td>508.000000</td>\n",
       "      <td>480.000000</td>\n",
       "      <td>738.000000</td>\n",
       "      <td>15500.000000</td>\n",
       "      <td>755000.000000</td>\n",
       "    </tr>\n",
       "  </tbody>\n",
       "</table>\n",
       "<p>8 rows × 32 columns</p>\n",
       "</div>"
      ],
      "text/plain": [
       "        MSSubClass  LotFrontage        LotArea  OverallQual  OverallCond  \\\n",
       "count  1459.000000  1459.000000    1459.000000  1459.000000  1459.000000   \n",
       "mean     56.881426    57.612748   10517.363948     6.100069     5.575737   \n",
       "std      42.310746    34.673850    9984.666267     1.383171     1.113079   \n",
       "min      20.000000     0.000000    1300.000000     1.000000     1.000000   \n",
       "25%      20.000000    42.000000    7549.000000     5.000000     5.000000   \n",
       "50%      50.000000    63.000000    9477.000000     6.000000     5.000000   \n",
       "75%      70.000000    79.000000   11603.000000     7.000000     6.000000   \n",
       "max     190.000000   313.000000  215245.000000    10.000000     9.000000   \n",
       "\n",
       "         YearBuilt   BsmtFinSF1   BsmtFinSF2    BsmtUnfSF  TotalBsmtSF  ...  \\\n",
       "count  1459.000000  1459.000000  1459.000000  1459.000000  1459.000000  ...   \n",
       "mean   1971.244003   443.943797    46.581220   567.366004  1057.891021  ...   \n",
       "std      30.199555   456.106417   161.369977   441.992392   438.500975  ...   \n",
       "min    1872.000000     0.000000     0.000000     0.000000     0.000000  ...   \n",
       "25%    1954.000000     0.000000     0.000000   223.000000   796.000000  ...   \n",
       "50%    1973.000000   384.000000     0.000000   479.000000   992.000000  ...   \n",
       "75%    2000.000000   712.500000     0.000000   808.000000  1298.500000  ...   \n",
       "max    2010.000000  5644.000000  1474.000000  2336.000000  6110.000000  ...   \n",
       "\n",
       "        GarageCars   GarageArea   WoodDeckSF  OpenPorchSF  EnclosedPorch  \\\n",
       "count  1459.000000  1459.000000  1459.000000  1459.000000    1459.000000   \n",
       "mean      1.766964   473.030158    94.240576    46.692255      21.969157   \n",
       "std       0.747546   213.869604   125.381679    66.267472      61.137400   \n",
       "min       0.000000     0.000000     0.000000     0.000000       0.000000   \n",
       "25%       1.000000   333.000000     0.000000     0.000000       0.000000   \n",
       "50%       2.000000   480.000000     0.000000    25.000000       0.000000   \n",
       "75%       2.000000   576.000000   168.000000    68.000000       0.000000   \n",
       "max       4.000000  1418.000000   857.000000   547.000000     552.000000   \n",
       "\n",
       "         3SsnPorch  ScreenPorch     PoolArea       MiscVal      SalePrice  \n",
       "count  1459.000000  1459.000000  1459.000000   1459.000000    1459.000000  \n",
       "mean      3.411926    15.071282     2.760795     43.518849  180930.394791  \n",
       "std      29.327247    55.775138    40.191018    496.291826   79468.964025  \n",
       "min       0.000000     0.000000     0.000000      0.000000   34900.000000  \n",
       "25%       0.000000     0.000000     0.000000      0.000000  129950.000000  \n",
       "50%       0.000000     0.000000     0.000000      0.000000  163000.000000  \n",
       "75%       0.000000     0.000000     0.000000      0.000000  214000.000000  \n",
       "max     508.000000   480.000000   738.000000  15500.000000  755000.000000  \n",
       "\n",
       "[8 rows x 32 columns]"
      ]
     },
     "execution_count": 27,
     "metadata": {},
     "output_type": "execute_result"
    }
   ],
   "source": [
    "df.describe()"
   ]
  },
  {
   "cell_type": "code",
   "execution_count": 28,
   "id": "effa6376-21a4-4691-aed0-1f956fdaaec2",
   "metadata": {
    "tags": []
   },
   "outputs": [
    {
     "data": {
      "text/html": [
       "<div>\n",
       "<style scoped>\n",
       "    .dataframe tbody tr th:only-of-type {\n",
       "        vertical-align: middle;\n",
       "    }\n",
       "\n",
       "    .dataframe tbody tr th {\n",
       "        vertical-align: top;\n",
       "    }\n",
       "\n",
       "    .dataframe thead th {\n",
       "        text-align: right;\n",
       "    }\n",
       "</style>\n",
       "<table border=\"1\" class=\"dataframe\">\n",
       "  <thead>\n",
       "    <tr style=\"text-align: right;\">\n",
       "      <th></th>\n",
       "      <th>MSZoning</th>\n",
       "      <th>Street</th>\n",
       "      <th>Alley</th>\n",
       "      <th>LotShape</th>\n",
       "      <th>LandContour</th>\n",
       "      <th>Utilities</th>\n",
       "      <th>LotConfig</th>\n",
       "      <th>LandSlope</th>\n",
       "      <th>Neighborhood</th>\n",
       "      <th>Condition1</th>\n",
       "      <th>...</th>\n",
       "      <th>GarageType</th>\n",
       "      <th>GarageFinish</th>\n",
       "      <th>GarageQual</th>\n",
       "      <th>GarageCond</th>\n",
       "      <th>PavedDrive</th>\n",
       "      <th>PoolQC</th>\n",
       "      <th>Fence</th>\n",
       "      <th>MiscFeature</th>\n",
       "      <th>SaleType</th>\n",
       "      <th>SaleCondition</th>\n",
       "    </tr>\n",
       "  </thead>\n",
       "  <tbody>\n",
       "    <tr>\n",
       "      <th>0</th>\n",
       "      <td>RL</td>\n",
       "      <td>Pave</td>\n",
       "      <td>NAA</td>\n",
       "      <td>Reg</td>\n",
       "      <td>Lvl</td>\n",
       "      <td>AllPub</td>\n",
       "      <td>Inside</td>\n",
       "      <td>Gtl</td>\n",
       "      <td>CollgCr</td>\n",
       "      <td>Norm</td>\n",
       "      <td>...</td>\n",
       "      <td>Attchd</td>\n",
       "      <td>RFn</td>\n",
       "      <td>TA</td>\n",
       "      <td>TA</td>\n",
       "      <td>Y</td>\n",
       "      <td>NP</td>\n",
       "      <td>NF</td>\n",
       "      <td>None</td>\n",
       "      <td>WD</td>\n",
       "      <td>Normal</td>\n",
       "    </tr>\n",
       "    <tr>\n",
       "      <th>1</th>\n",
       "      <td>RL</td>\n",
       "      <td>Pave</td>\n",
       "      <td>NAA</td>\n",
       "      <td>Reg</td>\n",
       "      <td>Lvl</td>\n",
       "      <td>AllPub</td>\n",
       "      <td>FR2</td>\n",
       "      <td>Gtl</td>\n",
       "      <td>Veenker</td>\n",
       "      <td>Feedr</td>\n",
       "      <td>...</td>\n",
       "      <td>Attchd</td>\n",
       "      <td>RFn</td>\n",
       "      <td>TA</td>\n",
       "      <td>TA</td>\n",
       "      <td>Y</td>\n",
       "      <td>NP</td>\n",
       "      <td>NF</td>\n",
       "      <td>None</td>\n",
       "      <td>WD</td>\n",
       "      <td>Normal</td>\n",
       "    </tr>\n",
       "    <tr>\n",
       "      <th>2</th>\n",
       "      <td>RL</td>\n",
       "      <td>Pave</td>\n",
       "      <td>NAA</td>\n",
       "      <td>IR1</td>\n",
       "      <td>Lvl</td>\n",
       "      <td>AllPub</td>\n",
       "      <td>Inside</td>\n",
       "      <td>Gtl</td>\n",
       "      <td>CollgCr</td>\n",
       "      <td>Norm</td>\n",
       "      <td>...</td>\n",
       "      <td>Attchd</td>\n",
       "      <td>RFn</td>\n",
       "      <td>TA</td>\n",
       "      <td>TA</td>\n",
       "      <td>Y</td>\n",
       "      <td>NP</td>\n",
       "      <td>NF</td>\n",
       "      <td>None</td>\n",
       "      <td>WD</td>\n",
       "      <td>Normal</td>\n",
       "    </tr>\n",
       "    <tr>\n",
       "      <th>3</th>\n",
       "      <td>RL</td>\n",
       "      <td>Pave</td>\n",
       "      <td>NAA</td>\n",
       "      <td>IR1</td>\n",
       "      <td>Lvl</td>\n",
       "      <td>AllPub</td>\n",
       "      <td>Corner</td>\n",
       "      <td>Gtl</td>\n",
       "      <td>Crawfor</td>\n",
       "      <td>Norm</td>\n",
       "      <td>...</td>\n",
       "      <td>Detchd</td>\n",
       "      <td>Unf</td>\n",
       "      <td>TA</td>\n",
       "      <td>TA</td>\n",
       "      <td>Y</td>\n",
       "      <td>NP</td>\n",
       "      <td>NF</td>\n",
       "      <td>None</td>\n",
       "      <td>WD</td>\n",
       "      <td>Abnorml</td>\n",
       "    </tr>\n",
       "    <tr>\n",
       "      <th>4</th>\n",
       "      <td>RL</td>\n",
       "      <td>Pave</td>\n",
       "      <td>NAA</td>\n",
       "      <td>IR1</td>\n",
       "      <td>Lvl</td>\n",
       "      <td>AllPub</td>\n",
       "      <td>FR2</td>\n",
       "      <td>Gtl</td>\n",
       "      <td>NoRidge</td>\n",
       "      <td>Norm</td>\n",
       "      <td>...</td>\n",
       "      <td>Attchd</td>\n",
       "      <td>RFn</td>\n",
       "      <td>TA</td>\n",
       "      <td>TA</td>\n",
       "      <td>Y</td>\n",
       "      <td>NP</td>\n",
       "      <td>NF</td>\n",
       "      <td>None</td>\n",
       "      <td>WD</td>\n",
       "      <td>Normal</td>\n",
       "    </tr>\n",
       "    <tr>\n",
       "      <th>...</th>\n",
       "      <td>...</td>\n",
       "      <td>...</td>\n",
       "      <td>...</td>\n",
       "      <td>...</td>\n",
       "      <td>...</td>\n",
       "      <td>...</td>\n",
       "      <td>...</td>\n",
       "      <td>...</td>\n",
       "      <td>...</td>\n",
       "      <td>...</td>\n",
       "      <td>...</td>\n",
       "      <td>...</td>\n",
       "      <td>...</td>\n",
       "      <td>...</td>\n",
       "      <td>...</td>\n",
       "      <td>...</td>\n",
       "      <td>...</td>\n",
       "      <td>...</td>\n",
       "      <td>...</td>\n",
       "      <td>...</td>\n",
       "      <td>...</td>\n",
       "    </tr>\n",
       "    <tr>\n",
       "      <th>1455</th>\n",
       "      <td>RL</td>\n",
       "      <td>Pave</td>\n",
       "      <td>NAA</td>\n",
       "      <td>Reg</td>\n",
       "      <td>Lvl</td>\n",
       "      <td>AllPub</td>\n",
       "      <td>Inside</td>\n",
       "      <td>Gtl</td>\n",
       "      <td>Gilbert</td>\n",
       "      <td>Norm</td>\n",
       "      <td>...</td>\n",
       "      <td>Attchd</td>\n",
       "      <td>RFn</td>\n",
       "      <td>TA</td>\n",
       "      <td>TA</td>\n",
       "      <td>Y</td>\n",
       "      <td>NP</td>\n",
       "      <td>NF</td>\n",
       "      <td>None</td>\n",
       "      <td>WD</td>\n",
       "      <td>Normal</td>\n",
       "    </tr>\n",
       "    <tr>\n",
       "      <th>1456</th>\n",
       "      <td>RL</td>\n",
       "      <td>Pave</td>\n",
       "      <td>NAA</td>\n",
       "      <td>Reg</td>\n",
       "      <td>Lvl</td>\n",
       "      <td>AllPub</td>\n",
       "      <td>Inside</td>\n",
       "      <td>Gtl</td>\n",
       "      <td>NWAmes</td>\n",
       "      <td>Norm</td>\n",
       "      <td>...</td>\n",
       "      <td>Attchd</td>\n",
       "      <td>Unf</td>\n",
       "      <td>TA</td>\n",
       "      <td>TA</td>\n",
       "      <td>Y</td>\n",
       "      <td>NP</td>\n",
       "      <td>MnPrv</td>\n",
       "      <td>None</td>\n",
       "      <td>WD</td>\n",
       "      <td>Normal</td>\n",
       "    </tr>\n",
       "    <tr>\n",
       "      <th>1457</th>\n",
       "      <td>RL</td>\n",
       "      <td>Pave</td>\n",
       "      <td>NAA</td>\n",
       "      <td>Reg</td>\n",
       "      <td>Lvl</td>\n",
       "      <td>AllPub</td>\n",
       "      <td>Inside</td>\n",
       "      <td>Gtl</td>\n",
       "      <td>Crawfor</td>\n",
       "      <td>Norm</td>\n",
       "      <td>...</td>\n",
       "      <td>Attchd</td>\n",
       "      <td>RFn</td>\n",
       "      <td>TA</td>\n",
       "      <td>TA</td>\n",
       "      <td>Y</td>\n",
       "      <td>NP</td>\n",
       "      <td>GdPrv</td>\n",
       "      <td>Shed</td>\n",
       "      <td>WD</td>\n",
       "      <td>Normal</td>\n",
       "    </tr>\n",
       "    <tr>\n",
       "      <th>1458</th>\n",
       "      <td>RL</td>\n",
       "      <td>Pave</td>\n",
       "      <td>NAA</td>\n",
       "      <td>Reg</td>\n",
       "      <td>Lvl</td>\n",
       "      <td>AllPub</td>\n",
       "      <td>Inside</td>\n",
       "      <td>Gtl</td>\n",
       "      <td>NAmes</td>\n",
       "      <td>Norm</td>\n",
       "      <td>...</td>\n",
       "      <td>Attchd</td>\n",
       "      <td>Unf</td>\n",
       "      <td>TA</td>\n",
       "      <td>TA</td>\n",
       "      <td>Y</td>\n",
       "      <td>NP</td>\n",
       "      <td>NF</td>\n",
       "      <td>None</td>\n",
       "      <td>WD</td>\n",
       "      <td>Normal</td>\n",
       "    </tr>\n",
       "    <tr>\n",
       "      <th>1459</th>\n",
       "      <td>RL</td>\n",
       "      <td>Pave</td>\n",
       "      <td>NAA</td>\n",
       "      <td>Reg</td>\n",
       "      <td>Lvl</td>\n",
       "      <td>AllPub</td>\n",
       "      <td>Inside</td>\n",
       "      <td>Gtl</td>\n",
       "      <td>Edwards</td>\n",
       "      <td>Norm</td>\n",
       "      <td>...</td>\n",
       "      <td>Attchd</td>\n",
       "      <td>Fin</td>\n",
       "      <td>TA</td>\n",
       "      <td>TA</td>\n",
       "      <td>Y</td>\n",
       "      <td>NP</td>\n",
       "      <td>NF</td>\n",
       "      <td>None</td>\n",
       "      <td>WD</td>\n",
       "      <td>Normal</td>\n",
       "    </tr>\n",
       "  </tbody>\n",
       "</table>\n",
       "<p>1459 rows × 42 columns</p>\n",
       "</div>"
      ],
      "text/plain": [
       "     MSZoning Street Alley LotShape LandContour Utilities LotConfig LandSlope  \\\n",
       "0          RL   Pave   NAA      Reg         Lvl    AllPub    Inside       Gtl   \n",
       "1          RL   Pave   NAA      Reg         Lvl    AllPub       FR2       Gtl   \n",
       "2          RL   Pave   NAA      IR1         Lvl    AllPub    Inside       Gtl   \n",
       "3          RL   Pave   NAA      IR1         Lvl    AllPub    Corner       Gtl   \n",
       "4          RL   Pave   NAA      IR1         Lvl    AllPub       FR2       Gtl   \n",
       "...       ...    ...   ...      ...         ...       ...       ...       ...   \n",
       "1455       RL   Pave   NAA      Reg         Lvl    AllPub    Inside       Gtl   \n",
       "1456       RL   Pave   NAA      Reg         Lvl    AllPub    Inside       Gtl   \n",
       "1457       RL   Pave   NAA      Reg         Lvl    AllPub    Inside       Gtl   \n",
       "1458       RL   Pave   NAA      Reg         Lvl    AllPub    Inside       Gtl   \n",
       "1459       RL   Pave   NAA      Reg         Lvl    AllPub    Inside       Gtl   \n",
       "\n",
       "     Neighborhood Condition1  ... GarageType GarageFinish GarageQual  \\\n",
       "0         CollgCr       Norm  ...     Attchd          RFn         TA   \n",
       "1         Veenker      Feedr  ...     Attchd          RFn         TA   \n",
       "2         CollgCr       Norm  ...     Attchd          RFn         TA   \n",
       "3         Crawfor       Norm  ...     Detchd          Unf         TA   \n",
       "4         NoRidge       Norm  ...     Attchd          RFn         TA   \n",
       "...           ...        ...  ...        ...          ...        ...   \n",
       "1455      Gilbert       Norm  ...     Attchd          RFn         TA   \n",
       "1456       NWAmes       Norm  ...     Attchd          Unf         TA   \n",
       "1457      Crawfor       Norm  ...     Attchd          RFn         TA   \n",
       "1458        NAmes       Norm  ...     Attchd          Unf         TA   \n",
       "1459      Edwards       Norm  ...     Attchd          Fin         TA   \n",
       "\n",
       "     GarageCond PavedDrive PoolQC  Fence MiscFeature SaleType SaleCondition  \n",
       "0            TA          Y     NP     NF        None       WD        Normal  \n",
       "1            TA          Y     NP     NF        None       WD        Normal  \n",
       "2            TA          Y     NP     NF        None       WD        Normal  \n",
       "3            TA          Y     NP     NF        None       WD       Abnorml  \n",
       "4            TA          Y     NP     NF        None       WD        Normal  \n",
       "...         ...        ...    ...    ...         ...      ...           ...  \n",
       "1455         TA          Y     NP     NF        None       WD        Normal  \n",
       "1456         TA          Y     NP  MnPrv        None       WD        Normal  \n",
       "1457         TA          Y     NP  GdPrv        Shed       WD        Normal  \n",
       "1458         TA          Y     NP     NF        None       WD        Normal  \n",
       "1459         TA          Y     NP     NF        None       WD        Normal  \n",
       "\n",
       "[1459 rows x 42 columns]"
      ]
     },
     "execution_count": 28,
     "metadata": {},
     "output_type": "execute_result"
    }
   ],
   "source": [
    "df.select_dtypes(include='object')"
   ]
  },
  {
   "cell_type": "code",
   "execution_count": 29,
   "id": "23bc7616-7474-4703-afd2-5e9b3730c08e",
   "metadata": {
    "tags": []
   },
   "outputs": [
    {
     "name": "stdout",
     "output_type": "stream",
     "text": [
      "Series([], dtype: int64)\n"
     ]
    }
   ],
   "source": [
    "unique_counts = df.nunique()\n",
    "unique_counts_equal_to_1 = unique_counts[unique_counts == 1]\n",
    "print(unique_counts_equal_to_1)"
   ]
  },
  {
   "cell_type": "code",
   "execution_count": 30,
   "id": "aed603e3-603f-4b79-8691-ae6e50c8a105",
   "metadata": {
    "tags": []
   },
   "outputs": [
    {
     "data": {
      "image/png": "[encoded data removed]",
      "text/plain": [
       "<Figure size 1000x1000 with 36 Axes>"
      ]
     },
     "metadata": {},
     "output_type": "display_data"
    }
   ],
   "source": [
    "df.hist(figsize=(10,10),color='lightgreen')\n",
    "plt.tight_layout()"
   ]
  },
  {
   "cell_type": "code",
   "execution_count": 31,
   "id": "8db219a2-57c6-4758-a569-23e35e7d183b",
   "metadata": {
    "tags": []
   },
   "outputs": [
    {
     "data": {
      "text/plain": [
       "Text(0.5, 1.0, 'SalePrice')"
      ]
     },
     "execution_count": 31,
     "metadata": {},
     "output_type": "execute_result"
    },
    {
     "data": {
      "image/png": "[encoded data removed]",
      "text/plain": [
       "<Figure size 640x480 with 1 Axes>"
      ]
     },
     "metadata": {},
     "output_type": "display_data"
    }
   ],
   "source": [
    "plt.hist(df[\"SalePrice\"], bins=40)\n",
    "plt.xlabel(\"SalePrice\")\n",
    "plt.title(\"SalePrice\")"
   ]
  },
  {
   "cell_type": "code",
   "execution_count": 32,
   "id": "19271539-f647-4dc1-ac26-106e9fd5a3be",
   "metadata": {
    "tags": []
   },
   "outputs": [
    {
     "name": "stderr",
     "output_type": "stream",
     "text": [
      "/opt/software/lib/python3.10/site-packages/seaborn/axisgrid.py:118: UserWarning: The figure layout has changed to tight\n",
      "  self._figure.tight_layout(*args, **kwargs)\n"
     ]
    },
    {
     "data": {
      "text/plain": [
       "Text(0.5, 9.444444444444438, 'SalePrice')"
      ]
     },
     "execution_count": 32,
     "metadata": {},
     "output_type": "execute_result"
    },
    {
     "data": {
      "image/png": "[encoded data removed]",
      "text/plain": [
       "<Figure size 500x500 with 1 Axes>"
      ]
     },
     "metadata": {},
     "output_type": "display_data"
    }
   ],
   "source": [
    "sns.catplot(data=df, x=\"SalePrice\", y=\"MSZoning\", kind=\"box\")\n",
    "plt.xlabel(\"SalePrice\")"
   ]
  },
  {
   "cell_type": "code",
   "execution_count": 33,
   "id": "f9ab1dbe-e8c0-4eb0-b0ef-6a42ddcaae6f",
   "metadata": {
    "tags": []
   },
   "outputs": [
    {
     "data": {
      "text/plain": [
       "Text(0.5, 0, 'YearBuilt')"
      ]
     },
     "execution_count": 33,
     "metadata": {},
     "output_type": "execute_result"
    },
    {
     "data": {
      "image/png": "[encoded data removed]",
      "text/plain": [
       "<Figure size 640x480 with 1 Axes>"
      ]
     },
     "metadata": {},
     "output_type": "display_data"
    }
   ],
   "source": [
    "sns.lineplot(data=df, x=\"YearBuilt\", y=\"SalePrice\", estimator=\"mean\")\n",
    "plt.xlabel(\"YearBuilt\")"
   ]
  },
  {
   "cell_type": "code",
   "execution_count": 34,
   "id": "1e598248-c73a-4bb8-b23e-f2d993a41491",
   "metadata": {
    "tags": []
   },
   "outputs": [
    {
     "data": {
      "text/plain": [
       "Text(0.5, 0, 'Overallqual')"
      ]
     },
     "execution_count": 34,
     "metadata": {},
     "output_type": "execute_result"
    },
    {
     "data": {
      "image/png": "[encoded data removed]",
      "text/plain": [
       "<Figure size 640x480 with 1 Axes>"
      ]
     },
     "metadata": {},
     "output_type": "display_data"
    }
   ],
   "source": [
    "sns.barplot(data=df, x=\"OverallQual\", y=\"SalePrice\", estimator=\"mean\")\n",
    "plt.xlabel(\"Overallqual\")"
   ]
  },
  {
   "cell_type": "code",
   "execution_count": 35,
   "id": "c20518da-2303-4a65-826f-a581ae30f9ed",
   "metadata": {
    "tags": []
   },
   "outputs": [
    {
     "data": {
      "text/plain": [
       "MSZoning\n",
       "RL         1150\n",
       "RM          218\n",
       "FV           65\n",
       "RH           16\n",
       "C (all)      10\n",
       "Name: count, dtype: int64"
      ]
     },
     "execution_count": 35,
     "metadata": {},
     "output_type": "execute_result"
    }
   ],
   "source": [
    "class_counts = df[\"MSZoning\"].value_counts()\n",
    "class_counts"
   ]
  },
  {
   "cell_type": "code",
   "execution_count": 36,
   "id": "6faf5693-88c2-4184-879b-7edb36927134",
   "metadata": {
    "tags": []
   },
   "outputs": [
    {
     "name": "stderr",
     "output_type": "stream",
     "text": [
      "/tmp/ipykernel_574/149879976.py:2: UserWarning: \n",
      "\n",
      "`distplot` is a deprecated function and will be removed in seaborn v0.14.0.\n",
      "\n",
      "Please adapt your code to use either `displot` (a figure-level function with\n",
      "similar flexibility) or `histplot` (an axes-level function for histograms).\n",
      "\n",
      "For a guide to updating your code to use the new functions, please see\n",
      "https://gist.github.com/mwaskom/de44147ed2974457ad6372750bbe5751\n",
      "\n",
      "  sns.distplot(df['SalePrice'], color='g', bins=100, hist_kws={'alpha': 0.4});\n"
     ]
    },
    {
     "data": {
      "image/png": "[encoded data removed]",
      "text/plain": [
       "<Figure size 900x800 with 1 Axes>"
      ]
     },
     "metadata": {},
     "output_type": "display_data"
    }
   ],
   "source": [
    "plt.figure(figsize=(9, 8))\n",
    "sns.distplot(df['SalePrice'], color='g', bins=100, hist_kws={'alpha': 0.4});"
   ]
  },
  {
   "cell_type": "raw",
   "id": "2710d0a8-e201-4acf-8b45-ecfaff565ac2",
   "metadata": {},
   "source": [
    "One-hot encoding and ordinal encoding for machine learning models"
   ]
  },
  {
   "cell_type": "raw",
   "id": "bcc47d2a-8e47-4209-b1e1-a0d00f42c7dd",
   "metadata": {},
   "source": [
    "One-hot encoding for non-ordinal variables"
   ]
  },
  {
   "cell_type": "code",
   "execution_count": 37,
   "id": "333bb923-e030-4183-bb22-d7299968974e",
   "metadata": {
    "tags": []
   },
   "outputs": [],
   "source": [
    "df = pd.get_dummies(df, columns=[\n",
    "    'MSSubClass',\n",
    "    \"MSZoning\",\n",
    "    \"Street\",\n",
    "    \"Alley\",\n",
    "    \"LotShape\",\n",
    "    \"LotConfig\",\n",
    "    \"LandSlope\",\n",
    "    \"Neighborhood\",\n",
    "    \"Condition1\",\n",
    "    \"Condition2\",\n",
    "    \"BldgType\",\n",
    "    \"HouseStyle\",\n",
    "    \"RoofStyle\",\n",
    "    \"RoofMatl\",\n",
    "    \"Exterior1st\",\n",
    "    \"Exterior2nd\",\n",
    "    \"Foundation\",\n",
    "    \"Heating\",\n",
    "    \"CentralAir\",\n",
    "    \"Electrical\",\n",
    "    \"TotRmsAbvGrd\",\n",
    "    \"GarageType\",\n",
    "    \"PavedDrive\",\n",
    "    \"MiscFeature\",\n",
    "    \"SaleType\",\n",
    "    \"SaleCondition\",\n",
    "    \"LandContour\",\n",
    "    \"Utilities\"   \n",
    "])\n"
   ]
  },
  {
   "cell_type": "code",
   "execution_count": 38,
   "id": "6d47b5d5-b5d7-44bc-8a49-ae7add76601c",
   "metadata": {
    "tags": []
   },
   "outputs": [
    {
     "name": "stdout",
     "output_type": "stream",
     "text": [
      "<class 'pandas.core.frame.DataFrame'>\n",
      "Index: 1459 entries, 0 to 1459\n",
      "Columns: 250 entries, LotFrontage to Utilities_NoSeWa\n",
      "dtypes: bool(204), float64(1), int64(29), object(16)\n",
      "memory usage: 826.4+ KB\n"
     ]
    }
   ],
   "source": [
    "df.info()"
   ]
  },
  {
   "cell_type": "code",
   "execution_count": 39,
   "id": "623d888e-8a88-4361-876e-9e6d86fc1e89",
   "metadata": {
    "tags": []
   },
   "outputs": [],
   "source": [
    "df.reset_index(inplace=True, drop=True)"
   ]
  },
  {
   "cell_type": "code",
   "execution_count": 40,
   "id": "8eaef8bf-c204-415d-b431-a8727d6c90b9",
   "metadata": {
    "tags": []
   },
   "outputs": [
    {
     "name": "stdout",
     "output_type": "stream",
     "text": [
      "<class 'pandas.core.frame.DataFrame'>\n",
      "RangeIndex: 1459 entries, 0 to 1458\n",
      "Columns: 250 entries, LotFrontage to Utilities_NoSeWa\n",
      "dtypes: bool(204), float64(1), int64(29), object(16)\n",
      "memory usage: 815.1+ KB\n"
     ]
    }
   ],
   "source": [
    "df.info()"
   ]
  },
  {
   "cell_type": "raw",
   "id": "e6207431-984d-46c2-a277-26fc61c7d0ac",
   "metadata": {
    "tags": []
   },
   "source": [
    "Encoding for ordinal variables "
   ]
  },
  {
   "cell_type": "code",
   "execution_count": 41,
   "id": "04a3c62c-e4a8-42b5-86c5-d5f30af1543f",
   "metadata": {
    "tags": []
   },
   "outputs": [],
   "source": [
    "ordinal_Ex_Poor = {'Ex': 5, 'Gd': 4, 'TA': 3, 'Fa': 2, 'Po': 1}\n",
    "ordinal_Ex_Poor_NB = {'Ex': 5, 'Gd': 4, 'TA': 3, 'Fa': 2, 'Po': 1, 'NB' : 0}\n",
    "ordinal_Good_Poor_NB = {'Gd': 4, 'Av': 3, 'Mn': 2, 'No': 1, 'NB': 0}\n",
    "ordinal_Good_Unf_NB = {'GLQ': 6, 'ALQ': 5, 'BLQ': 4, 'Rec': 3, 'LwQ': 2, 'Unf': 1, 'NB':0}\n",
    "ordinal_Functional = {'Typ': 7, 'Min1': 6, 'Min2': 5, 'Mod': 4, 'Maj1': 3, 'Maj2': 2, 'Sev':1, 'Sal':0}\n",
    "ordinal_Ex_Poor_NF = {'Ex': 5, 'Gd': 4, 'TA': 3, 'Fa': 2, 'Po': 1, 'NF' : 0}\n",
    "ordinal_Ex_Poor_NG = {'Ex': 5, 'Gd': 4, 'TA': 3, 'Fa': 2, 'Po': 1, 'NG' : 0}\n",
    "ordinal_Ex_Poor_NP = {'Ex': 5, 'Gd': 4, 'TA': 3, 'Fa': 2, 'Po': 1, 'NP' : 0}\n",
    "ordinal_Fence = {'GdPrv': 4, 'MnPrv': 3, 'GdWo': 2, 'MnWw': 1, 'NF': 0}\n",
    "ordinal_Garage_finished = {'Fin': 3, 'RFn': 2, 'Unf': 1, 'NG': 0}"
   ]
  },
  {
   "cell_type": "code",
   "execution_count": 42,
   "id": "40aa4e4c-2616-431a-880c-ff4d013895d8",
   "metadata": {
    "tags": []
   },
   "outputs": [],
   "source": [
    "df['ExterQual_encoded'] = df['ExterQual'].replace(ordinal_Ex_Poor)"
   ]
  },
  {
   "cell_type": "code",
   "execution_count": 43,
   "id": "443db776-d93c-41da-8d75-25294cdf9c40",
   "metadata": {
    "tags": []
   },
   "outputs": [
    {
     "data": {
      "text/plain": [
       "ExterQual_encoded  ExterQual\n",
       "3                  TA           905\n",
       "4                  Gd           488\n",
       "5                  Ex            52\n",
       "2                  Fa            14\n",
       "Name: count, dtype: int64"
      ]
     },
     "execution_count": 43,
     "metadata": {},
     "output_type": "execute_result"
    }
   ],
   "source": [
    "df[['ExterQual_encoded','ExterQual']].value_counts()"
   ]
  },
  {
   "cell_type": "code",
   "execution_count": 44,
   "id": "be3facd6-8021-4903-b932-212c6ca054d3",
   "metadata": {
    "tags": []
   },
   "outputs": [],
   "source": [
    "df['ExterCond_encoded'] = df['ExterCond'].replace(ordinal_Ex_Poor)"
   ]
  },
  {
   "cell_type": "code",
   "execution_count": 45,
   "id": "c29c8cde-2398-4556-8302-918a8d96f975",
   "metadata": {
    "tags": []
   },
   "outputs": [
    {
     "data": {
      "text/plain": [
       "ExterCond_encoded  ExterCond\n",
       "3                  TA           1281\n",
       "4                  Gd            146\n",
       "2                  Fa             28\n",
       "5                  Ex              3\n",
       "1                  Po              1\n",
       "Name: count, dtype: int64"
      ]
     },
     "execution_count": 45,
     "metadata": {},
     "output_type": "execute_result"
    }
   ],
   "source": [
    "df[['ExterCond_encoded','ExterCond']].value_counts()"
   ]
  },
  {
   "cell_type": "code",
   "execution_count": 46,
   "id": "aab8df7f-3055-4641-86b0-2a4f713afca4",
   "metadata": {
    "tags": []
   },
   "outputs": [],
   "source": [
    "df['BsmtQual_encoded'] = df['BsmtQual'].replace(ordinal_Ex_Poor_NB)"
   ]
  },
  {
   "cell_type": "code",
   "execution_count": 47,
   "id": "8cfa7a3f-f029-42c1-8f30-9d837c007de8",
   "metadata": {
    "tags": []
   },
   "outputs": [
    {
     "data": {
      "text/plain": [
       "BsmtQual_encoded  BsmtQual\n",
       "3                 TA          649\n",
       "4                 Gd          617\n",
       "5                 Ex          121\n",
       "0                 NB           37\n",
       "2                 Fa           35\n",
       "Name: count, dtype: int64"
      ]
     },
     "execution_count": 47,
     "metadata": {},
     "output_type": "execute_result"
    }
   ],
   "source": [
    "df[['BsmtQual_encoded','BsmtQual']].value_counts()"
   ]
  },
  {
   "cell_type": "code",
   "execution_count": 48,
   "id": "81913561-b1b3-4390-80c0-f47054bd2c1a",
   "metadata": {
    "tags": []
   },
   "outputs": [],
   "source": [
    "df['BsmtCond_encoded'] = df['BsmtCond'].replace(ordinal_Ex_Poor_NB)"
   ]
  },
  {
   "cell_type": "code",
   "execution_count": 49,
   "id": "302bb597-9539-42a3-98d9-3dce2844f0c2",
   "metadata": {
    "tags": []
   },
   "outputs": [
    {
     "data": {
      "text/plain": [
       "BsmtCond_encoded  BsmtCond\n",
       "3                 TA          1310\n",
       "4                 Gd            65\n",
       "2                 Fa            45\n",
       "0                 NB            37\n",
       "1                 Po             2\n",
       "Name: count, dtype: int64"
      ]
     },
     "execution_count": 49,
     "metadata": {},
     "output_type": "execute_result"
    }
   ],
   "source": [
    "df[['BsmtCond_encoded','BsmtCond']].value_counts()"
   ]
  },
  {
   "cell_type": "code",
   "execution_count": 50,
   "id": "c48ed0b4-2799-4cc4-a828-6bdafc5336b5",
   "metadata": {
    "tags": []
   },
   "outputs": [],
   "source": [
    "df['BsmtExposure_encoded'] = df['BsmtExposure'].replace(ordinal_Good_Poor_NB)"
   ]
  },
  {
   "cell_type": "code",
   "execution_count": 51,
   "id": "b20105ba-6594-45ac-95a3-f693b91095f5",
   "metadata": {
    "tags": []
   },
   "outputs": [
    {
     "data": {
      "text/plain": [
       "BsmtExposure_encoded  BsmtExposure\n",
       "1                     No              952\n",
       "3                     Av              221\n",
       "4                     Gd              134\n",
       "2                     Mn              114\n",
       "0                     NB               38\n",
       "Name: count, dtype: int64"
      ]
     },
     "execution_count": 51,
     "metadata": {},
     "output_type": "execute_result"
    }
   ],
   "source": [
    "df[['BsmtExposure_encoded','BsmtExposure']].value_counts()"
   ]
  },
  {
   "cell_type": "code",
   "execution_count": 52,
   "id": "c021a03a-dabb-4af8-9374-9702bee3c508",
   "metadata": {
    "tags": []
   },
   "outputs": [],
   "source": [
    "df['BsmtFinType1_encoded'] = df['BsmtFinType1'].replace(ordinal_Good_Unf_NB)"
   ]
  },
  {
   "cell_type": "code",
   "execution_count": 53,
   "id": "555d04ae-f9df-4233-b5b0-846df84d1292",
   "metadata": {
    "tags": []
   },
   "outputs": [
    {
     "data": {
      "text/plain": [
       "BsmtFinType1_encoded  BsmtFinType1\n",
       "1                     Unf             429\n",
       "6                     GLQ             418\n",
       "5                     ALQ             220\n",
       "4                     BLQ             148\n",
       "3                     Rec             133\n",
       "2                     LwQ              74\n",
       "0                     NB               37\n",
       "Name: count, dtype: int64"
      ]
     },
     "execution_count": 53,
     "metadata": {},
     "output_type": "execute_result"
    }
   ],
   "source": [
    "df[['BsmtFinType1_encoded','BsmtFinType1']].value_counts()"
   ]
  },
  {
   "cell_type": "code",
   "execution_count": 54,
   "id": "9c966cd2-dd80-445f-8b69-19ca0e22f974",
   "metadata": {
    "tags": []
   },
   "outputs": [],
   "source": [
    "df['BsmtFinType2_encoded'] = df['BsmtFinType2'].replace(ordinal_Good_Unf_NB)"
   ]
  },
  {
   "cell_type": "code",
   "execution_count": 55,
   "id": "42883e16-92f3-4015-a9ac-2e11dda54201",
   "metadata": {
    "tags": []
   },
   "outputs": [
    {
     "data": {
      "text/plain": [
       "BsmtFinType2_encoded  BsmtFinType2\n",
       "1                     Unf             1255\n",
       "3                     Rec               54\n",
       "2                     LwQ               46\n",
       "0                     NB                38\n",
       "4                     BLQ               33\n",
       "5                     ALQ               19\n",
       "6                     GLQ               14\n",
       "Name: count, dtype: int64"
      ]
     },
     "execution_count": 55,
     "metadata": {},
     "output_type": "execute_result"
    }
   ],
   "source": [
    "df[['BsmtFinType2_encoded','BsmtFinType2']].value_counts()"
   ]
  },
  {
   "cell_type": "code",
   "execution_count": 56,
   "id": "7c340260-b65a-4395-91b6-2870123f559d",
   "metadata": {
    "tags": []
   },
   "outputs": [],
   "source": [
    "df['HeatingQC_encoded'] = df['HeatingQC'].replace(ordinal_Ex_Poor)"
   ]
  },
  {
   "cell_type": "code",
   "execution_count": 57,
   "id": "612abed1-7377-4b91-aa84-bee37c8e49e5",
   "metadata": {
    "tags": []
   },
   "outputs": [
    {
     "data": {
      "text/plain": [
       "HeatingQC_encoded  HeatingQC\n",
       "5                  Ex           741\n",
       "3                  TA           428\n",
       "4                  Gd           240\n",
       "2                  Fa            49\n",
       "1                  Po             1\n",
       "Name: count, dtype: int64"
      ]
     },
     "execution_count": 57,
     "metadata": {},
     "output_type": "execute_result"
    }
   ],
   "source": [
    "df[['HeatingQC_encoded','HeatingQC']].value_counts()"
   ]
  },
  {
   "cell_type": "code",
   "execution_count": 58,
   "id": "8723a0ed-3d32-4b7d-8e40-635be1d78ab3",
   "metadata": {
    "tags": []
   },
   "outputs": [],
   "source": [
    "df['KitchenQual_encoded'] = df['KitchenQual'].replace(ordinal_Ex_Poor)"
   ]
  },
  {
   "cell_type": "code",
   "execution_count": 59,
   "id": "32af9165-d087-42f9-9836-599f330b1cc7",
   "metadata": {
    "tags": []
   },
   "outputs": [
    {
     "data": {
      "text/plain": [
       "KitchenQual_encoded  KitchenQual\n",
       "3                    TA             735\n",
       "4                    Gd             585\n",
       "5                    Ex             100\n",
       "2                    Fa              39\n",
       "Name: count, dtype: int64"
      ]
     },
     "execution_count": 59,
     "metadata": {},
     "output_type": "execute_result"
    }
   ],
   "source": [
    "df[['KitchenQual_encoded','KitchenQual']].value_counts()"
   ]
  },
  {
   "cell_type": "code",
   "execution_count": 60,
   "id": "ef2ec265-f164-43e4-880b-f3cb958c591f",
   "metadata": {
    "tags": []
   },
   "outputs": [],
   "source": [
    "df['Functional_encoded'] = df['Functional'].replace(ordinal_Functional)"
   ]
  },
  {
   "cell_type": "code",
   "execution_count": 61,
   "id": "8b26345f-e5f9-4529-bee0-11e6c7c8fca0",
   "metadata": {
    "tags": []
   },
   "outputs": [
    {
     "data": {
      "text/plain": [
       "Functional_encoded  Functional\n",
       "7                   Typ           1359\n",
       "5                   Min2            34\n",
       "6                   Min1            31\n",
       "4                   Mod             15\n",
       "3                   Maj1            14\n",
       "2                   Maj2             5\n",
       "1                   Sev              1\n",
       "Name: count, dtype: int64"
      ]
     },
     "execution_count": 61,
     "metadata": {},
     "output_type": "execute_result"
    }
   ],
   "source": [
    "df[['Functional_encoded','Functional']].value_counts()"
   ]
  },
  {
   "cell_type": "code",
   "execution_count": 62,
   "id": "e6c388b1-4c81-4e3d-b56d-ba1b0ed0383a",
   "metadata": {
    "tags": []
   },
   "outputs": [],
   "source": [
    "df['FireplaceQu_encoded'] = df['FireplaceQu'].replace(ordinal_Ex_Poor_NF)"
   ]
  },
  {
   "cell_type": "code",
   "execution_count": 63,
   "id": "e2a77042-eab0-4c23-917f-b66685cc87eb",
   "metadata": {
    "tags": []
   },
   "outputs": [
    {
     "data": {
      "text/plain": [
       "FireplaceQu_encoded  FireplaceQu\n",
       "0                    NF             689\n",
       "4                    Gd             380\n",
       "3                    TA             313\n",
       "2                    Fa              33\n",
       "5                    Ex              24\n",
       "1                    Po              20\n",
       "Name: count, dtype: int64"
      ]
     },
     "execution_count": 63,
     "metadata": {},
     "output_type": "execute_result"
    }
   ],
   "source": [
    "df[['FireplaceQu_encoded','FireplaceQu']].value_counts()"
   ]
  },
  {
   "cell_type": "code",
   "execution_count": 64,
   "id": "81e154f5-c4d2-4a81-ab0e-a91e7fafc6ba",
   "metadata": {
    "tags": []
   },
   "outputs": [],
   "source": [
    "df['GarageQual_encoded'] = df['GarageQual'].replace(ordinal_Ex_Poor_NG)"
   ]
  },
  {
   "cell_type": "code",
   "execution_count": 65,
   "id": "6b4893b7-610d-4971-894a-6442fee578ea",
   "metadata": {
    "tags": []
   },
   "outputs": [
    {
     "data": {
      "text/plain": [
       "GarageQual_encoded  GarageQual\n",
       "3                   TA            1310\n",
       "0                   NG              81\n",
       "2                   Fa              48\n",
       "4                   Gd              14\n",
       "1                   Po               3\n",
       "5                   Ex               3\n",
       "Name: count, dtype: int64"
      ]
     },
     "execution_count": 65,
     "metadata": {},
     "output_type": "execute_result"
    }
   ],
   "source": [
    "df[['GarageQual_encoded','GarageQual']].value_counts()"
   ]
  },
  {
   "cell_type": "code",
   "execution_count": 66,
   "id": "a47a860d-6758-481f-8abb-0e5c31352d39",
   "metadata": {
    "tags": []
   },
   "outputs": [],
   "source": [
    "df['GarageCond_encoded'] = df['GarageCond'].replace(ordinal_Ex_Poor_NG)"
   ]
  },
  {
   "cell_type": "code",
   "execution_count": 67,
   "id": "eaf296c6-6fee-432c-aada-40eba2861050",
   "metadata": {
    "tags": []
   },
   "outputs": [
    {
     "data": {
      "text/plain": [
       "GarageCond_encoded  GarageCond\n",
       "3                   TA            1325\n",
       "0                   NG              81\n",
       "2                   Fa              35\n",
       "4                   Gd               9\n",
       "1                   Po               7\n",
       "5                   Ex               2\n",
       "Name: count, dtype: int64"
      ]
     },
     "execution_count": 67,
     "metadata": {},
     "output_type": "execute_result"
    }
   ],
   "source": [
    "df[['GarageCond_encoded','GarageCond']].value_counts()"
   ]
  },
  {
   "cell_type": "code",
   "execution_count": 68,
   "id": "37864928-737b-4c60-a06f-3731bf9159a1",
   "metadata": {
    "tags": []
   },
   "outputs": [],
   "source": [
    "df['PoolQC_encoded'] = df['PoolQC'].replace(ordinal_Ex_Poor_NP)"
   ]
  },
  {
   "cell_type": "code",
   "execution_count": 69,
   "id": "4e718d3c-92c8-4d1d-b3ed-a625f379eef1",
   "metadata": {
    "tags": []
   },
   "outputs": [
    {
     "data": {
      "text/plain": [
       "PoolQC_encoded  PoolQC\n",
       "0               NP        1452\n",
       "4               Gd           3\n",
       "2               Fa           2\n",
       "5               Ex           2\n",
       "Name: count, dtype: int64"
      ]
     },
     "execution_count": 69,
     "metadata": {},
     "output_type": "execute_result"
    }
   ],
   "source": [
    "df[['PoolQC_encoded','PoolQC']].value_counts()"
   ]
  },
  {
   "cell_type": "code",
   "execution_count": 70,
   "id": "d4a38b0d-528d-42ab-954b-7563f0f0a018",
   "metadata": {
    "tags": []
   },
   "outputs": [],
   "source": [
    "df['Fence_encoded'] = df['Fence'].replace(ordinal_Fence)"
   ]
  },
  {
   "cell_type": "code",
   "execution_count": 71,
   "id": "3e48fc23-2856-4cb5-8fa1-9cdc7157a512",
   "metadata": {
    "tags": []
   },
   "outputs": [
    {
     "data": {
      "text/plain": [
       "Fence_encoded  Fence\n",
       "0              NF       1178\n",
       "3              MnPrv     157\n",
       "4              GdPrv      59\n",
       "2              GdWo       54\n",
       "1              MnWw       11\n",
       "Name: count, dtype: int64"
      ]
     },
     "execution_count": 71,
     "metadata": {},
     "output_type": "execute_result"
    }
   ],
   "source": [
    "df[['Fence_encoded','Fence']].value_counts()"
   ]
  },
  {
   "cell_type": "code",
   "execution_count": 72,
   "id": "ca7956aa-69cb-4a53-963c-309298e19ceb",
   "metadata": {
    "tags": []
   },
   "outputs": [],
   "source": [
    "df['GarageFinish_encoded'] = df['GarageFinish'].replace(ordinal_Garage_finished)"
   ]
  },
  {
   "cell_type": "code",
   "execution_count": 73,
   "id": "4fd32cb4-a084-4ffe-b8f8-0db01b2b2b97",
   "metadata": {
    "tags": []
   },
   "outputs": [
    {
     "data": {
      "text/plain": [
       "GarageFinish_encoded  GarageFinish\n",
       "1                     Unf             605\n",
       "2                     RFn             422\n",
       "3                     Fin             351\n",
       "0                     NG               81\n",
       "Name: count, dtype: int64"
      ]
     },
     "execution_count": 73,
     "metadata": {},
     "output_type": "execute_result"
    }
   ],
   "source": [
    "df[['GarageFinish_encoded','GarageFinish']].value_counts()"
   ]
  },
  {
   "cell_type": "code",
   "execution_count": 74,
   "id": "2e1cd3ca-6b4e-49d4-a38f-c4b21a0bf610",
   "metadata": {
    "tags": []
   },
   "outputs": [],
   "source": [
    "df.drop(columns = ['Fence',\n",
    "                  'PoolQC',\n",
    "                  'GarageCond',\n",
    "                  'GarageQual',\n",
    "                   'FireplaceQu',\n",
    "                   'Functional',\n",
    "                   'KitchenQual',\n",
    "                   'HeatingQC',\n",
    "                   'BsmtFinType2',\n",
    "                   'BsmtFinType1',\n",
    "                   'BsmtExposure',\n",
    "                   'BsmtCond',\n",
    "                   'BsmtQual',\n",
    "                   'ExterCond',\n",
    "                   'ExterQual',\n",
    "                   'GarageFinish'\n",
    "                  ], inplace = True)"
   ]
  },
  {
   "cell_type": "code",
   "execution_count": 75,
   "id": "3ff9fc72-7536-480e-a959-5c0373230fa9",
   "metadata": {
    "tags": []
   },
   "outputs": [
    {
     "name": "stdout",
     "output_type": "stream",
     "text": [
      "<class 'pandas.core.frame.DataFrame'>\n",
      "RangeIndex: 1459 entries, 0 to 1458\n",
      "Columns: 250 entries, LotFrontage to GarageFinish_encoded\n",
      "dtypes: bool(204), float64(1), int64(45)\n",
      "memory usage: 815.1 KB\n"
     ]
    }
   ],
   "source": [
    "df.info()"
   ]
  },
  {
   "cell_type": "raw",
   "id": "ceedb35e-cc37-4549-a264-91300da66887",
   "metadata": {},
   "source": [
    "Predictive analysis\n"
   ]
  },
  {
   "cell_type": "raw",
   "id": "6c92c41a-d9b7-4c56-a3aa-d8b82487884f",
   "metadata": {},
   "source": [
    "Splitting data set "
   ]
  },
  {
   "cell_type": "code",
   "execution_count": 76,
   "id": "9f488962-9d9a-42f9-a0a4-cc89e1ab96e3",
   "metadata": {
    "tags": []
   },
   "outputs": [],
   "source": [
    "X = df.drop([\"SalePrice\"], axis=1)\n",
    "y = df[\"SalePrice\"]"
   ]
  },
  {
   "cell_type": "code",
   "execution_count": 77,
   "id": "2dedde36-095e-415a-b418-f0abc316b888",
   "metadata": {
    "tags": []
   },
   "outputs": [],
   "source": [
    "X_train, X_test, y_train, y_test = train_test_split(X, y, random_state=1234, test_size=0.3)"
   ]
  },
  {
   "cell_type": "code",
   "execution_count": 78,
   "id": "7e6204af-4ca9-462d-8011-42733fd71396",
   "metadata": {
    "tags": []
   },
   "outputs": [
    {
     "data": {
      "text/plain": [
       "(1459, 249)"
      ]
     },
     "execution_count": 78,
     "metadata": {},
     "output_type": "execute_result"
    }
   ],
   "source": [
    "X.shape"
   ]
  },
  {
   "cell_type": "code",
   "execution_count": 79,
   "id": "8b230a04-4b12-4963-94f3-c67c5ea2540d",
   "metadata": {
    "tags": []
   },
   "outputs": [
    {
     "data": {
      "text/plain": [
       "(1459,)"
      ]
     },
     "execution_count": 79,
     "metadata": {},
     "output_type": "execute_result"
    }
   ],
   "source": [
    "y.shape"
   ]
  },
  {
   "cell_type": "raw",
   "id": "4bbf34d5-d9c4-4497-b7a7-01fa074cdbe5",
   "metadata": {},
   "source": [
    "Linear regression"
   ]
  },
  {
   "cell_type": "code",
   "execution_count": 80,
   "id": "c148a10b-9f79-4d85-9873-80cb16862646",
   "metadata": {
    "tags": []
   },
   "outputs": [],
   "source": [
    "lr = LinearRegression().fit(X_train, y_train)"
   ]
  },
  {
   "cell_type": "code",
   "execution_count": 81,
   "id": "b33cbbde-f88a-4c68-a938-550d98f9a95d",
   "metadata": {
    "tags": []
   },
   "outputs": [
    {
     "data": {
      "text/plain": [
       "array([ 1.42287684e+01,  3.59999107e-01,  8.60875566e+03,  5.07426672e+03,\n",
       "        2.50642546e+02,  1.55972545e+01,  1.01400159e+01, -6.03095711e+00,\n",
       "        1.97062862e+01,  3.01169110e+01,  3.46017976e+01, -5.05154547e+01,\n",
       "        1.42032329e+01, -1.47426234e+03, -1.28952137e+03,  1.85365959e+03,\n",
       "        4.49570624e+03, -4.18999221e+03, -6.34597566e+03,  7.01024479e+03,\n",
       "        2.63684665e+03,  2.89209513e+01,  9.36540354e+00,  1.31292233e+01,\n",
       "       -8.34734919e+00,  6.15132682e+01,  5.12873350e+01, -7.42079312e+01,\n",
       "        6.72374277e+00,  7.11646716e+03,  6.63684264e+03,  1.09403023e+04,\n",
       "        3.44165887e+04, -1.43096764e+02,  1.17808923e+04,  1.35928337e+04,\n",
       "       -5.88167426e+03, -2.00303486e+03,  3.57764144e+03, -4.06317905e+03,\n",
       "       -2.22092253e+04, -6.96598961e+02, -2.21800974e+04, -3.08846617e+04,\n",
       "       -2.32735078e+04,  8.57210644e+03,  8.80089006e+03,  5.39329913e+02,\n",
       "        5.36118139e+03, -7.31280366e+03,  7.31280366e+03, -1.54606366e+03,\n",
       "        2.05774742e+02,  1.34028892e+03, -3.40044692e+02,  1.22080816e+04,\n",
       "       -1.26795605e+04,  8.11523679e+02,  6.01541130e+03,  1.58874168e+04,\n",
       "       -3.76509491e+03, -2.13427057e+04,  3.20497259e+03,  1.58955241e+03,\n",
       "        1.20068234e+04, -1.35963758e+04,  3.31125360e+03,  6.99663945e+03,\n",
       "        3.93675223e+03, -1.46273042e+03, -4.88569753e+03, -1.66621906e+04,\n",
       "        1.22042024e+04, -1.22701217e+04, -1.03865204e+04, -1.10569394e+04,\n",
       "       -1.87198577e+04, -1.99464631e+04, -1.17553853e+04,  2.02812144e+04,\n",
       "       -1.42860063e+04,  3.27950528e+04,  3.45818757e+04, -1.16677629e+04,\n",
       "       -3.07407517e+03, -5.35223882e+03, -7.57403058e+03, -7.76881134e+03,\n",
       "        4.18132798e+04, -1.17037314e+04,  1.26522923e+04, -8.81680348e+03,\n",
       "       -8.94952271e+03,  4.67332734e+03,  2.00716520e+04, -1.28426654e+02,\n",
       "       -1.40014174e+04,  5.91185288e+03, -1.51504666e+03,  2.75438468e+03,\n",
       "        7.28476266e+04,  4.11132531e+04,  3.15954682e+04,  9.80100754e+04,\n",
       "       -1.74635282e+05, -1.20994539e+05, -5.82076609e-11,  5.20633977e+04,\n",
       "        2.19133204e+03,  2.25900500e+04, -4.06317905e+03, -1.35109349e+04,\n",
       "       -7.20726804e+03,  1.30969415e+04, -2.74403557e+04,  5.77888553e+03,\n",
       "        6.93525452e+03,  5.18383070e+03, -9.35987897e+03, -2.24630813e+03,\n",
       "        8.05163058e+03, -1.98800592e+04, -2.27402881e+04, -1.47423197e+04,\n",
       "       -1.87350910e+04, -5.33040672e+02,  7.66307987e+04, -2.06910045e-11,\n",
       "       -1.16802034e+04,  4.91387215e+04,  1.45791353e+03,  4.36557457e-11,\n",
       "       -1.98494551e+04, -7.77721619e+04,  5.87051854e+04,  7.34243602e+03,\n",
       "       -2.54658516e-11, -1.03588652e+04,  1.55381146e+04, -2.91038305e-11,\n",
       "       -1.30030908e+04, -3.24573239e+03, -6.02483580e+04,  2.09522630e+04,\n",
       "       -4.02784993e+03,  2.84375786e+04,  2.93354018e+03,  5.33584106e+03,\n",
       "       -7.28046921e+02,  1.10721698e+04, -3.93689035e+03, -4.20251704e+03,\n",
       "       -4.09517416e+03, -4.45415449e+03,  0.00000000e+00,  3.22421474e+04,\n",
       "        6.06496786e+03,  2.79597594e+04, -9.68578107e+03, -3.97901166e+04,\n",
       "        5.95647698e+03, -1.29250819e+04,  4.72194475e+03,  2.05486201e+03,\n",
       "        8.42006340e+03, -8.33050615e+03,  8.83463380e+02,  8.65164711e+03,\n",
       "        1.03235929e+04,  2.62946138e+04,  2.01303855e+03, -4.81663557e+04,\n",
       "        1.41708681e+04, -9.02591450e+02, -1.21092956e+04, -8.36514894e+02,\n",
       "       -2.90401739e+04,  2.87177078e+04,  8.49447979e+02, -8.49447979e+02,\n",
       "       -7.25123166e+03, -8.72784160e+03,  2.24707078e+04,  1.63709046e-11,\n",
       "       -6.49163451e+03, -8.26615387e+03, -1.09270574e+04, -1.93556502e+04,\n",
       "       -1.98585957e+04, -1.75042121e+04, -1.71261730e+04, -1.37089382e+04,\n",
       "       -1.60572575e+04,  9.58578759e+03,  1.36976838e+04,  6.42053296e+04,\n",
       "        3.53152369e+04,  3.31745405e+01, -6.01462946e+03,  7.49519032e+03,\n",
       "       -5.95487911e+03, -6.16540496e+03, -3.95760361e+03,  1.45641523e+04,\n",
       "        1.75125692e+03,  1.03842241e+03, -2.78967934e+03, -5.66356635e+04,\n",
       "        4.73771571e+04,  5.68671124e+04,  4.48335614e+04, -9.24421674e+04,\n",
       "       -6.16862173e+03,  3.30828978e+03,  2.07588659e+04,  2.50702182e+04,\n",
       "       -2.03205911e+04, -1.54295260e+02,  3.88606736e+02, -1.60094626e+04,\n",
       "       -6.87300996e+03, -3.12243660e+03, -1.32555395e+04, -3.57446804e+03,\n",
       "        9.72044956e+02,  4.41330901e+03,  1.45670902e+04, -4.13285848e+03,\n",
       "        6.91260286e+03, -9.52903462e+03,  6.74929024e+03,  2.20239857e+04,\n",
       "       -2.20239857e+04,  7.16973470e+03, -6.47710820e+03,  6.57433668e+03,\n",
       "       -5.53743924e+03,  5.51358597e+03,  6.40555309e+02, -9.55254141e+02,\n",
       "        2.25876596e+03,  5.74492695e+03,  7.75305464e+03, -8.10334214e+02,\n",
       "        4.03437823e+03, -3.94996586e+03,  2.89904815e+04, -1.57017765e+02,\n",
       "       -3.75673375e+01])"
      ]
     },
     "execution_count": 81,
     "metadata": {},
     "output_type": "execute_result"
    }
   ],
   "source": [
    "lr.coef_"
   ]
  },
  {
   "cell_type": "code",
   "execution_count": 82,
   "id": "f83347dd-85d5-4258-aefb-6717c5c4a850",
   "metadata": {
    "tags": []
   },
   "outputs": [
    {
     "name": "stdout",
     "output_type": "stream",
     "text": [
      "Mean squared error (MSE) score:  1807614527.4507494\n",
      "R squared (R2) score:  0.7167736392126516\n",
      "Model score:  0.6533351918839606\n"
     ]
    }
   ],
   "source": [
    "y_pred = lr.predict(X_test)\n",
    "print('Mean squared error (MSE) score: ', mean_squared_error(y_pred, y_test))\n",
    "print('R squared (R2) score: ',r2_score(y_pred,y_test))\n",
    "print('Model score: ', lr.score(X_test,y_test))"
   ]
  },
  {
   "cell_type": "raw",
   "id": "d8fb3329-8612-4d60-81b3-b9f8ca639acf",
   "metadata": {},
   "source": [
    "Feature selection"
   ]
  },
  {
   "cell_type": "raw",
   "id": "9c9c77d5-3a39-4a4f-96f4-eff60c6ccb51",
   "metadata": {},
   "source": [
    "Forward selection"
   ]
  },
  {
   "cell_type": "code",
   "execution_count": 83,
   "id": "c4e01f1d-8630-4032-a553-6e53ab649bbd",
   "metadata": {
    "tags": []
   },
   "outputs": [],
   "source": [
    "lr_sfs = LinearRegression()\n",
    "\n",
    "sfs1 = SFS(\n",
    "    lr_sfs,\n",
    "    k_features=(1, X_train.shape[1]),\n",
    "    forward=True,\n",
    "    scoring=\"neg_mean_squared_error\",\n",
    "    cv=5,\n",
    "    verbose=1,\n",
    "    n_jobs=-1\n",
    ")"
   ]
  },
  {
   "cell_type": "code",
   "execution_count": 84,
   "id": "04a888a7-ff2d-47ca-8a11-da8fbfc572c0",
   "metadata": {
    "tags": []
   },
   "outputs": [
    {
     "name": "stderr",
     "output_type": "stream",
     "text": [
      "[Parallel(n_jobs=-1)]: Using backend LokyBackend with 4 concurrent workers.\n",
      "[Parallel(n_jobs=-1)]: Done  68 tasks      | elapsed:    1.5s\n",
      "[Parallel(n_jobs=-1)]: Done 249 out of 249 | elapsed:    2.1s finished\n",
      "Features: 1/249[Parallel(n_jobs=-1)]: Using backend LokyBackend with 4 concurrent workers.\n",
      "[Parallel(n_jobs=-1)]: Done 248 out of 248 | elapsed:    0.7s finished\n",
      "Features: 2/249[Parallel(n_jobs=-1)]: Using backend LokyBackend with 4 concurrent workers.\n",
      "[Parallel(n_jobs=-1)]: Done 190 tasks      | elapsed:    0.6s\n",
      "[Parallel(n_jobs=-1)]: Done 247 out of 247 | elapsed:    1.2s finished\n",
      "Features: 3/249[Parallel(n_jobs=-1)]: Using backend LokyBackend with 4 concurrent workers.\n",
      "[Parallel(n_jobs=-1)]: Done 190 tasks      | elapsed:    0.6s\n",
      "[Parallel(n_jobs=-1)]: Done 246 out of 246 | elapsed:    1.1s finished\n",
      "Features: 4/249[Parallel(n_jobs=-1)]: Using backend LokyBackend with 4 concurrent workers.\n",
      "[Parallel(n_jobs=-1)]: Done 190 tasks      | elapsed:    0.7s\n",
      "[Parallel(n_jobs=-1)]: Done 245 out of 245 | elapsed:    1.1s finished\n",
      "Features: 5/249[Parallel(n_jobs=-1)]: Using backend LokyBackend with 4 concurrent workers.\n",
      "[Parallel(n_jobs=-1)]: Done 190 tasks      | elapsed:    0.7s\n",
      "[Parallel(n_jobs=-1)]: Done 244 out of 244 | elapsed:    1.1s finished\n",
      "Features: 6/249[Parallel(n_jobs=-1)]: Using backend LokyBackend with 4 concurrent workers.\n",
      "[Parallel(n_jobs=-1)]: Done 190 tasks      | elapsed:    0.7s\n",
      "[Parallel(n_jobs=-1)]: Done 243 out of 243 | elapsed:    1.2s finished\n",
      "Features: 7/249[Parallel(n_jobs=-1)]: Using backend LokyBackend with 4 concurrent workers.\n",
      "[Parallel(n_jobs=-1)]: Done 190 tasks      | elapsed:    0.7s\n",
      "[Parallel(n_jobs=-1)]: Done 242 out of 242 | elapsed:    1.1s finished\n",
      "Features: 8/249[Parallel(n_jobs=-1)]: Using backend LokyBackend with 4 concurrent workers.\n",
      "[Parallel(n_jobs=-1)]: Done 190 tasks      | elapsed:    0.6s\n",
      "[Parallel(n_jobs=-1)]: Done 241 out of 241 | elapsed:    1.0s finished\n",
      "Features: 9/249[Parallel(n_jobs=-1)]: Using backend LokyBackend with 4 concurrent workers.\n",
      "[Parallel(n_jobs=-1)]: Done 190 tasks      | elapsed:    0.6s\n",
      "[Parallel(n_jobs=-1)]: Done 240 out of 240 | elapsed:    0.9s finished\n",
      "Features: 10/249[Parallel(n_jobs=-1)]: Using backend LokyBackend with 4 concurrent workers.\n",
      "[Parallel(n_jobs=-1)]: Done 190 tasks      | elapsed:    0.6s\n",
      "[Parallel(n_jobs=-1)]: Done 239 out of 239 | elapsed:    1.0s finished\n",
      "Features: 11/249[Parallel(n_jobs=-1)]: Using backend LokyBackend with 4 concurrent workers.\n",
      "[Parallel(n_jobs=-1)]: Done 128 tasks      | elapsed:    1.6s\n",
      "[Parallel(n_jobs=-1)]: Done 238 out of 238 | elapsed:    2.9s finished\n",
      "Features: 12/249[Parallel(n_jobs=-1)]: Using backend LokyBackend with 4 concurrent workers.\n",
      "[Parallel(n_jobs=-1)]: Done  76 tasks      | elapsed:    1.4s\n",
      "[Parallel(n_jobs=-1)]: Done 230 out of 237 | elapsed:    3.9s remaining:    0.1s\n",
      "[Parallel(n_jobs=-1)]: Done 237 out of 237 | elapsed:    4.1s finished\n",
      "Features: 13/249[Parallel(n_jobs=-1)]: Using backend LokyBackend with 4 concurrent workers.\n",
      "[Parallel(n_jobs=-1)]: Done  76 tasks      | elapsed:    2.0s\n",
      "[Parallel(n_jobs=-1)]: Done 236 out of 236 | elapsed:    6.1s finished\n",
      "Features: 14/249[Parallel(n_jobs=-1)]: Using backend LokyBackend with 4 concurrent workers.\n",
      "[Parallel(n_jobs=-1)]: Done  76 tasks      | elapsed:    2.2s\n",
      "[Parallel(n_jobs=-1)]: Done 228 out of 235 | elapsed:    6.0s remaining:    0.2s\n",
      "[Parallel(n_jobs=-1)]: Done 235 out of 235 | elapsed:    6.2s finished\n",
      "Features: 15/249[Parallel(n_jobs=-1)]: Using backend LokyBackend with 4 concurrent workers.\n",
      "[Parallel(n_jobs=-1)]: Done  76 tasks      | elapsed:    2.1s\n",
      "[Parallel(n_jobs=-1)]: Done 234 out of 234 | elapsed:    6.2s finished\n",
      "Features: 16/249[Parallel(n_jobs=-1)]: Using backend LokyBackend with 4 concurrent workers.\n",
      "[Parallel(n_jobs=-1)]: Done  76 tasks      | elapsed:    2.2s\n",
      "[Parallel(n_jobs=-1)]: Done 226 out of 233 | elapsed:    6.1s remaining:    0.2s\n",
      "[Parallel(n_jobs=-1)]: Done 233 out of 233 | elapsed:    6.2s finished\n",
      "Features: 17/249[Parallel(n_jobs=-1)]: Using backend LokyBackend with 4 concurrent workers.\n",
      "[Parallel(n_jobs=-1)]: Done  76 tasks      | elapsed:    2.3s\n",
      "[Parallel(n_jobs=-1)]: Done 232 out of 232 | elapsed:    6.4s finished\n",
      "Features: 18/249[Parallel(n_jobs=-1)]: Using backend LokyBackend with 4 concurrent workers.\n",
      "[Parallel(n_jobs=-1)]: Done  76 tasks      | elapsed:    2.3s\n",
      "[Parallel(n_jobs=-1)]: Done 231 out of 231 | elapsed:    6.3s finished\n",
      "Features: 19/249[Parallel(n_jobs=-1)]: Using backend LokyBackend with 4 concurrent workers.\n",
      "[Parallel(n_jobs=-1)]: Done  76 tasks      | elapsed:    2.3s\n",
      "[Parallel(n_jobs=-1)]: Done 223 out of 230 | elapsed:    6.5s remaining:    0.2s\n",
      "[Parallel(n_jobs=-1)]: Done 230 out of 230 | elapsed:    6.7s finished\n",
      "Features: 20/249[Parallel(n_jobs=-1)]: Using backend LokyBackend with 4 concurrent workers.\n",
      "[Parallel(n_jobs=-1)]: Done  76 tasks      | elapsed:    2.3s\n",
      "[Parallel(n_jobs=-1)]: Done 222 out of 229 | elapsed:    6.2s remaining:    0.2s\n",
      "[Parallel(n_jobs=-1)]: Done 229 out of 229 | elapsed:    6.4s finished\n",
      "Features: 21/249[Parallel(n_jobs=-1)]: Using backend LokyBackend with 4 concurrent workers.\n",
      "[Parallel(n_jobs=-1)]: Done  76 tasks      | elapsed:    2.2s\n",
      "[Parallel(n_jobs=-1)]: Done 228 out of 228 | elapsed:    6.4s finished\n",
      "Features: 22/249[Parallel(n_jobs=-1)]: Using backend LokyBackend with 4 concurrent workers.\n",
      "[Parallel(n_jobs=-1)]: Done  76 tasks      | elapsed:    2.3s\n",
      "[Parallel(n_jobs=-1)]: Done 220 out of 227 | elapsed:    6.3s remaining:    0.2s\n",
      "[Parallel(n_jobs=-1)]: Done 227 out of 227 | elapsed:    6.5s finished\n",
      "Features: 23/249[Parallel(n_jobs=-1)]: Using backend LokyBackend with 4 concurrent workers.\n",
      "[Parallel(n_jobs=-1)]: Done  76 tasks      | elapsed:    2.4s\n",
      "[Parallel(n_jobs=-1)]: Done 226 out of 226 | elapsed:    6.8s finished\n",
      "Features: 24/249[Parallel(n_jobs=-1)]: Using backend LokyBackend with 4 concurrent workers.\n",
      "[Parallel(n_jobs=-1)]: Done  76 tasks      | elapsed:    2.4s\n",
      "[Parallel(n_jobs=-1)]: Done 218 out of 225 | elapsed:    6.2s remaining:    0.2s\n",
      "[Parallel(n_jobs=-1)]: Done 225 out of 225 | elapsed:    6.4s finished\n",
      "Features: 25/249[Parallel(n_jobs=-1)]: Using backend LokyBackend with 4 concurrent workers.\n",
      "[Parallel(n_jobs=-1)]: Done  76 tasks      | elapsed:    2.3s\n",
      "[Parallel(n_jobs=-1)]: Done 224 out of 224 | elapsed:    6.4s finished\n",
      "Features: 26/249[Parallel(n_jobs=-1)]: Using backend LokyBackend with 4 concurrent workers.\n",
      "[Parallel(n_jobs=-1)]: Done  76 tasks      | elapsed:    2.3s\n",
      "[Parallel(n_jobs=-1)]: Done 216 out of 223 | elapsed:    6.6s remaining:    0.2s\n",
      "[Parallel(n_jobs=-1)]: Done 223 out of 223 | elapsed:    7.3s finished\n",
      "Features: 27/249[Parallel(n_jobs=-1)]: Using backend LokyBackend with 4 concurrent workers.\n",
      "[Parallel(n_jobs=-1)]: Done  76 tasks      | elapsed:    2.3s\n",
      "[Parallel(n_jobs=-1)]: Done 222 out of 222 | elapsed:    6.5s finished\n",
      "Features: 28/249[Parallel(n_jobs=-1)]: Using backend LokyBackend with 4 concurrent workers.\n",
      "[Parallel(n_jobs=-1)]: Done  76 tasks      | elapsed:    2.5s\n",
      "[Parallel(n_jobs=-1)]: Done 221 out of 221 | elapsed:    6.8s finished\n",
      "Features: 29/249[Parallel(n_jobs=-1)]: Using backend LokyBackend with 4 concurrent workers.\n",
      "[Parallel(n_jobs=-1)]: Done  76 tasks      | elapsed:    2.6s\n",
      "[Parallel(n_jobs=-1)]: Done 220 out of 220 | elapsed:    7.0s finished\n",
      "Features: 30/249[Parallel(n_jobs=-1)]: Using backend LokyBackend with 4 concurrent workers.\n",
      "[Parallel(n_jobs=-1)]: Done  76 tasks      | elapsed:    2.6s\n",
      "[Parallel(n_jobs=-1)]: Done 212 out of 219 | elapsed:    6.9s remaining:    0.2s\n",
      "[Parallel(n_jobs=-1)]: Done 219 out of 219 | elapsed:    7.1s finished\n",
      "Features: 31/249[Parallel(n_jobs=-1)]: Using backend LokyBackend with 4 concurrent workers.\n",
      "[Parallel(n_jobs=-1)]: Done  76 tasks      | elapsed:    2.5s\n",
      "[Parallel(n_jobs=-1)]: Done 218 out of 218 | elapsed:    6.9s finished\n",
      "Features: 32/249[Parallel(n_jobs=-1)]: Using backend LokyBackend with 4 concurrent workers.\n",
      "[Parallel(n_jobs=-1)]: Done  76 tasks      | elapsed:    2.6s\n",
      "[Parallel(n_jobs=-1)]: Done 210 out of 217 | elapsed:    6.7s remaining:    0.2s\n",
      "[Parallel(n_jobs=-1)]: Done 217 out of 217 | elapsed:    6.9s finished\n",
      "Features: 33/249[Parallel(n_jobs=-1)]: Using backend LokyBackend with 4 concurrent workers.\n",
      "[Parallel(n_jobs=-1)]: Done  76 tasks      | elapsed:    2.6s\n",
      "[Parallel(n_jobs=-1)]: Done 216 out of 216 | elapsed:    7.0s finished\n",
      "Features: 34/249[Parallel(n_jobs=-1)]: Using backend LokyBackend with 4 concurrent workers.\n",
      "[Parallel(n_jobs=-1)]: Done  76 tasks      | elapsed:    2.5s\n",
      "[Parallel(n_jobs=-1)]: Done 215 out of 215 | elapsed:    7.1s finished\n",
      "Features: 35/249[Parallel(n_jobs=-1)]: Using backend LokyBackend with 4 concurrent workers.\n",
      "[Parallel(n_jobs=-1)]: Done  76 tasks      | elapsed:    2.7s\n",
      "[Parallel(n_jobs=-1)]: Done 207 out of 214 | elapsed:    6.9s remaining:    0.2s\n",
      "[Parallel(n_jobs=-1)]: Done 214 out of 214 | elapsed:    7.2s finished\n",
      "Features: 36/249[Parallel(n_jobs=-1)]: Using backend LokyBackend with 4 concurrent workers.\n",
      "[Parallel(n_jobs=-1)]: Done  76 tasks      | elapsed:    2.9s\n",
      "[Parallel(n_jobs=-1)]: Done 206 out of 213 | elapsed:    7.2s remaining:    0.2s\n",
      "[Parallel(n_jobs=-1)]: Done 213 out of 213 | elapsed:    7.4s finished\n",
      "Features: 37/249[Parallel(n_jobs=-1)]: Using backend LokyBackend with 4 concurrent workers.\n",
      "[Parallel(n_jobs=-1)]: Done  76 tasks      | elapsed:    2.9s\n",
      "[Parallel(n_jobs=-1)]: Done 205 out of 212 | elapsed:    7.2s remaining:    0.2s\n",
      "[Parallel(n_jobs=-1)]: Done 212 out of 212 | elapsed:    7.4s finished\n",
      "Features: 38/249[Parallel(n_jobs=-1)]: Using backend LokyBackend with 4 concurrent workers.\n",
      "[Parallel(n_jobs=-1)]: Done  76 tasks      | elapsed:    2.8s\n",
      "[Parallel(n_jobs=-1)]: Done 204 out of 211 | elapsed:    7.4s remaining:    0.3s\n",
      "[Parallel(n_jobs=-1)]: Done 211 out of 211 | elapsed:    7.6s finished\n",
      "Features: 39/249[Parallel(n_jobs=-1)]: Using backend LokyBackend with 4 concurrent workers.\n",
      "[Parallel(n_jobs=-1)]: Done  76 tasks      | elapsed:    2.8s\n",
      "[Parallel(n_jobs=-1)]: Done 210 out of 210 | elapsed:    7.1s finished\n",
      "Features: 40/249[Parallel(n_jobs=-1)]: Using backend LokyBackend with 4 concurrent workers.\n",
      "[Parallel(n_jobs=-1)]: Done  76 tasks      | elapsed:    2.9s\n",
      "[Parallel(n_jobs=-1)]: Done 202 out of 209 | elapsed:    7.0s remaining:    0.2s\n",
      "[Parallel(n_jobs=-1)]: Done 209 out of 209 | elapsed:    7.2s finished\n",
      "Features: 41/249[Parallel(n_jobs=-1)]: Using backend LokyBackend with 4 concurrent workers.\n",
      "[Parallel(n_jobs=-1)]: Done  76 tasks      | elapsed:    2.8s\n",
      "[Parallel(n_jobs=-1)]: Done 208 out of 208 | elapsed:    7.2s finished\n",
      "Features: 42/249[Parallel(n_jobs=-1)]: Using backend LokyBackend with 4 concurrent workers.\n",
      "[Parallel(n_jobs=-1)]: Done  76 tasks      | elapsed:    3.0s\n",
      "[Parallel(n_jobs=-1)]: Done 207 out of 207 | elapsed:    7.6s finished\n",
      "Features: 43/249[Parallel(n_jobs=-1)]: Using backend LokyBackend with 4 concurrent workers.\n",
      "[Parallel(n_jobs=-1)]: Done  76 tasks      | elapsed:    2.7s\n",
      "[Parallel(n_jobs=-1)]: Done 206 out of 206 | elapsed:    7.4s finished\n",
      "Features: 44/249[Parallel(n_jobs=-1)]: Using backend LokyBackend with 4 concurrent workers.\n",
      "[Parallel(n_jobs=-1)]: Done  76 tasks      | elapsed:    4.3s\n",
      "[Parallel(n_jobs=-1)]: Done 198 out of 205 | elapsed:   11.2s remaining:    0.4s\n",
      "[Parallel(n_jobs=-1)]: Done 205 out of 205 | elapsed:   11.6s finished\n",
      "Features: 45/249[Parallel(n_jobs=-1)]: Using backend LokyBackend with 4 concurrent workers.\n",
      "[Parallel(n_jobs=-1)]: Done  76 tasks      | elapsed:    5.4s\n",
      "[Parallel(n_jobs=-1)]: Done 204 out of 204 | elapsed:   14.1s finished\n",
      "Features: 46/249[Parallel(n_jobs=-1)]: Using backend LokyBackend with 4 concurrent workers.\n",
      "[Parallel(n_jobs=-1)]: Done  76 tasks      | elapsed:    5.4s\n",
      "[Parallel(n_jobs=-1)]: Done 196 out of 203 | elapsed:   13.9s remaining:    0.5s\n",
      "[Parallel(n_jobs=-1)]: Done 203 out of 203 | elapsed:   14.3s finished\n",
      "Features: 47/249[Parallel(n_jobs=-1)]: Using backend LokyBackend with 4 concurrent workers.\n",
      "[Parallel(n_jobs=-1)]: Done  76 tasks      | elapsed:    5.6s\n",
      "[Parallel(n_jobs=-1)]: Done 202 out of 202 | elapsed:   14.2s finished\n",
      "Features: 48/249[Parallel(n_jobs=-1)]: Using backend LokyBackend with 4 concurrent workers.\n",
      "[Parallel(n_jobs=-1)]: Done  76 tasks      | elapsed:    5.8s\n",
      "[Parallel(n_jobs=-1)]: Done 194 out of 201 | elapsed:   13.5s remaining:    0.5s\n",
      "[Parallel(n_jobs=-1)]: Done 201 out of 201 | elapsed:   13.9s finished\n",
      "Features: 49/249[Parallel(n_jobs=-1)]: Using backend LokyBackend with 4 concurrent workers.\n",
      "[Parallel(n_jobs=-1)]: Done  76 tasks      | elapsed:    6.0s\n",
      "[Parallel(n_jobs=-1)]: Done 200 out of 200 | elapsed:   14.7s finished\n",
      "Features: 50/249[Parallel(n_jobs=-1)]: Using backend LokyBackend with 4 concurrent workers.\n",
      "[Parallel(n_jobs=-1)]: Done  76 tasks      | elapsed:    5.9s\n",
      "[Parallel(n_jobs=-1)]: Done 199 out of 199 | elapsed:   15.2s finished\n",
      "Features: 51/249[Parallel(n_jobs=-1)]: Using backend LokyBackend with 4 concurrent workers.\n",
      "[Parallel(n_jobs=-1)]: Done  76 tasks      | elapsed:    6.1s\n",
      "[Parallel(n_jobs=-1)]: Done 191 out of 198 | elapsed:   15.0s remaining:    0.5s\n",
      "[Parallel(n_jobs=-1)]: Done 198 out of 198 | elapsed:   15.4s finished\n",
      "Features: 52/249[Parallel(n_jobs=-1)]: Using backend LokyBackend with 4 concurrent workers.\n",
      "[Parallel(n_jobs=-1)]: Done  76 tasks      | elapsed:    6.0s\n",
      "[Parallel(n_jobs=-1)]: Done 197 out of 197 | elapsed:   15.9s finished\n",
      "Features: 53/249[Parallel(n_jobs=-1)]: Using backend LokyBackend with 4 concurrent workers.\n",
      "[Parallel(n_jobs=-1)]: Done  76 tasks      | elapsed:    6.0s\n",
      "[Parallel(n_jobs=-1)]: Done 189 out of 196 | elapsed:   14.9s remaining:    0.6s\n",
      "[Parallel(n_jobs=-1)]: Done 196 out of 196 | elapsed:   15.4s finished\n",
      "Features: 54/249[Parallel(n_jobs=-1)]: Using backend LokyBackend with 4 concurrent workers.\n",
      "[Parallel(n_jobs=-1)]: Done  76 tasks      | elapsed:    6.5s\n",
      "[Parallel(n_jobs=-1)]: Done 188 out of 195 | elapsed:   15.3s remaining:    0.6s\n",
      "[Parallel(n_jobs=-1)]: Done 195 out of 195 | elapsed:   15.7s finished\n",
      "Features: 55/249[Parallel(n_jobs=-1)]: Using backend LokyBackend with 4 concurrent workers.\n",
      "[Parallel(n_jobs=-1)]: Done  76 tasks      | elapsed:    6.7s\n",
      "[Parallel(n_jobs=-1)]: Done 194 out of 194 | elapsed:   15.7s finished\n",
      "Features: 56/249[Parallel(n_jobs=-1)]: Using backend LokyBackend with 4 concurrent workers.\n",
      "[Parallel(n_jobs=-1)]: Done  76 tasks      | elapsed:    6.2s\n",
      "[Parallel(n_jobs=-1)]: Done 186 out of 193 | elapsed:   15.5s remaining:    0.6s\n",
      "[Parallel(n_jobs=-1)]: Done 193 out of 193 | elapsed:   15.8s finished\n",
      "Features: 57/249[Parallel(n_jobs=-1)]: Using backend LokyBackend with 4 concurrent workers.\n",
      "[Parallel(n_jobs=-1)]: Done  42 tasks      | elapsed:    4.3s\n",
      "[Parallel(n_jobs=-1)]: Done 192 out of 192 | elapsed:   19.2s finished\n",
      "Features: 58/249[Parallel(n_jobs=-1)]: Using backend LokyBackend with 4 concurrent workers.\n",
      "[Parallel(n_jobs=-1)]: Done  42 tasks      | elapsed:    4.5s\n",
      "[Parallel(n_jobs=-1)]: Done 191 out of 191 | elapsed:   19.0s finished\n",
      "Features: 59/249[Parallel(n_jobs=-1)]: Using backend LokyBackend with 4 concurrent workers.\n",
      "[Parallel(n_jobs=-1)]: Done  76 tasks      | elapsed:    6.8s\n",
      "[Parallel(n_jobs=-1)]: Done 190 out of 190 | elapsed:   16.8s finished\n",
      "Features: 60/249[Parallel(n_jobs=-1)]: Using backend LokyBackend with 4 concurrent workers.\n",
      "[Parallel(n_jobs=-1)]: Done  42 tasks      | elapsed:    4.2s\n",
      "[Parallel(n_jobs=-1)]: Done 189 out of 189 | elapsed:   19.0s finished\n",
      "Features: 61/249[Parallel(n_jobs=-1)]: Using backend LokyBackend with 4 concurrent workers.\n",
      "[Parallel(n_jobs=-1)]: Done  76 tasks      | elapsed:    6.9s\n",
      "[Parallel(n_jobs=-1)]: Done 181 out of 188 | elapsed:   15.8s remaining:    0.6s\n",
      "[Parallel(n_jobs=-1)]: Done 188 out of 188 | elapsed:   16.2s finished\n",
      "Features: 62/249[Parallel(n_jobs=-1)]: Using backend LokyBackend with 4 concurrent workers.\n",
      "[Parallel(n_jobs=-1)]: Done  76 tasks      | elapsed:    7.2s\n",
      "[Parallel(n_jobs=-1)]: Done 180 out of 187 | elapsed:   16.0s remaining:    0.6s\n",
      "[Parallel(n_jobs=-1)]: Done 187 out of 187 | elapsed:   16.6s finished\n",
      "Features: 63/249[Parallel(n_jobs=-1)]: Using backend LokyBackend with 4 concurrent workers.\n",
      "[Parallel(n_jobs=-1)]: Done  42 tasks      | elapsed:    4.6s\n",
      "[Parallel(n_jobs=-1)]: Done 186 out of 186 | elapsed:   19.3s finished\n",
      "Features: 64/249[Parallel(n_jobs=-1)]: Using backend LokyBackend with 4 concurrent workers.\n",
      "[Parallel(n_jobs=-1)]: Done  76 tasks      | elapsed:    6.9s\n",
      "[Parallel(n_jobs=-1)]: Done 178 out of 185 | elapsed:   16.0s remaining:    0.6s\n",
      "[Parallel(n_jobs=-1)]: Done 185 out of 185 | elapsed:   16.6s finished\n",
      "Features: 65/249[Parallel(n_jobs=-1)]: Using backend LokyBackend with 4 concurrent workers.\n",
      "[Parallel(n_jobs=-1)]: Done  76 tasks      | elapsed:    7.3s\n",
      "[Parallel(n_jobs=-1)]: Done 184 out of 184 | elapsed:   17.2s finished\n",
      "Features: 66/249[Parallel(n_jobs=-1)]: Using backend LokyBackend with 4 concurrent workers.\n",
      "[Parallel(n_jobs=-1)]: Done  42 tasks      | elapsed:    4.6s\n",
      "[Parallel(n_jobs=-1)]: Done 183 out of 183 | elapsed:   20.1s finished\n",
      "Features: 67/249[Parallel(n_jobs=-1)]: Using backend LokyBackend with 4 concurrent workers.\n",
      "[Parallel(n_jobs=-1)]: Done  42 tasks      | elapsed:    4.5s\n",
      "[Parallel(n_jobs=-1)]: Done 182 out of 182 | elapsed:   19.6s finished\n",
      "Features: 68/249[Parallel(n_jobs=-1)]: Using backend LokyBackend with 4 concurrent workers.\n",
      "[Parallel(n_jobs=-1)]: Done  42 tasks      | elapsed:    4.9s\n",
      "[Parallel(n_jobs=-1)]: Done 181 out of 181 | elapsed:   19.8s finished\n",
      "Features: 69/249[Parallel(n_jobs=-1)]: Using backend LokyBackend with 4 concurrent workers.\n",
      "[Parallel(n_jobs=-1)]: Done  42 tasks      | elapsed:    5.2s\n",
      "[Parallel(n_jobs=-1)]: Done 180 out of 180 | elapsed:   20.4s finished\n",
      "Features: 70/249[Parallel(n_jobs=-1)]: Using backend LokyBackend with 4 concurrent workers.\n",
      "[Parallel(n_jobs=-1)]: Done  76 tasks      | elapsed:    7.6s\n",
      "[Parallel(n_jobs=-1)]: Done 172 out of 179 | elapsed:   16.6s remaining:    0.7s\n",
      "[Parallel(n_jobs=-1)]: Done 179 out of 179 | elapsed:   17.2s finished\n",
      "Features: 71/249[Parallel(n_jobs=-1)]: Using backend LokyBackend with 4 concurrent workers.\n",
      "[Parallel(n_jobs=-1)]: Done  76 tasks      | elapsed:    8.0s\n",
      "[Parallel(n_jobs=-1)]: Done 178 out of 178 | elapsed:   18.0s finished\n",
      "Features: 72/249[Parallel(n_jobs=-1)]: Using backend LokyBackend with 4 concurrent workers.\n",
      "[Parallel(n_jobs=-1)]: Done  42 tasks      | elapsed:    4.8s\n",
      "[Parallel(n_jobs=-1)]: Done 177 out of 177 | elapsed:   20.0s finished\n",
      "Features: 73/249[Parallel(n_jobs=-1)]: Using backend LokyBackend with 4 concurrent workers.\n",
      "[Parallel(n_jobs=-1)]: Done  42 tasks      | elapsed:    4.8s\n",
      "[Parallel(n_jobs=-1)]: Done 176 out of 176 | elapsed:   19.8s finished\n",
      "Features: 74/249[Parallel(n_jobs=-1)]: Using backend LokyBackend with 4 concurrent workers.\n",
      "[Parallel(n_jobs=-1)]: Done  42 tasks      | elapsed:    5.1s\n",
      "[Parallel(n_jobs=-1)]: Done 175 out of 175 | elapsed:   20.4s finished\n",
      "Features: 75/249[Parallel(n_jobs=-1)]: Using backend LokyBackend with 4 concurrent workers.\n",
      "[Parallel(n_jobs=-1)]: Done  42 tasks      | elapsed:    4.7s\n",
      "[Parallel(n_jobs=-1)]: Done 174 out of 174 | elapsed:   20.0s finished\n",
      "Features: 76/249[Parallel(n_jobs=-1)]: Using backend LokyBackend with 4 concurrent workers.\n",
      "[Parallel(n_jobs=-1)]: Done  42 tasks      | elapsed:    4.6s\n",
      "[Parallel(n_jobs=-1)]: Done 173 out of 173 | elapsed:   19.6s finished\n",
      "Features: 77/249[Parallel(n_jobs=-1)]: Using backend LokyBackend with 4 concurrent workers.\n",
      "[Parallel(n_jobs=-1)]: Done  42 tasks      | elapsed:    5.1s\n",
      "[Parallel(n_jobs=-1)]: Done 172 out of 172 | elapsed:   19.7s finished\n",
      "Features: 78/249[Parallel(n_jobs=-1)]: Using backend LokyBackend with 4 concurrent workers.\n",
      "[Parallel(n_jobs=-1)]: Done  76 tasks      | elapsed:    8.4s\n",
      "[Parallel(n_jobs=-1)]: Done 164 out of 171 | elapsed:   17.5s remaining:    0.7s\n",
      "[Parallel(n_jobs=-1)]: Done 171 out of 171 | elapsed:   18.1s finished\n",
      "Features: 79/249[Parallel(n_jobs=-1)]: Using backend LokyBackend with 4 concurrent workers.\n",
      "[Parallel(n_jobs=-1)]: Done  76 tasks      | elapsed:    7.7s\n",
      "[Parallel(n_jobs=-1)]: Done 170 out of 170 | elapsed:   17.0s finished\n",
      "Features: 80/249[Parallel(n_jobs=-1)]: Using backend LokyBackend with 4 concurrent workers.\n",
      "[Parallel(n_jobs=-1)]: Done  42 tasks      | elapsed:    5.1s\n",
      "[Parallel(n_jobs=-1)]: Done 169 out of 169 | elapsed:   21.4s finished\n",
      "Features: 81/249[Parallel(n_jobs=-1)]: Using backend LokyBackend with 4 concurrent workers.\n",
      "[Parallel(n_jobs=-1)]: Done  42 tasks      | elapsed:    5.1s\n",
      "[Parallel(n_jobs=-1)]: Done 168 out of 168 | elapsed:   20.4s finished\n",
      "Features: 82/249[Parallel(n_jobs=-1)]: Using backend LokyBackend with 4 concurrent workers.\n",
      "[Parallel(n_jobs=-1)]: Done  42 tasks      | elapsed:    5.2s\n",
      "[Parallel(n_jobs=-1)]: Done 167 out of 167 | elapsed:   20.4s finished\n",
      "Features: 83/249[Parallel(n_jobs=-1)]: Using backend LokyBackend with 4 concurrent workers.\n",
      "[Parallel(n_jobs=-1)]: Done  42 tasks      | elapsed:    5.1s\n",
      "[Parallel(n_jobs=-1)]: Done 166 out of 166 | elapsed:   20.7s finished\n",
      "Features: 84/249[Parallel(n_jobs=-1)]: Using backend LokyBackend with 4 concurrent workers.\n",
      "[Parallel(n_jobs=-1)]: Done  70 tasks      | elapsed:    8.1s\n",
      "[Parallel(n_jobs=-1)]: Done 165 out of 165 | elapsed:   19.6s finished\n",
      "Features: 85/249[Parallel(n_jobs=-1)]: Using backend LokyBackend with 4 concurrent workers.\n",
      "[Parallel(n_jobs=-1)]: Done  42 tasks      | elapsed:    5.3s\n",
      "[Parallel(n_jobs=-1)]: Done 164 out of 164 | elapsed:   20.1s finished\n",
      "Features: 86/249[Parallel(n_jobs=-1)]: Using backend LokyBackend with 4 concurrent workers.\n",
      "[Parallel(n_jobs=-1)]: Done  42 tasks      | elapsed:    5.5s\n",
      "[Parallel(n_jobs=-1)]: Done 163 out of 163 | elapsed:   20.6s finished\n",
      "Features: 87/249[Parallel(n_jobs=-1)]: Using backend LokyBackend with 4 concurrent workers.\n",
      "[Parallel(n_jobs=-1)]: Done  42 tasks      | elapsed:    5.5s\n",
      "[Parallel(n_jobs=-1)]: Done 162 out of 162 | elapsed:   20.4s finished\n",
      "Features: 88/249[Parallel(n_jobs=-1)]: Using backend LokyBackend with 4 concurrent workers.\n",
      "[Parallel(n_jobs=-1)]: Done  42 tasks      | elapsed:    5.5s\n",
      "[Parallel(n_jobs=-1)]: Done 161 out of 161 | elapsed:   20.4s finished\n",
      "Features: 89/249[Parallel(n_jobs=-1)]: Using backend LokyBackend with 4 concurrent workers.\n",
      "[Parallel(n_jobs=-1)]: Done  42 tasks      | elapsed:    5.5s\n",
      "[Parallel(n_jobs=-1)]: Done 160 out of 160 | elapsed:   20.2s finished\n",
      "Features: 90/249[Parallel(n_jobs=-1)]: Using backend LokyBackend with 4 concurrent workers.\n",
      "[Parallel(n_jobs=-1)]: Done  42 tasks      | elapsed:    5.4s\n",
      "[Parallel(n_jobs=-1)]: Done 159 out of 159 | elapsed:   20.1s finished\n",
      "Features: 91/249[Parallel(n_jobs=-1)]: Using backend LokyBackend with 4 concurrent workers.\n",
      "[Parallel(n_jobs=-1)]: Done  76 tasks      | elapsed:    8.8s\n",
      "[Parallel(n_jobs=-1)]: Done 151 out of 158 | elapsed:   17.4s remaining:    0.8s\n",
      "[Parallel(n_jobs=-1)]: Done 158 out of 158 | elapsed:   18.0s finished\n",
      "Features: 92/249[Parallel(n_jobs=-1)]: Using backend LokyBackend with 4 concurrent workers.\n",
      "[Parallel(n_jobs=-1)]: Done  42 tasks      | elapsed:    5.8s\n",
      "[Parallel(n_jobs=-1)]: Done 157 out of 157 | elapsed:   20.5s finished\n",
      "Features: 93/249[Parallel(n_jobs=-1)]: Using backend LokyBackend with 4 concurrent workers.\n",
      "[Parallel(n_jobs=-1)]: Done  42 tasks      | elapsed:    5.4s\n",
      "[Parallel(n_jobs=-1)]: Done 156 out of 156 | elapsed:   20.5s finished\n",
      "Features: 94/249[Parallel(n_jobs=-1)]: Using backend LokyBackend with 4 concurrent workers.\n",
      "[Parallel(n_jobs=-1)]: Done  42 tasks      | elapsed:    5.6s\n",
      "[Parallel(n_jobs=-1)]: Done 155 out of 155 | elapsed:   20.4s finished\n",
      "Features: 95/249[Parallel(n_jobs=-1)]: Using backend LokyBackend with 4 concurrent workers.\n",
      "[Parallel(n_jobs=-1)]: Done  42 tasks      | elapsed:    5.9s\n",
      "[Parallel(n_jobs=-1)]: Done 154 out of 154 | elapsed:   20.7s finished\n",
      "Features: 96/249[Parallel(n_jobs=-1)]: Using backend LokyBackend with 4 concurrent workers.\n",
      "[Parallel(n_jobs=-1)]: Done  42 tasks      | elapsed:    6.0s\n",
      "[Parallel(n_jobs=-1)]: Done 153 out of 153 | elapsed:   21.2s finished\n",
      "Features: 97/249[Parallel(n_jobs=-1)]: Using backend LokyBackend with 4 concurrent workers.\n",
      "[Parallel(n_jobs=-1)]: Done  42 tasks      | elapsed:    5.6s\n",
      "[Parallel(n_jobs=-1)]: Done 152 out of 152 | elapsed:   20.6s finished\n",
      "Features: 98/249[Parallel(n_jobs=-1)]: Using backend LokyBackend with 4 concurrent workers.\n",
      "[Parallel(n_jobs=-1)]: Done  42 tasks      | elapsed:    5.9s\n",
      "[Parallel(n_jobs=-1)]: Done 151 out of 151 | elapsed:   20.9s finished\n",
      "Features: 99/249[Parallel(n_jobs=-1)]: Using backend LokyBackend with 4 concurrent workers.\n",
      "[Parallel(n_jobs=-1)]: Done  42 tasks      | elapsed:    6.1s\n",
      "[Parallel(n_jobs=-1)]: Done 150 out of 150 | elapsed:   21.5s finished\n",
      "Features: 100/249[Parallel(n_jobs=-1)]: Using backend LokyBackend with 4 concurrent workers.\n",
      "[Parallel(n_jobs=-1)]: Done  42 tasks      | elapsed:    6.1s\n",
      "[Parallel(n_jobs=-1)]: Done 149 out of 149 | elapsed:   20.8s finished\n",
      "Features: 101/249[Parallel(n_jobs=-1)]: Using backend LokyBackend with 4 concurrent workers.\n",
      "[Parallel(n_jobs=-1)]: Done  42 tasks      | elapsed:    5.8s\n",
      "[Parallel(n_jobs=-1)]: Done 148 out of 148 | elapsed:   20.7s finished\n",
      "Features: 102/249[Parallel(n_jobs=-1)]: Using backend LokyBackend with 4 concurrent workers.\n",
      "[Parallel(n_jobs=-1)]: Done  42 tasks      | elapsed:    5.9s\n",
      "[Parallel(n_jobs=-1)]: Done 147 out of 147 | elapsed:   20.2s finished\n",
      "Features: 103/249[Parallel(n_jobs=-1)]: Using backend LokyBackend with 4 concurrent workers.\n",
      "[Parallel(n_jobs=-1)]: Done  42 tasks      | elapsed:    6.0s\n",
      "[Parallel(n_jobs=-1)]: Done 146 out of 146 | elapsed:   20.7s finished\n",
      "Features: 104/249[Parallel(n_jobs=-1)]: Using backend LokyBackend with 4 concurrent workers.\n",
      "[Parallel(n_jobs=-1)]: Done  42 tasks      | elapsed:    6.4s\n",
      "[Parallel(n_jobs=-1)]: Done 145 out of 145 | elapsed:   21.1s finished\n",
      "Features: 105/249[Parallel(n_jobs=-1)]: Using backend LokyBackend with 4 concurrent workers.\n",
      "[Parallel(n_jobs=-1)]: Done  42 tasks      | elapsed:    6.4s\n",
      "[Parallel(n_jobs=-1)]: Done 144 out of 144 | elapsed:   21.2s finished\n",
      "Features: 106/249[Parallel(n_jobs=-1)]: Using backend LokyBackend with 4 concurrent workers.\n",
      "[Parallel(n_jobs=-1)]: Done  42 tasks      | elapsed:    6.3s\n",
      "[Parallel(n_jobs=-1)]: Done 143 out of 143 | elapsed:   20.6s finished\n",
      "Features: 107/249[Parallel(n_jobs=-1)]: Using backend LokyBackend with 4 concurrent workers.\n",
      "[Parallel(n_jobs=-1)]: Done  42 tasks      | elapsed:    6.1s\n",
      "[Parallel(n_jobs=-1)]: Done 142 out of 142 | elapsed:   20.7s finished\n",
      "Features: 108/249[Parallel(n_jobs=-1)]: Using backend LokyBackend with 4 concurrent workers.\n",
      "[Parallel(n_jobs=-1)]: Done  42 tasks      | elapsed:    6.2s\n",
      "[Parallel(n_jobs=-1)]: Done 141 out of 141 | elapsed:   20.2s finished\n",
      "Features: 109/249[Parallel(n_jobs=-1)]: Using backend LokyBackend with 4 concurrent workers.\n",
      "[Parallel(n_jobs=-1)]: Done  42 tasks      | elapsed:    6.4s\n",
      "[Parallel(n_jobs=-1)]: Done 140 out of 140 | elapsed:   21.5s finished\n",
      "Features: 110/249[Parallel(n_jobs=-1)]: Using backend LokyBackend with 4 concurrent workers.\n",
      "[Parallel(n_jobs=-1)]: Done  42 tasks      | elapsed:    6.3s\n",
      "[Parallel(n_jobs=-1)]: Done 139 out of 139 | elapsed:   20.4s finished\n",
      "Features: 111/249[Parallel(n_jobs=-1)]: Using backend LokyBackend with 4 concurrent workers.\n",
      "[Parallel(n_jobs=-1)]: Done  42 tasks      | elapsed:    6.4s\n",
      "[Parallel(n_jobs=-1)]: Done 138 out of 138 | elapsed:   20.4s finished\n",
      "Features: 112/249[Parallel(n_jobs=-1)]: Using backend LokyBackend with 4 concurrent workers.\n",
      "[Parallel(n_jobs=-1)]: Done  42 tasks      | elapsed:    6.6s\n",
      "[Parallel(n_jobs=-1)]: Done 137 out of 137 | elapsed:   20.5s finished\n",
      "Features: 113/249[Parallel(n_jobs=-1)]: Using backend LokyBackend with 4 concurrent workers.\n",
      "[Parallel(n_jobs=-1)]: Done  42 tasks      | elapsed:    6.2s\n",
      "[Parallel(n_jobs=-1)]: Done 136 out of 136 | elapsed:   20.5s finished\n",
      "Features: 114/249[Parallel(n_jobs=-1)]: Using backend LokyBackend with 4 concurrent workers.\n",
      "[Parallel(n_jobs=-1)]: Done  42 tasks      | elapsed:    6.6s\n",
      "[Parallel(n_jobs=-1)]: Done 135 out of 135 | elapsed:   21.0s finished\n",
      "Features: 115/249[Parallel(n_jobs=-1)]: Using backend LokyBackend with 4 concurrent workers.\n",
      "[Parallel(n_jobs=-1)]: Done  42 tasks      | elapsed:    6.5s\n",
      "[Parallel(n_jobs=-1)]: Done 134 out of 134 | elapsed:   20.2s finished\n",
      "Features: 116/249[Parallel(n_jobs=-1)]: Using backend LokyBackend with 4 concurrent workers.\n",
      "[Parallel(n_jobs=-1)]: Done  42 tasks      | elapsed:    6.4s\n",
      "[Parallel(n_jobs=-1)]: Done 133 out of 133 | elapsed:   20.6s finished\n",
      "Features: 117/249[Parallel(n_jobs=-1)]: Using backend LokyBackend with 4 concurrent workers.\n",
      "[Parallel(n_jobs=-1)]: Done  42 tasks      | elapsed:    6.6s\n",
      "[Parallel(n_jobs=-1)]: Done 132 out of 132 | elapsed:   19.7s finished\n",
      "Features: 118/249[Parallel(n_jobs=-1)]: Using backend LokyBackend with 4 concurrent workers.\n",
      "[Parallel(n_jobs=-1)]: Done  42 tasks      | elapsed:    6.8s\n",
      "[Parallel(n_jobs=-1)]: Done 131 out of 131 | elapsed:   20.8s finished\n",
      "Features: 119/249[Parallel(n_jobs=-1)]: Using backend LokyBackend with 4 concurrent workers.\n",
      "[Parallel(n_jobs=-1)]: Done  42 tasks      | elapsed:    6.7s\n",
      "[Parallel(n_jobs=-1)]: Done 130 out of 130 | elapsed:   20.8s finished\n",
      "Features: 120/249[Parallel(n_jobs=-1)]: Using backend LokyBackend with 4 concurrent workers.\n",
      "[Parallel(n_jobs=-1)]: Done  42 tasks      | elapsed:    6.9s\n",
      "[Parallel(n_jobs=-1)]: Done 129 out of 129 | elapsed:   20.4s finished\n",
      "Features: 121/249[Parallel(n_jobs=-1)]: Using backend LokyBackend with 4 concurrent workers.\n",
      "[Parallel(n_jobs=-1)]: Done  42 tasks      | elapsed:    6.7s\n",
      "[Parallel(n_jobs=-1)]: Done 128 out of 128 | elapsed:   20.1s finished\n",
      "Features: 122/249[Parallel(n_jobs=-1)]: Using backend LokyBackend with 4 concurrent workers.\n",
      "[Parallel(n_jobs=-1)]: Done  42 tasks      | elapsed:    7.1s\n",
      "[Parallel(n_jobs=-1)]: Done 127 out of 127 | elapsed:   20.7s finished\n",
      "Features: 123/249[Parallel(n_jobs=-1)]: Using backend LokyBackend with 4 concurrent workers.\n",
      "[Parallel(n_jobs=-1)]: Done  42 tasks      | elapsed:    7.3s\n",
      "[Parallel(n_jobs=-1)]: Done 126 out of 126 | elapsed:   20.7s finished\n",
      "Features: 124/249[Parallel(n_jobs=-1)]: Using backend LokyBackend with 4 concurrent workers.\n",
      "[Parallel(n_jobs=-1)]: Done  42 tasks      | elapsed:    7.1s\n",
      "[Parallel(n_jobs=-1)]: Done 125 out of 125 | elapsed:   20.4s finished\n",
      "Features: 125/249[Parallel(n_jobs=-1)]: Using backend LokyBackend with 4 concurrent workers.\n",
      "[Parallel(n_jobs=-1)]: Done  42 tasks      | elapsed:    7.2s\n",
      "[Parallel(n_jobs=-1)]: Done 124 out of 124 | elapsed:   20.6s finished\n",
      "Features: 126/249[Parallel(n_jobs=-1)]: Using backend LokyBackend with 4 concurrent workers.\n",
      "[Parallel(n_jobs=-1)]: Done  42 tasks      | elapsed:    7.0s\n",
      "[Parallel(n_jobs=-1)]: Done 123 out of 123 | elapsed:   20.0s finished\n",
      "Features: 127/249[Parallel(n_jobs=-1)]: Using backend LokyBackend with 4 concurrent workers.\n",
      "[Parallel(n_jobs=-1)]: Done  42 tasks      | elapsed:    7.3s\n",
      "[Parallel(n_jobs=-1)]: Done 122 out of 122 | elapsed:   20.4s finished\n",
      "Features: 128/249[Parallel(n_jobs=-1)]: Using backend LokyBackend with 4 concurrent workers.\n",
      "[Parallel(n_jobs=-1)]: Done  42 tasks      | elapsed:    7.3s\n",
      "[Parallel(n_jobs=-1)]: Done 121 out of 121 | elapsed:   20.4s finished\n",
      "Features: 129/249[Parallel(n_jobs=-1)]: Using backend LokyBackend with 4 concurrent workers.\n",
      "[Parallel(n_jobs=-1)]: Done  42 tasks      | elapsed:    7.4s\n",
      "[Parallel(n_jobs=-1)]: Done 120 out of 120 | elapsed:   20.1s finished\n",
      "Features: 130/249[Parallel(n_jobs=-1)]: Using backend LokyBackend with 4 concurrent workers.\n",
      "[Parallel(n_jobs=-1)]: Done  42 tasks      | elapsed:    7.6s\n",
      "[Parallel(n_jobs=-1)]: Done 119 out of 119 | elapsed:   20.4s finished\n",
      "Features: 131/249[Parallel(n_jobs=-1)]: Using backend LokyBackend with 4 concurrent workers.\n",
      "[Parallel(n_jobs=-1)]: Done  42 tasks      | elapsed:    7.2s\n",
      "[Parallel(n_jobs=-1)]: Done 118 out of 118 | elapsed:   19.7s finished\n",
      "Features: 132/249[Parallel(n_jobs=-1)]: Using backend LokyBackend with 4 concurrent workers.\n",
      "[Parallel(n_jobs=-1)]: Done  42 tasks      | elapsed:    7.2s\n",
      "[Parallel(n_jobs=-1)]: Done 117 out of 117 | elapsed:   19.8s finished\n",
      "Features: 133/249[Parallel(n_jobs=-1)]: Using backend LokyBackend with 4 concurrent workers.\n",
      "[Parallel(n_jobs=-1)]: Done  42 tasks      | elapsed:    7.2s\n",
      "[Parallel(n_jobs=-1)]: Done 116 out of 116 | elapsed:   19.7s finished\n",
      "Features: 134/249[Parallel(n_jobs=-1)]: Using backend LokyBackend with 4 concurrent workers.\n",
      "[Parallel(n_jobs=-1)]: Done  42 tasks      | elapsed:    7.6s\n",
      "[Parallel(n_jobs=-1)]: Done 115 out of 115 | elapsed:   19.8s finished\n",
      "Features: 135/249[Parallel(n_jobs=-1)]: Using backend LokyBackend with 4 concurrent workers.\n",
      "[Parallel(n_jobs=-1)]: Done  42 tasks      | elapsed:    7.5s\n",
      "[Parallel(n_jobs=-1)]: Done 114 out of 114 | elapsed:   19.8s finished\n",
      "Features: 136/249[Parallel(n_jobs=-1)]: Using backend LokyBackend with 4 concurrent workers.\n",
      "[Parallel(n_jobs=-1)]: Done  42 tasks      | elapsed:    7.5s\n",
      "[Parallel(n_jobs=-1)]: Done 113 out of 113 | elapsed:   19.5s finished\n",
      "Features: 137/249[Parallel(n_jobs=-1)]: Using backend LokyBackend with 4 concurrent workers.\n",
      "[Parallel(n_jobs=-1)]: Done  42 tasks      | elapsed:    7.4s\n",
      "[Parallel(n_jobs=-1)]: Done 112 out of 112 | elapsed:   19.4s finished\n",
      "Features: 138/249[Parallel(n_jobs=-1)]: Using backend LokyBackend with 4 concurrent workers.\n",
      "[Parallel(n_jobs=-1)]: Done  42 tasks      | elapsed:    7.3s\n",
      "[Parallel(n_jobs=-1)]: Done 111 out of 111 | elapsed:   19.2s finished\n",
      "Features: 139/249[Parallel(n_jobs=-1)]: Using backend LokyBackend with 4 concurrent workers.\n",
      "[Parallel(n_jobs=-1)]: Done  42 tasks      | elapsed:    7.4s\n",
      "[Parallel(n_jobs=-1)]: Done 110 out of 110 | elapsed:   18.9s finished\n",
      "Features: 140/249[Parallel(n_jobs=-1)]: Using backend LokyBackend with 4 concurrent workers.\n",
      "[Parallel(n_jobs=-1)]: Done  42 tasks      | elapsed:    7.5s\n",
      "[Parallel(n_jobs=-1)]: Done 109 out of 109 | elapsed:   18.9s finished\n",
      "Features: 141/249[Parallel(n_jobs=-1)]: Using backend LokyBackend with 4 concurrent workers.\n",
      "[Parallel(n_jobs=-1)]: Done  42 tasks      | elapsed:    7.8s\n",
      "[Parallel(n_jobs=-1)]: Done 108 out of 108 | elapsed:   19.1s finished\n",
      "Features: 142/249[Parallel(n_jobs=-1)]: Using backend LokyBackend with 4 concurrent workers.\n",
      "[Parallel(n_jobs=-1)]: Done  42 tasks      | elapsed:    7.5s\n",
      "[Parallel(n_jobs=-1)]: Done 107 out of 107 | elapsed:   18.9s finished\n",
      "Features: 143/249[Parallel(n_jobs=-1)]: Using backend LokyBackend with 4 concurrent workers.\n",
      "[Parallel(n_jobs=-1)]: Done  42 tasks      | elapsed:    7.6s\n",
      "[Parallel(n_jobs=-1)]: Done 106 out of 106 | elapsed:   18.7s finished\n",
      "Features: 144/249[Parallel(n_jobs=-1)]: Using backend LokyBackend with 4 concurrent workers.\n",
      "[Parallel(n_jobs=-1)]: Done  42 tasks      | elapsed:    7.8s\n",
      "[Parallel(n_jobs=-1)]: Done 105 out of 105 | elapsed:   18.7s finished\n",
      "Features: 145/249[Parallel(n_jobs=-1)]: Using backend LokyBackend with 4 concurrent workers.\n",
      "[Parallel(n_jobs=-1)]: Done  42 tasks      | elapsed:    7.5s\n",
      "[Parallel(n_jobs=-1)]: Done 104 out of 104 | elapsed:   18.6s finished\n",
      "Features: 146/249[Parallel(n_jobs=-1)]: Using backend LokyBackend with 4 concurrent workers.\n",
      "[Parallel(n_jobs=-1)]: Done  42 tasks      | elapsed:    8.3s\n",
      "[Parallel(n_jobs=-1)]: Done 103 out of 103 | elapsed:   19.5s finished\n",
      "Features: 147/249[Parallel(n_jobs=-1)]: Using backend LokyBackend with 4 concurrent workers.\n",
      "[Parallel(n_jobs=-1)]: Done  42 tasks      | elapsed:    7.6s\n",
      "[Parallel(n_jobs=-1)]: Done 102 out of 102 | elapsed:   18.7s finished\n",
      "Features: 148/249[Parallel(n_jobs=-1)]: Using backend LokyBackend with 4 concurrent workers.\n",
      "[Parallel(n_jobs=-1)]: Done  42 tasks      | elapsed:    7.9s\n",
      "[Parallel(n_jobs=-1)]: Done 101 out of 101 | elapsed:   18.9s finished\n",
      "Features: 149/249[Parallel(n_jobs=-1)]: Using backend LokyBackend with 4 concurrent workers.\n",
      "[Parallel(n_jobs=-1)]: Done  42 tasks      | elapsed:    8.0s\n",
      "[Parallel(n_jobs=-1)]: Done 100 out of 100 | elapsed:   18.6s finished\n",
      "Features: 150/249[Parallel(n_jobs=-1)]: Using backend LokyBackend with 4 concurrent workers.\n",
      "[Parallel(n_jobs=-1)]: Done  42 tasks      | elapsed:    8.3s\n",
      "[Parallel(n_jobs=-1)]: Done  99 out of  99 | elapsed:   19.0s finished\n",
      "Features: 151/249[Parallel(n_jobs=-1)]: Using backend LokyBackend with 4 concurrent workers.\n",
      "[Parallel(n_jobs=-1)]: Done  42 tasks      | elapsed:    8.0s\n",
      "[Parallel(n_jobs=-1)]: Done  98 out of  98 | elapsed:   18.1s finished\n",
      "Features: 152/249[Parallel(n_jobs=-1)]: Using backend LokyBackend with 4 concurrent workers.\n",
      "[Parallel(n_jobs=-1)]: Done  42 tasks      | elapsed:    8.3s\n",
      "[Parallel(n_jobs=-1)]: Done  97 out of  97 | elapsed:   18.5s finished\n",
      "Features: 153/249[Parallel(n_jobs=-1)]: Using backend LokyBackend with 4 concurrent workers.\n",
      "[Parallel(n_jobs=-1)]: Done  42 tasks      | elapsed:    8.3s\n",
      "[Parallel(n_jobs=-1)]: Done  96 out of  96 | elapsed:   18.5s finished\n",
      "Features: 154/249[Parallel(n_jobs=-1)]: Using backend LokyBackend with 4 concurrent workers.\n",
      "[Parallel(n_jobs=-1)]: Done  42 tasks      | elapsed:    8.1s\n",
      "[Parallel(n_jobs=-1)]: Done  95 out of  95 | elapsed:   17.8s finished\n",
      "Features: 155/249[Parallel(n_jobs=-1)]: Using backend LokyBackend with 4 concurrent workers.\n",
      "[Parallel(n_jobs=-1)]: Done  42 tasks      | elapsed:    8.6s\n",
      "[Parallel(n_jobs=-1)]: Done  94 out of  94 | elapsed:   18.5s finished\n",
      "Features: 156/249[Parallel(n_jobs=-1)]: Using backend LokyBackend with 4 concurrent workers.\n",
      "[Parallel(n_jobs=-1)]: Done  42 tasks      | elapsed:    8.4s\n",
      "[Parallel(n_jobs=-1)]: Done  93 out of  93 | elapsed:   17.8s finished\n",
      "Features: 157/249[Parallel(n_jobs=-1)]: Using backend LokyBackend with 4 concurrent workers.\n",
      "[Parallel(n_jobs=-1)]: Done  42 tasks      | elapsed:    8.1s\n",
      "[Parallel(n_jobs=-1)]: Done  92 out of  92 | elapsed:   17.4s finished\n",
      "Features: 158/249[Parallel(n_jobs=-1)]: Using backend LokyBackend with 4 concurrent workers.\n",
      "[Parallel(n_jobs=-1)]: Done  42 tasks      | elapsed:    8.0s\n",
      "[Parallel(n_jobs=-1)]: Done  91 out of  91 | elapsed:   17.5s finished\n",
      "Features: 159/249[Parallel(n_jobs=-1)]: Using backend LokyBackend with 4 concurrent workers.\n",
      "[Parallel(n_jobs=-1)]: Done  42 tasks      | elapsed:    8.7s\n",
      "[Parallel(n_jobs=-1)]: Done  90 out of  90 | elapsed:   18.2s finished\n",
      "Features: 160/249[Parallel(n_jobs=-1)]: Using backend LokyBackend with 4 concurrent workers.\n",
      "[Parallel(n_jobs=-1)]: Done  42 tasks      | elapsed:    8.1s\n",
      "[Parallel(n_jobs=-1)]: Done  89 out of  89 | elapsed:   16.6s finished\n",
      "Features: 161/249[Parallel(n_jobs=-1)]: Using backend LokyBackend with 4 concurrent workers.\n",
      "[Parallel(n_jobs=-1)]: Done  42 tasks      | elapsed:    8.1s\n",
      "[Parallel(n_jobs=-1)]: Done  88 out of  88 | elapsed:   16.5s finished\n",
      "Features: 162/249[Parallel(n_jobs=-1)]: Using backend LokyBackend with 4 concurrent workers.\n",
      "[Parallel(n_jobs=-1)]: Done  42 tasks      | elapsed:    8.5s\n",
      "[Parallel(n_jobs=-1)]: Done  87 out of  87 | elapsed:   17.3s finished\n",
      "Features: 163/249[Parallel(n_jobs=-1)]: Using backend LokyBackend with 4 concurrent workers.\n",
      "[Parallel(n_jobs=-1)]: Done  42 tasks      | elapsed:    8.2s\n",
      "[Parallel(n_jobs=-1)]: Done  86 out of  86 | elapsed:   16.3s finished\n",
      "Features: 164/249[Parallel(n_jobs=-1)]: Using backend LokyBackend with 4 concurrent workers.\n",
      "[Parallel(n_jobs=-1)]: Done  42 tasks      | elapsed:    8.6s\n",
      "[Parallel(n_jobs=-1)]: Done  85 out of  85 | elapsed:   17.2s finished\n",
      "Features: 165/249[Parallel(n_jobs=-1)]: Using backend LokyBackend with 4 concurrent workers.\n",
      "[Parallel(n_jobs=-1)]: Done  42 tasks      | elapsed:    8.8s\n",
      "[Parallel(n_jobs=-1)]: Done  84 out of  84 | elapsed:   16.6s finished\n",
      "Features: 166/249[Parallel(n_jobs=-1)]: Using backend LokyBackend with 4 concurrent workers.\n",
      "[Parallel(n_jobs=-1)]: Done  42 tasks      | elapsed:    8.8s\n",
      "[Parallel(n_jobs=-1)]: Done  83 out of  83 | elapsed:   16.6s finished\n",
      "Features: 167/249[Parallel(n_jobs=-1)]: Using backend LokyBackend with 4 concurrent workers.\n",
      "[Parallel(n_jobs=-1)]: Done  42 tasks      | elapsed:    9.0s\n",
      "[Parallel(n_jobs=-1)]: Done  82 out of  82 | elapsed:   17.0s finished\n",
      "Features: 168/249[Parallel(n_jobs=-1)]: Using backend LokyBackend with 4 concurrent workers.\n",
      "[Parallel(n_jobs=-1)]: Done  42 tasks      | elapsed:    8.9s\n",
      "[Parallel(n_jobs=-1)]: Done  81 out of  81 | elapsed:   16.6s finished\n",
      "Features: 169/249[Parallel(n_jobs=-1)]: Using backend LokyBackend with 4 concurrent workers.\n",
      "[Parallel(n_jobs=-1)]: Done  42 tasks      | elapsed:    9.0s\n",
      "[Parallel(n_jobs=-1)]: Done  80 out of  80 | elapsed:   16.7s finished\n",
      "Features: 170/249[Parallel(n_jobs=-1)]: Using backend LokyBackend with 4 concurrent workers.\n",
      "[Parallel(n_jobs=-1)]: Done  42 tasks      | elapsed:    9.2s\n",
      "[Parallel(n_jobs=-1)]: Done  79 out of  79 | elapsed:   16.6s finished\n",
      "Features: 171/249[Parallel(n_jobs=-1)]: Using backend LokyBackend with 4 concurrent workers.\n",
      "[Parallel(n_jobs=-1)]: Done  42 tasks      | elapsed:    8.9s\n",
      "[Parallel(n_jobs=-1)]: Done  78 out of  78 | elapsed:   16.0s finished\n",
      "Features: 172/249[Parallel(n_jobs=-1)]: Using backend LokyBackend with 4 concurrent workers.\n",
      "[Parallel(n_jobs=-1)]: Done  42 tasks      | elapsed:    9.0s\n",
      "[Parallel(n_jobs=-1)]: Done  77 out of  77 | elapsed:   15.7s finished\n",
      "Features: 173/249[Parallel(n_jobs=-1)]: Using backend LokyBackend with 4 concurrent workers.\n",
      "[Parallel(n_jobs=-1)]: Done  42 tasks      | elapsed:    8.5s\n",
      "[Parallel(n_jobs=-1)]: Done  76 out of  76 | elapsed:   15.4s finished\n",
      "Features: 174/249[Parallel(n_jobs=-1)]: Using backend LokyBackend with 4 concurrent workers.\n",
      "[Parallel(n_jobs=-1)]: Done  42 tasks      | elapsed:    8.7s\n",
      "[Parallel(n_jobs=-1)]: Done  75 out of  75 | elapsed:   15.1s finished\n",
      "Features: 175/249[Parallel(n_jobs=-1)]: Using backend LokyBackend with 4 concurrent workers.\n",
      "[Parallel(n_jobs=-1)]: Done  42 tasks      | elapsed:    8.8s\n",
      "[Parallel(n_jobs=-1)]: Done  74 out of  74 | elapsed:   14.9s finished\n",
      "Features: 176/249[Parallel(n_jobs=-1)]: Using backend LokyBackend with 4 concurrent workers.\n",
      "[Parallel(n_jobs=-1)]: Done  42 tasks      | elapsed:    9.0s\n",
      "[Parallel(n_jobs=-1)]: Done  73 out of  73 | elapsed:   15.3s finished\n",
      "Features: 177/249[Parallel(n_jobs=-1)]: Using backend LokyBackend with 4 concurrent workers.\n",
      "[Parallel(n_jobs=-1)]: Done  42 tasks      | elapsed:    8.7s\n",
      "[Parallel(n_jobs=-1)]: Done  72 out of  72 | elapsed:   14.7s finished\n",
      "Features: 178/249[Parallel(n_jobs=-1)]: Using backend LokyBackend with 4 concurrent workers.\n",
      "[Parallel(n_jobs=-1)]: Done  42 tasks      | elapsed:    9.1s\n",
      "[Parallel(n_jobs=-1)]: Done  71 out of  71 | elapsed:   14.7s finished\n",
      "Features: 179/249[Parallel(n_jobs=-1)]: Using backend LokyBackend with 4 concurrent workers.\n",
      "[Parallel(n_jobs=-1)]: Done  42 tasks      | elapsed:    9.7s\n",
      "[Parallel(n_jobs=-1)]: Done  70 out of  70 | elapsed:   15.4s finished\n",
      "Features: 180/249[Parallel(n_jobs=-1)]: Using backend LokyBackend with 4 concurrent workers.\n",
      "[Parallel(n_jobs=-1)]: Done  42 tasks      | elapsed:    9.2s\n",
      "[Parallel(n_jobs=-1)]: Done  69 out of  69 | elapsed:   15.3s finished\n",
      "Features: 181/249[Parallel(n_jobs=-1)]: Using backend LokyBackend with 4 concurrent workers.\n",
      "[Parallel(n_jobs=-1)]: Done  42 tasks      | elapsed:    9.6s\n",
      "[Parallel(n_jobs=-1)]: Done  68 out of  68 | elapsed:   15.1s finished\n",
      "Features: 182/249[Parallel(n_jobs=-1)]: Using backend LokyBackend with 4 concurrent workers.\n",
      "[Parallel(n_jobs=-1)]: Done  42 tasks      | elapsed:    9.3s\n",
      "[Parallel(n_jobs=-1)]: Done  67 out of  67 | elapsed:   14.7s finished\n",
      "Features: 183/249[Parallel(n_jobs=-1)]: Using backend LokyBackend with 4 concurrent workers.\n",
      "[Parallel(n_jobs=-1)]: Done  42 tasks      | elapsed:    9.7s\n",
      "[Parallel(n_jobs=-1)]: Done  66 out of  66 | elapsed:   14.7s finished\n",
      "Features: 184/249[Parallel(n_jobs=-1)]: Using backend LokyBackend with 4 concurrent workers.\n",
      "[Parallel(n_jobs=-1)]: Done  42 tasks      | elapsed:    9.6s\n",
      "[Parallel(n_jobs=-1)]: Done  65 out of  65 | elapsed:   14.5s finished\n",
      "Features: 185/249[Parallel(n_jobs=-1)]: Using backend LokyBackend with 4 concurrent workers.\n",
      "[Parallel(n_jobs=-1)]: Done  42 tasks      | elapsed:    9.4s\n",
      "[Parallel(n_jobs=-1)]: Done  64 out of  64 | elapsed:   14.4s finished\n",
      "Features: 186/249[Parallel(n_jobs=-1)]: Using backend LokyBackend with 4 concurrent workers.\n",
      "[Parallel(n_jobs=-1)]: Done  42 tasks      | elapsed:   10.0s\n",
      "[Parallel(n_jobs=-1)]: Done  63 out of  63 | elapsed:   14.6s finished\n",
      "Features: 187/249[Parallel(n_jobs=-1)]: Using backend LokyBackend with 4 concurrent workers.\n",
      "[Parallel(n_jobs=-1)]: Done  42 tasks      | elapsed:   10.3s\n",
      "[Parallel(n_jobs=-1)]: Done  62 out of  62 | elapsed:   14.5s finished\n",
      "Features: 188/249[Parallel(n_jobs=-1)]: Using backend LokyBackend with 4 concurrent workers.\n",
      "[Parallel(n_jobs=-1)]: Done  42 tasks      | elapsed:    9.5s\n",
      "[Parallel(n_jobs=-1)]: Done  61 out of  61 | elapsed:   13.4s finished\n",
      "Features: 189/249[Parallel(n_jobs=-1)]: Using backend LokyBackend with 4 concurrent workers.\n",
      "[Parallel(n_jobs=-1)]: Done  42 tasks      | elapsed:    9.7s\n",
      "[Parallel(n_jobs=-1)]: Done  60 out of  60 | elapsed:   14.0s finished\n",
      "Features: 190/249[Parallel(n_jobs=-1)]: Using backend LokyBackend with 4 concurrent workers.\n",
      "[Parallel(n_jobs=-1)]: Done  42 tasks      | elapsed:   10.4s\n",
      "[Parallel(n_jobs=-1)]: Done  59 out of  59 | elapsed:   14.3s finished\n",
      "Features: 191/249[Parallel(n_jobs=-1)]: Using backend LokyBackend with 4 concurrent workers.\n",
      "[Parallel(n_jobs=-1)]: Done  42 tasks      | elapsed:    9.8s\n",
      "[Parallel(n_jobs=-1)]: Done  58 out of  58 | elapsed:   13.3s finished\n",
      "Features: 192/249[Parallel(n_jobs=-1)]: Using backend LokyBackend with 4 concurrent workers.\n",
      "[Parallel(n_jobs=-1)]: Done  42 tasks      | elapsed:    9.9s\n",
      "[Parallel(n_jobs=-1)]: Done  57 out of  57 | elapsed:   13.0s finished\n",
      "Features: 193/249[Parallel(n_jobs=-1)]: Using backend LokyBackend with 4 concurrent workers.\n",
      "[Parallel(n_jobs=-1)]: Done  42 tasks      | elapsed:    9.6s\n",
      "[Parallel(n_jobs=-1)]: Done  56 out of  56 | elapsed:   12.6s finished\n",
      "Features: 194/249[Parallel(n_jobs=-1)]: Using backend LokyBackend with 4 concurrent workers.\n",
      "[Parallel(n_jobs=-1)]: Done  42 tasks      | elapsed:   10.0s\n",
      "[Parallel(n_jobs=-1)]: Done  55 out of  55 | elapsed:   12.7s finished\n",
      "Features: 195/249[Parallel(n_jobs=-1)]: Using backend LokyBackend with 4 concurrent workers.\n",
      "[Parallel(n_jobs=-1)]: Done  42 tasks      | elapsed:    9.6s\n",
      "[Parallel(n_jobs=-1)]: Done  54 out of  54 | elapsed:   12.1s finished\n",
      "Features: 196/249[Parallel(n_jobs=-1)]: Using backend LokyBackend with 4 concurrent workers.\n",
      "[Parallel(n_jobs=-1)]: Done  42 tasks      | elapsed:   10.2s\n",
      "[Parallel(n_jobs=-1)]: Done  53 out of  53 | elapsed:   12.4s finished\n",
      "Features: 197/249[Parallel(n_jobs=-1)]: Using backend LokyBackend with 4 concurrent workers.\n",
      "[Parallel(n_jobs=-1)]: Done  42 tasks      | elapsed:   10.2s\n",
      "[Parallel(n_jobs=-1)]: Done  52 out of  52 | elapsed:   12.1s finished\n",
      "Features: 198/249[Parallel(n_jobs=-1)]: Using backend LokyBackend with 4 concurrent workers.\n",
      "[Parallel(n_jobs=-1)]: Done  42 tasks      | elapsed:   10.0s\n",
      "[Parallel(n_jobs=-1)]: Done  51 out of  51 | elapsed:   12.0s finished\n",
      "Features: 199/249[Parallel(n_jobs=-1)]: Using backend LokyBackend with 4 concurrent workers.\n",
      "[Parallel(n_jobs=-1)]: Done  42 tasks      | elapsed:    9.9s\n",
      "[Parallel(n_jobs=-1)]: Done  50 out of  50 | elapsed:   11.4s finished\n",
      "Features: 200/249[Parallel(n_jobs=-1)]: Using backend LokyBackend with 4 concurrent workers.\n",
      "[Parallel(n_jobs=-1)]: Done  42 tasks      | elapsed:    9.8s\n",
      "[Parallel(n_jobs=-1)]: Done  49 out of  49 | elapsed:   11.3s finished\n",
      "Features: 201/249[Parallel(n_jobs=-1)]: Using backend LokyBackend with 4 concurrent workers.\n",
      "[Parallel(n_jobs=-1)]: Done  48 out of  48 | elapsed:   11.2s finished\n",
      "Features: 202/249[Parallel(n_jobs=-1)]: Using backend LokyBackend with 4 concurrent workers.\n",
      "[Parallel(n_jobs=-1)]: Done  47 out of  47 | elapsed:   10.9s finished\n",
      "Features: 203/249[Parallel(n_jobs=-1)]: Using backend LokyBackend with 4 concurrent workers.\n",
      "[Parallel(n_jobs=-1)]: Done  46 out of  46 | elapsed:   10.5s finished\n",
      "Features: 204/249[Parallel(n_jobs=-1)]: Using backend LokyBackend with 4 concurrent workers.\n",
      "[Parallel(n_jobs=-1)]: Done  45 out of  45 | elapsed:   10.8s finished\n",
      "Features: 205/249[Parallel(n_jobs=-1)]: Using backend LokyBackend with 4 concurrent workers.\n",
      "[Parallel(n_jobs=-1)]: Done  44 out of  44 | elapsed:   11.0s finished\n",
      "Features: 206/249[Parallel(n_jobs=-1)]: Using backend LokyBackend with 4 concurrent workers.\n",
      "[Parallel(n_jobs=-1)]: Done  43 out of  43 | elapsed:   10.0s finished\n",
      "Features: 207/249[Parallel(n_jobs=-1)]: Using backend LokyBackend with 4 concurrent workers.\n",
      "[Parallel(n_jobs=-1)]: Done  42 out of  42 | elapsed:   10.3s finished\n",
      "Features: 208/249[Parallel(n_jobs=-1)]: Using backend LokyBackend with 4 concurrent workers.\n",
      "[Parallel(n_jobs=-1)]: Done  41 out of  41 | elapsed:   10.2s finished\n",
      "Features: 209/249[Parallel(n_jobs=-1)]: Using backend LokyBackend with 4 concurrent workers.\n",
      "[Parallel(n_jobs=-1)]: Done  40 out of  40 | elapsed:   10.2s finished\n",
      "Features: 210/249[Parallel(n_jobs=-1)]: Using backend LokyBackend with 4 concurrent workers.\n",
      "[Parallel(n_jobs=-1)]: Done  39 out of  39 | elapsed:    9.9s finished\n",
      "Features: 211/249[Parallel(n_jobs=-1)]: Using backend LokyBackend with 4 concurrent workers.\n",
      "[Parallel(n_jobs=-1)]: Done  38 out of  38 | elapsed:    9.8s finished\n",
      "Features: 212/249[Parallel(n_jobs=-1)]: Using backend LokyBackend with 4 concurrent workers.\n",
      "[Parallel(n_jobs=-1)]: Done  37 out of  37 | elapsed:    9.5s finished\n",
      "Features: 213/249[Parallel(n_jobs=-1)]: Using backend LokyBackend with 4 concurrent workers.\n",
      "[Parallel(n_jobs=-1)]: Done  36 out of  36 | elapsed:    9.6s finished\n",
      "Features: 214/249[Parallel(n_jobs=-1)]: Using backend LokyBackend with 4 concurrent workers.\n",
      "[Parallel(n_jobs=-1)]: Done  35 out of  35 | elapsed:    9.4s finished\n",
      "Features: 215/249[Parallel(n_jobs=-1)]: Using backend LokyBackend with 4 concurrent workers.\n",
      "[Parallel(n_jobs=-1)]: Done  34 out of  34 | elapsed:    9.2s finished\n",
      "Features: 216/249[Parallel(n_jobs=-1)]: Using backend LokyBackend with 4 concurrent workers.\n",
      "[Parallel(n_jobs=-1)]: Done  33 out of  33 | elapsed:    8.5s finished\n",
      "Features: 217/249[Parallel(n_jobs=-1)]: Using backend LokyBackend with 4 concurrent workers.\n",
      "[Parallel(n_jobs=-1)]: Done  32 out of  32 | elapsed:    8.4s finished\n",
      "Features: 218/249[Parallel(n_jobs=-1)]: Using backend LokyBackend with 4 concurrent workers.\n",
      "[Parallel(n_jobs=-1)]: Done  31 out of  31 | elapsed:    8.4s finished\n",
      "Features: 219/249[Parallel(n_jobs=-1)]: Using backend LokyBackend with 4 concurrent workers.\n",
      "[Parallel(n_jobs=-1)]: Done  30 out of  30 | elapsed:    8.1s finished\n",
      "Features: 220/249[Parallel(n_jobs=-1)]: Using backend LokyBackend with 4 concurrent workers.\n",
      "[Parallel(n_jobs=-1)]: Done  29 out of  29 | elapsed:    7.7s finished\n",
      "Features: 221/249[Parallel(n_jobs=-1)]: Using backend LokyBackend with 4 concurrent workers.\n",
      "[Parallel(n_jobs=-1)]: Done  28 out of  28 | elapsed:    7.4s finished\n",
      "Features: 222/249[Parallel(n_jobs=-1)]: Using backend LokyBackend with 4 concurrent workers.\n",
      "[Parallel(n_jobs=-1)]: Done  27 out of  27 | elapsed:    6.9s finished\n",
      "Features: 223/249[Parallel(n_jobs=-1)]: Using backend LokyBackend with 4 concurrent workers.\n",
      "[Parallel(n_jobs=-1)]: Done  26 out of  26 | elapsed:    7.1s finished\n",
      "Features: 224/249[Parallel(n_jobs=-1)]: Using backend LokyBackend with 4 concurrent workers.\n",
      "[Parallel(n_jobs=-1)]: Done  25 out of  25 | elapsed:    6.8s finished\n",
      "Features: 225/249[Parallel(n_jobs=-1)]: Using backend LokyBackend with 4 concurrent workers.\n",
      "[Parallel(n_jobs=-1)]: Done  24 out of  24 | elapsed:    6.5s finished\n",
      "Features: 226/249[Parallel(n_jobs=-1)]: Using backend LokyBackend with 4 concurrent workers.\n",
      "[Parallel(n_jobs=-1)]: Done  23 out of  23 | elapsed:    6.5s finished\n",
      "Features: 227/249[Parallel(n_jobs=-1)]: Using backend LokyBackend with 4 concurrent workers.\n",
      "[Parallel(n_jobs=-1)]: Done  22 out of  22 | elapsed:    6.0s finished\n",
      "Features: 228/249[Parallel(n_jobs=-1)]: Using backend LokyBackend with 4 concurrent workers.\n",
      "[Parallel(n_jobs=-1)]: Done  21 out of  21 | elapsed:    5.9s finished\n",
      "Features: 229/249[Parallel(n_jobs=-1)]: Using backend LokyBackend with 4 concurrent workers.\n",
      "[Parallel(n_jobs=-1)]: Done  20 out of  20 | elapsed:    5.5s finished\n",
      "Features: 230/249[Parallel(n_jobs=-1)]: Using backend LokyBackend with 4 concurrent workers.\n",
      "[Parallel(n_jobs=-1)]: Done  19 out of  19 | elapsed:    5.3s finished\n",
      "Features: 231/249[Parallel(n_jobs=-1)]: Using backend LokyBackend with 4 concurrent workers.\n",
      "[Parallel(n_jobs=-1)]: Done  18 out of  18 | elapsed:    5.1s finished\n",
      "Features: 232/249[Parallel(n_jobs=-1)]: Using backend LokyBackend with 4 concurrent workers.\n",
      "[Parallel(n_jobs=-1)]: Done  17 out of  17 | elapsed:    4.9s finished\n",
      "Features: 233/249[Parallel(n_jobs=-1)]: Using backend LokyBackend with 4 concurrent workers.\n",
      "[Parallel(n_jobs=-1)]: Done  16 out of  16 | elapsed:    4.6s finished\n",
      "Features: 234/249[Parallel(n_jobs=-1)]: Using backend LokyBackend with 4 concurrent workers.\n",
      "[Parallel(n_jobs=-1)]: Done  15 out of  15 | elapsed:    4.0s finished\n",
      "Features: 235/249[Parallel(n_jobs=-1)]: Using backend LokyBackend with 4 concurrent workers.\n",
      "[Parallel(n_jobs=-1)]: Done  14 out of  14 | elapsed:    3.7s finished\n",
      "Features: 236/249[Parallel(n_jobs=-1)]: Using backend LokyBackend with 4 concurrent workers.\n",
      "[Parallel(n_jobs=-1)]: Done  13 out of  13 | elapsed:    3.9s finished\n",
      "Features: 237/249[Parallel(n_jobs=-1)]: Using backend LokyBackend with 4 concurrent workers.\n",
      "[Parallel(n_jobs=-1)]: Done  12 out of  12 | elapsed:    3.4s finished\n",
      "Features: 238/249[Parallel(n_jobs=-1)]: Using backend LokyBackend with 4 concurrent workers.\n",
      "[Parallel(n_jobs=-1)]: Done  11 out of  11 | elapsed:    3.0s finished\n",
      "Features: 239/249[Parallel(n_jobs=-1)]: Using backend LokyBackend with 4 concurrent workers.\n",
      "[Parallel(n_jobs=-1)]: Done  10 out of  10 | elapsed:    3.1s finished\n",
      "Features: 240/249[Parallel(n_jobs=-1)]: Using backend LokyBackend with 4 concurrent workers.\n",
      "[Parallel(n_jobs=-1)]: Done   9 out of   9 | elapsed:    2.7s finished\n",
      "Features: 241/249[Parallel(n_jobs=-1)]: Using backend LokyBackend with 4 concurrent workers.\n",
      "[Parallel(n_jobs=-1)]: Done   8 out of   8 | elapsed:    2.2s finished\n",
      "Features: 242/249[Parallel(n_jobs=-1)]: Using backend LokyBackend with 4 concurrent workers.\n",
      "[Parallel(n_jobs=-1)]: Done   7 out of   7 | elapsed:    2.0s finished\n",
      "Features: 243/249[Parallel(n_jobs=-1)]: Using backend LokyBackend with 4 concurrent workers.\n",
      "[Parallel(n_jobs=-1)]: Done   6 out of   6 | elapsed:    1.8s finished\n",
      "Features: 244/249[Parallel(n_jobs=-1)]: Using backend LokyBackend with 4 concurrent workers.\n",
      "[Parallel(n_jobs=-1)]: Done   5 out of   5 | elapsed:    1.4s finished\n",
      "Features: 245/249[Parallel(n_jobs=-1)]: Using backend LokyBackend with 4 concurrent workers.\n",
      "[Parallel(n_jobs=-1)]: Done   2 out of   4 | elapsed:    1.1s remaining:    1.1s\n",
      "[Parallel(n_jobs=-1)]: Done   4 out of   4 | elapsed:    1.2s finished\n",
      "Features: 246/249[Parallel(n_jobs=-1)]: Using backend LokyBackend with 4 concurrent workers.\n",
      "[Parallel(n_jobs=-1)]: Done   3 out of   3 | elapsed:    0.8s finished\n",
      "Features: 247/249[Parallel(n_jobs=-1)]: Using backend LokyBackend with 4 concurrent workers.\n",
      "[Parallel(n_jobs=-1)]: Done   2 out of   2 | elapsed:    0.7s finished\n",
      "Features: 248/249[Parallel(n_jobs=-1)]: Using backend LokyBackend with 4 concurrent workers.\n",
      "Features: 249/249"
     ]
    },
    {
     "data": {
      "text/html": [
       "<style>#sk-container-id-1 {color: black;background-color: white;}#sk-container-id-1 pre{padding: 0;}#sk-container-id-1 div.sk-toggleable {background-color: white;}#sk-container-id-1 label.sk-toggleable__label {cursor: pointer;display: block;width: 100%;margin-bottom: 0;padding: 0.3em;box-sizing: border-box;text-align: center;}#sk-container-id-1 label.sk-toggleable__label-arrow:before {content: \"▸\";float: left;margin-right: 0.25em;color: #696969;}#sk-container-id-1 label.sk-toggleable__label-arrow:hover:before {color: black;}#sk-container-id-1 div.sk-estimator:hover label.sk-toggleable__label-arrow:before {color: black;}#sk-container-id-1 div.sk-toggleable__content {max-height: 0;max-width: 0;overflow: hidden;text-align: left;background-color: #f0f8ff;}#sk-container-id-1 div.sk-toggleable__content pre {margin: 0.2em;color: black;border-radius: 0.25em;background-color: #f0f8ff;}#sk-container-id-1 input.sk-toggleable__control:checked~div.sk-toggleable__content {max-height: 200px;max-width: 100%;overflow: auto;}#sk-container-id-1 input.sk-toggleable__control:checked~label.sk-toggleable__label-arrow:before {content: \"▾\";}#sk-container-id-1 div.sk-estimator input.sk-toggleable__control:checked~label.sk-toggleable__label {background-color: #d4ebff;}#sk-container-id-1 div.sk-label input.sk-toggleable__control:checked~label.sk-toggleable__label {background-color: #d4ebff;}#sk-container-id-1 input.sk-hidden--visually {border: 0;clip: rect(1px 1px 1px 1px);clip: rect(1px, 1px, 1px, 1px);height: 1px;margin: -1px;overflow: hidden;padding: 0;position: absolute;width: 1px;}#sk-container-id-1 div.sk-estimator {font-family: monospace;background-color: #f0f8ff;border: 1px dotted black;border-radius: 0.25em;box-sizing: border-box;margin-bottom: 0.5em;}#sk-container-id-1 div.sk-estimator:hover {background-color: #d4ebff;}#sk-container-id-1 div.sk-parallel-item::after {content: \"\";width: 100%;border-bottom: 1px solid gray;flex-grow: 1;}#sk-container-id-1 div.sk-label:hover label.sk-toggleable__label {background-color: #d4ebff;}#sk-container-id-1 div.sk-serial::before {content: \"\";position: absolute;border-left: 1px solid gray;box-sizing: border-box;top: 0;bottom: 0;left: 50%;z-index: 0;}#sk-container-id-1 div.sk-serial {display: flex;flex-direction: column;align-items: center;background-color: white;padding-right: 0.2em;padding-left: 0.2em;position: relative;}#sk-container-id-1 div.sk-item {position: relative;z-index: 1;}#sk-container-id-1 div.sk-parallel {display: flex;align-items: stretch;justify-content: center;background-color: white;position: relative;}#sk-container-id-1 div.sk-item::before, #sk-container-id-1 div.sk-parallel-item::before {content: \"\";position: absolute;border-left: 1px solid gray;box-sizing: border-box;top: 0;bottom: 0;left: 50%;z-index: -1;}#sk-container-id-1 div.sk-parallel-item {display: flex;flex-direction: column;z-index: 1;position: relative;background-color: white;}#sk-container-id-1 div.sk-parallel-item:first-child::after {align-self: flex-end;width: 50%;}#sk-container-id-1 div.sk-parallel-item:last-child::after {align-self: flex-start;width: 50%;}#sk-container-id-1 div.sk-parallel-item:only-child::after {width: 0;}#sk-container-id-1 div.sk-dashed-wrapped {border: 1px dashed gray;margin: 0 0.4em 0.5em 0.4em;box-sizing: border-box;padding-bottom: 0.4em;background-color: white;}#sk-container-id-1 div.sk-label label {font-family: monospace;font-weight: bold;display: inline-block;line-height: 1.2em;}#sk-container-id-1 div.sk-label-container {text-align: center;}#sk-container-id-1 div.sk-container {/* jupyter's `normalize.less` sets `[hidden] { display: none; }` but bootstrap.min.css set `[hidden] { display: none !important; }` so we also need the `!important` here to be able to override the default hidden behavior on the sphinx rendered scikit-learn.org. See: https://github.com/scikit-learn/scikit-learn/issues/21755 */display: inline-block !important;position: relative;}#sk-container-id-1 div.sk-text-repr-fallback {display: none;}</style><div id=\"sk-container-id-1\" class=\"sk-top-container\"><div class=\"sk-text-repr-fallback\"><pre>SequentialFeatureSelector(estimator=LinearRegression(), k_features=(1, 249),\n",
       "                          n_jobs=-1, scoring=&#x27;neg_mean_squared_error&#x27;,\n",
       "                          verbose=1)</pre><b>In a Jupyter environment, please rerun this cell to show the HTML representation or trust the notebook. <br />On GitHub, the HTML representation is unable to render, please try loading this page with nbviewer.org.</b></div><div class=\"sk-container\" hidden><div class=\"sk-item sk-dashed-wrapped\"><div class=\"sk-label-container\"><div class=\"sk-label sk-toggleable\"><input class=\"sk-toggleable__control sk-hidden--visually\" id=\"sk-estimator-id-1\" type=\"checkbox\" ><label for=\"sk-estimator-id-1\" class=\"sk-toggleable__label sk-toggleable__label-arrow\">SequentialFeatureSelector</label><div class=\"sk-toggleable__content\"><pre>SequentialFeatureSelector(estimator=LinearRegression(), k_features=(1, 249),\n",
       "                          n_jobs=-1, scoring=&#x27;neg_mean_squared_error&#x27;,\n",
       "                          verbose=1)</pre></div></div></div><div class=\"sk-parallel\"><div class=\"sk-parallel-item\"><div class=\"sk-item\"><div class=\"sk-label-container\"><div class=\"sk-label sk-toggleable\"><input class=\"sk-toggleable__control sk-hidden--visually\" id=\"sk-estimator-id-2\" type=\"checkbox\" ><label for=\"sk-estimator-id-2\" class=\"sk-toggleable__label sk-toggleable__label-arrow\">estimator: LinearRegression</label><div class=\"sk-toggleable__content\"><pre>LinearRegression()</pre></div></div></div><div class=\"sk-serial\"><div class=\"sk-item\"><div class=\"sk-estimator sk-toggleable\"><input class=\"sk-toggleable__control sk-hidden--visually\" id=\"sk-estimator-id-3\" type=\"checkbox\" ><label for=\"sk-estimator-id-3\" class=\"sk-toggleable__label sk-toggleable__label-arrow\">LinearRegression</label><div class=\"sk-toggleable__content\"><pre>LinearRegression()</pre></div></div></div></div></div></div></div></div></div></div>"
      ],
      "text/plain": [
       "SequentialFeatureSelector(estimator=LinearRegression(), k_features=(1, 249),\n",
       "                          n_jobs=-1, scoring='neg_mean_squared_error',\n",
       "                          verbose=1)"
      ]
     },
     "execution_count": 84,
     "metadata": {},
     "output_type": "execute_result"
    }
   ],
   "source": [
    "sfs1.fit(X_train, y_train)"
   ]
  },
  {
   "cell_type": "code",
   "execution_count": 85,
   "id": "f905e439-2168-4104-b7ac-306a3462a4b3",
   "metadata": {
    "tags": []
   },
   "outputs": [
    {
     "data": {
      "text/plain": [
       "<matplotlib.legend.Legend at 0x7fcd26d9dff0>"
      ]
     },
     "execution_count": 85,
     "metadata": {},
     "output_type": "execute_result"
    },
    {
     "data": {
      "image/png": "[encoded data removed]",
      "text/plain": [
       "<Figure size 1000x600 with 1 Axes>"
      ]
     },
     "metadata": {},
     "output_type": "display_data"
    }
   ],
   "source": [
    "plot_sfs(sfs1.get_metric_dict(), ylabel=\"Neg. MSE\", figsize=(10,6))\n",
    "plt.title(\"Forward selection\")\n",
    "plt.legend([\"Standard deviation\", \"Mean performance\"])"
   ]
  },
  {
   "cell_type": "code",
   "execution_count": 86,
   "id": "2d40b1c3-56c6-4305-8378-bb616d11a126",
   "metadata": {
    "tags": []
   },
   "outputs": [
    {
     "data": {
      "text/plain": [
       "('LotArea',\n",
       " 'OverallQual',\n",
       " 'OverallCond',\n",
       " 'YearBuilt',\n",
       " 'BsmtFinSF1',\n",
       " 'BsmtFinSF2',\n",
       " 'GrLivArea',\n",
       " 'Fireplaces',\n",
       " 'GarageCars',\n",
       " 'GarageArea',\n",
       " 'EnclosedPorch',\n",
       " 'ScreenPorch',\n",
       " 'PoolArea',\n",
       " 'MSSubClass_20',\n",
       " 'MSSubClass_50',\n",
       " 'MSSubClass_120',\n",
       " 'MSZoning_C (all)',\n",
       " 'MSZoning_RM',\n",
       " 'LotShape_IR2',\n",
       " 'LotConfig_Corner',\n",
       " 'LotConfig_CulDSac',\n",
       " 'LotConfig_Inside',\n",
       " 'LandSlope_Mod',\n",
       " 'Neighborhood_Blmngtn',\n",
       " 'Neighborhood_Blueste',\n",
       " 'Neighborhood_BrDale',\n",
       " 'Neighborhood_BrkSide',\n",
       " 'Neighborhood_CollgCr',\n",
       " 'Neighborhood_Crawfor',\n",
       " 'Neighborhood_Mitchel',\n",
       " 'Neighborhood_NPkVill',\n",
       " 'Neighborhood_NoRidge',\n",
       " 'Neighborhood_NridgHt',\n",
       " 'Neighborhood_SWISU',\n",
       " 'Neighborhood_Somerst',\n",
       " 'Neighborhood_StoneBr',\n",
       " 'Neighborhood_Veenker',\n",
       " 'Condition1_Norm',\n",
       " 'Condition1_RRAn',\n",
       " 'Condition2_Artery',\n",
       " 'Condition2_PosA',\n",
       " 'Condition2_RRAe',\n",
       " 'Condition2_RRAn',\n",
       " 'Condition2_RRNn',\n",
       " 'BldgType_1Fam',\n",
       " 'HouseStyle_1Story',\n",
       " 'RoofStyle_Flat',\n",
       " 'RoofStyle_Gable',\n",
       " 'RoofMatl_ClyTile',\n",
       " 'RoofMatl_Membran',\n",
       " 'RoofMatl_Roll',\n",
       " 'RoofMatl_Tar&Grv',\n",
       " 'RoofMatl_WdShngl',\n",
       " 'Exterior1st_AsphShn',\n",
       " 'Exterior1st_BrkFace',\n",
       " 'Exterior1st_CBlock',\n",
       " 'Exterior1st_HdBoard',\n",
       " 'Exterior1st_ImStucc',\n",
       " 'Exterior1st_MetalSd',\n",
       " 'Exterior1st_VinylSd',\n",
       " 'Exterior2nd_AsphShn',\n",
       " 'Exterior2nd_Brk Cmn',\n",
       " 'Exterior2nd_CBlock',\n",
       " 'Exterior2nd_MetalSd',\n",
       " 'Exterior2nd_Other',\n",
       " 'Exterior2nd_Wd Shng',\n",
       " 'Foundation_BrkTil',\n",
       " 'Foundation_Slab',\n",
       " 'Foundation_Stone',\n",
       " 'Heating_GasW',\n",
       " 'Heating_OthW',\n",
       " 'Heating_Wall',\n",
       " 'Electrical_Mix',\n",
       " 'TotRmsAbvGrd_10',\n",
       " 'TotRmsAbvGrd_12',\n",
       " 'GarageType_NG',\n",
       " 'PavedDrive_Y',\n",
       " 'MiscFeature_TenC',\n",
       " 'SaleType_ConLD',\n",
       " 'SaleType_Oth',\n",
       " 'SaleCondition_Abnorml',\n",
       " 'SaleCondition_Partial',\n",
       " 'LandContour_HLS',\n",
       " 'LandContour_Lvl',\n",
       " 'Utilities_AllPub',\n",
       " 'Utilities_NoSeWa',\n",
       " 'ExterQual_encoded',\n",
       " 'ExterCond_encoded',\n",
       " 'BsmtQual_encoded',\n",
       " 'BsmtCond_encoded',\n",
       " 'BsmtExposure_encoded',\n",
       " 'HeatingQC_encoded',\n",
       " 'KitchenQual_encoded',\n",
       " 'Functional_encoded',\n",
       " 'PoolQC_encoded')"
      ]
     },
     "execution_count": 86,
     "metadata": {},
     "output_type": "execute_result"
    }
   ],
   "source": [
    "sfs1.k_feature_names_"
   ]
  },
  {
   "cell_type": "code",
   "execution_count": 87,
   "id": "4c1d7c6c-04df-47b3-b2a6-5f627acc9270",
   "metadata": {
    "tags": []
   },
   "outputs": [
    {
     "data": {
      "text/html": [
       "<div>\n",
       "<style scoped>\n",
       "    .dataframe tbody tr th:only-of-type {\n",
       "        vertical-align: middle;\n",
       "    }\n",
       "\n",
       "    .dataframe tbody tr th {\n",
       "        vertical-align: top;\n",
       "    }\n",
       "\n",
       "    .dataframe thead th {\n",
       "        text-align: right;\n",
       "    }\n",
       "</style>\n",
       "<table border=\"1\" class=\"dataframe\">\n",
       "  <thead>\n",
       "    <tr style=\"text-align: right;\">\n",
       "      <th></th>\n",
       "      <th>1</th>\n",
       "      <th>2</th>\n",
       "      <th>3</th>\n",
       "      <th>4</th>\n",
       "      <th>5</th>\n",
       "      <th>6</th>\n",
       "      <th>7</th>\n",
       "      <th>8</th>\n",
       "      <th>9</th>\n",
       "      <th>10</th>\n",
       "      <th>...</th>\n",
       "      <th>240</th>\n",
       "      <th>241</th>\n",
       "      <th>242</th>\n",
       "      <th>243</th>\n",
       "      <th>244</th>\n",
       "      <th>245</th>\n",
       "      <th>246</th>\n",
       "      <th>247</th>\n",
       "      <th>248</th>\n",
       "      <th>249</th>\n",
       "    </tr>\n",
       "  </thead>\n",
       "  <tbody>\n",
       "    <tr>\n",
       "      <th>feature_idx</th>\n",
       "      <td>(2,)</td>\n",
       "      <td>(2, 12)</td>\n",
       "      <td>(2, 5, 12)</td>\n",
       "      <td>(2, 5, 12, 241)</td>\n",
       "      <td>(2, 5, 12, 82, 241)</td>\n",
       "      <td>(2, 5, 12, 82, 237, 241)</td>\n",
       "      <td>(2, 5, 12, 29, 82, 237, 241)</td>\n",
       "      <td>(2, 5, 12, 29, 81, 82, 237, 241)</td>\n",
       "      <td>(2, 5, 12, 29, 81, 82, 226, 237, 241)</td>\n",
       "      <td>(2, 5, 12, 29, 55, 81, 82, 226, 237, 241)</td>\n",
       "      <td>...</td>\n",
       "      <td>(0, 1, 2, 3, 4, 5, 6, 7, 8, 10, 12, 13, 14, 15...</td>\n",
       "      <td>(0, 1, 2, 3, 4, 5, 6, 7, 8, 10, 12, 13, 14, 15...</td>\n",
       "      <td>(0, 1, 2, 3, 4, 5, 6, 7, 8, 10, 12, 13, 14, 15...</td>\n",
       "      <td>(0, 1, 2, 3, 4, 5, 6, 7, 8, 10, 12, 13, 14, 15...</td>\n",
       "      <td>(0, 1, 2, 3, 4, 5, 6, 7, 8, 9, 10, 12, 13, 14,...</td>\n",
       "      <td>(0, 1, 2, 3, 4, 5, 6, 7, 8, 9, 10, 11, 12, 13,...</td>\n",
       "      <td>(0, 1, 2, 3, 4, 5, 6, 7, 8, 9, 10, 11, 12, 13,...</td>\n",
       "      <td>(0, 1, 2, 3, 4, 5, 6, 7, 8, 9, 10, 11, 12, 13,...</td>\n",
       "      <td>(0, 1, 2, 3, 4, 5, 6, 7, 8, 9, 10, 11, 12, 13,...</td>\n",
       "      <td>(0, 1, 2, 3, 4, 5, 6, 7, 8, 9, 10, 11, 12, 13,...</td>\n",
       "    </tr>\n",
       "    <tr>\n",
       "      <th>cv_scores</th>\n",
       "      <td>[-2342717537.8781567, -2737289513.8958263, -22...</td>\n",
       "      <td>[-2131487379.3878543, -1697452998.4705637, -15...</td>\n",
       "      <td>[-2020360799.0157013, -1344454242.090576, -140...</td>\n",
       "      <td>[-1986377966.4655643, -1172041556.3089294, -12...</td>\n",
       "      <td>[-1918531799.4810863, -1134327924.6425521, -10...</td>\n",
       "      <td>[-1833623712.1623774, -1103383139.8873606, -99...</td>\n",
       "      <td>[-1763062445.5254934, -1003005769.7952023, -93...</td>\n",
       "      <td>[-1680715970.933984, -888015637.4344084, -9301...</td>\n",
       "      <td>[-1646681456.3052416, -953640064.2856702, -848...</td>\n",
       "      <td>[-1605140420.3188343, -912871887.9636647, -848...</td>\n",
       "      <td>...</td>\n",
       "      <td>[-1738504244.9474144, -943934217.825801, -8097...</td>\n",
       "      <td>[-1774436531.146387, -950028674.3912158, -7945...</td>\n",
       "      <td>[-1774436531.145777, -944961584.9973902, -7945...</td>\n",
       "      <td>[-1805796269.5121906, -945514151.7747034, -817...</td>\n",
       "      <td>[-1807640170.9372907, -989208934.5597509, -851...</td>\n",
       "      <td>[-1807640170.937492, -989208934.5593051, -8519...</td>\n",
       "      <td>[-1829274440.1582906, -993870047.4249827, -861...</td>\n",
       "      <td>[-1829274440.1589813, -999477877.1431607, -861...</td>\n",
       "      <td>[-1712432236.4036915, -1029682934.675289, -174...</td>\n",
       "      <td>[-1712267559.4299028, -1076447124.4277267, -16...</td>\n",
       "    </tr>\n",
       "    <tr>\n",
       "      <th>avg_score</th>\n",
       "      <td>-2462076005.179141</td>\n",
       "      <td>-1836477297.936919</td>\n",
       "      <td>-1509728442.988979</td>\n",
       "      <td>-1369180956.596471</td>\n",
       "      <td>-1291043505.772018</td>\n",
       "      <td>-1228163168.717676</td>\n",
       "      <td>-1164133916.223538</td>\n",
       "      <td>-1117528497.793498</td>\n",
       "      <td>-1084260806.995014</td>\n",
       "      <td>-1066848717.013292</td>\n",
       "      <td>...</td>\n",
       "      <td>-1109446710.762368</td>\n",
       "      <td>-1140321532.0731</td>\n",
       "      <td>-1141700622.809399</td>\n",
       "      <td>-1178133392.84886</td>\n",
       "      <td>-1222835684.917508</td>\n",
       "      <td>-1222835684.917434</td>\n",
       "      <td>-1287063438.842952</td>\n",
       "      <td>-1285429705.153014</td>\n",
       "      <td>-1379274855.647108</td>\n",
       "      <td>-1380817607.98993</td>\n",
       "    </tr>\n",
       "    <tr>\n",
       "      <th>feature_names</th>\n",
       "      <td>(OverallQual,)</td>\n",
       "      <td>(OverallQual, GrLivArea)</td>\n",
       "      <td>(OverallQual, BsmtFinSF1, GrLivArea)</td>\n",
       "      <td>(OverallQual, BsmtFinSF1, GrLivArea, KitchenQu...</td>\n",
       "      <td>(OverallQual, BsmtFinSF1, GrLivArea, Neighborh...</td>\n",
       "      <td>(OverallQual, BsmtFinSF1, GrLivArea, Neighborh...</td>\n",
       "      <td>(OverallQual, BsmtFinSF1, GrLivArea, MSSubClas...</td>\n",
       "      <td>(OverallQual, BsmtFinSF1, GrLivArea, MSSubClas...</td>\n",
       "      <td>(OverallQual, BsmtFinSF1, GrLivArea, MSSubClas...</td>\n",
       "      <td>(OverallQual, BsmtFinSF1, GrLivArea, MSSubClas...</td>\n",
       "      <td>...</td>\n",
       "      <td>(LotFrontage, LotArea, OverallQual, OverallCon...</td>\n",
       "      <td>(LotFrontage, LotArea, OverallQual, OverallCon...</td>\n",
       "      <td>(LotFrontage, LotArea, OverallQual, OverallCon...</td>\n",
       "      <td>(LotFrontage, LotArea, OverallQual, OverallCon...</td>\n",
       "      <td>(LotFrontage, LotArea, OverallQual, OverallCon...</td>\n",
       "      <td>(LotFrontage, LotArea, OverallQual, OverallCon...</td>\n",
       "      <td>(LotFrontage, LotArea, OverallQual, OverallCon...</td>\n",
       "      <td>(LotFrontage, LotArea, OverallQual, OverallCon...</td>\n",
       "      <td>(LotFrontage, LotArea, OverallQual, OverallCon...</td>\n",
       "      <td>(LotFrontage, LotArea, OverallQual, OverallCon...</td>\n",
       "    </tr>\n",
       "    <tr>\n",
       "      <th>ci_bound</th>\n",
       "      <td>586738481.207813</td>\n",
       "      <td>472341882.601144</td>\n",
       "      <td>432298579.381082</td>\n",
       "      <td>472425878.260732</td>\n",
       "      <td>466739493.591128</td>\n",
       "      <td>451037700.436816</td>\n",
       "      <td>424775905.598267</td>\n",
       "      <td>402675389.46986</td>\n",
       "      <td>395297083.367851</td>\n",
       "      <td>379273374.032127</td>\n",
       "      <td>...</td>\n",
       "      <td>429319649.957041</td>\n",
       "      <td>450109672.003957</td>\n",
       "      <td>449048958.115127</td>\n",
       "      <td>471278084.840533</td>\n",
       "      <td>431633319.002616</td>\n",
       "      <td>431633319.002859</td>\n",
       "      <td>436574481.938514</td>\n",
       "      <td>434679186.389781</td>\n",
       "      <td>374972187.058584</td>\n",
       "      <td>331296306.994073</td>\n",
       "    </tr>\n",
       "    <tr>\n",
       "      <th>std_dev</th>\n",
       "      <td>456502471.814321</td>\n",
       "      <td>367498031.66989</td>\n",
       "      <td>336342981.362061</td>\n",
       "      <td>367563383.146659</td>\n",
       "      <td>363139182.68853</td>\n",
       "      <td>350922654.172954</td>\n",
       "      <td>330490085.589078</td>\n",
       "      <td>313295133.214006</td>\n",
       "      <td>307554560.401335</td>\n",
       "      <td>295087570.16007</td>\n",
       "      <td>...</td>\n",
       "      <td>334025273.066134</td>\n",
       "      <td>350200616.524014</td>\n",
       "      <td>349375345.082567</td>\n",
       "      <td>366670360.871429</td>\n",
       "      <td>335825386.186533</td>\n",
       "      <td>335825386.186722</td>\n",
       "      <td>339669778.818206</td>\n",
       "      <td>338195174.491874</td>\n",
       "      <td>291741100.569195</td>\n",
       "      <td>257759782.065811</td>\n",
       "    </tr>\n",
       "    <tr>\n",
       "      <th>std_err</th>\n",
       "      <td>228251235.907161</td>\n",
       "      <td>183749015.834945</td>\n",
       "      <td>168171490.681031</td>\n",
       "      <td>183781691.573329</td>\n",
       "      <td>181569591.344265</td>\n",
       "      <td>175461327.086477</td>\n",
       "      <td>165245042.794539</td>\n",
       "      <td>156647566.607003</td>\n",
       "      <td>153777280.200667</td>\n",
       "      <td>147543785.080035</td>\n",
       "      <td>...</td>\n",
       "      <td>167012636.533067</td>\n",
       "      <td>175100308.262007</td>\n",
       "      <td>174687672.541283</td>\n",
       "      <td>183335180.435714</td>\n",
       "      <td>167912693.093266</td>\n",
       "      <td>167912693.093361</td>\n",
       "      <td>169834889.409103</td>\n",
       "      <td>169097587.245937</td>\n",
       "      <td>145870550.284598</td>\n",
       "      <td>128879891.032905</td>\n",
       "    </tr>\n",
       "  </tbody>\n",
       "</table>\n",
       "<p>7 rows × 249 columns</p>\n",
       "</div>"
      ],
      "text/plain": [
       "                                                             1    \\\n",
       "feature_idx                                                 (2,)   \n",
       "cv_scores      [-2342717537.8781567, -2737289513.8958263, -22...   \n",
       "avg_score                                     -2462076005.179141   \n",
       "feature_names                                     (OverallQual,)   \n",
       "ci_bound                                        586738481.207813   \n",
       "std_dev                                         456502471.814321   \n",
       "std_err                                         228251235.907161   \n",
       "\n",
       "                                                             2    \\\n",
       "feature_idx                                              (2, 12)   \n",
       "cv_scores      [-2131487379.3878543, -1697452998.4705637, -15...   \n",
       "avg_score                                     -1836477297.936919   \n",
       "feature_names                           (OverallQual, GrLivArea)   \n",
       "ci_bound                                        472341882.601144   \n",
       "std_dev                                          367498031.66989   \n",
       "std_err                                         183749015.834945   \n",
       "\n",
       "                                                             3    \\\n",
       "feature_idx                                           (2, 5, 12)   \n",
       "cv_scores      [-2020360799.0157013, -1344454242.090576, -140...   \n",
       "avg_score                                     -1509728442.988979   \n",
       "feature_names               (OverallQual, BsmtFinSF1, GrLivArea)   \n",
       "ci_bound                                        432298579.381082   \n",
       "std_dev                                         336342981.362061   \n",
       "std_err                                         168171490.681031   \n",
       "\n",
       "                                                             4    \\\n",
       "feature_idx                                      (2, 5, 12, 241)   \n",
       "cv_scores      [-1986377966.4655643, -1172041556.3089294, -12...   \n",
       "avg_score                                     -1369180956.596471   \n",
       "feature_names  (OverallQual, BsmtFinSF1, GrLivArea, KitchenQu...   \n",
       "ci_bound                                        472425878.260732   \n",
       "std_dev                                         367563383.146659   \n",
       "std_err                                         183781691.573329   \n",
       "\n",
       "                                                             5    \\\n",
       "feature_idx                                  (2, 5, 12, 82, 241)   \n",
       "cv_scores      [-1918531799.4810863, -1134327924.6425521, -10...   \n",
       "avg_score                                     -1291043505.772018   \n",
       "feature_names  (OverallQual, BsmtFinSF1, GrLivArea, Neighborh...   \n",
       "ci_bound                                        466739493.591128   \n",
       "std_dev                                          363139182.68853   \n",
       "std_err                                         181569591.344265   \n",
       "\n",
       "                                                             6    \\\n",
       "feature_idx                             (2, 5, 12, 82, 237, 241)   \n",
       "cv_scores      [-1833623712.1623774, -1103383139.8873606, -99...   \n",
       "avg_score                                     -1228163168.717676   \n",
       "feature_names  (OverallQual, BsmtFinSF1, GrLivArea, Neighborh...   \n",
       "ci_bound                                        451037700.436816   \n",
       "std_dev                                         350922654.172954   \n",
       "std_err                                         175461327.086477   \n",
       "\n",
       "                                                             7    \\\n",
       "feature_idx                         (2, 5, 12, 29, 82, 237, 241)   \n",
       "cv_scores      [-1763062445.5254934, -1003005769.7952023, -93...   \n",
       "avg_score                                     -1164133916.223538   \n",
       "feature_names  (OverallQual, BsmtFinSF1, GrLivArea, MSSubClas...   \n",
       "ci_bound                                        424775905.598267   \n",
       "std_dev                                         330490085.589078   \n",
       "std_err                                         165245042.794539   \n",
       "\n",
       "                                                             8    \\\n",
       "feature_idx                     (2, 5, 12, 29, 81, 82, 237, 241)   \n",
       "cv_scores      [-1680715970.933984, -888015637.4344084, -9301...   \n",
       "avg_score                                     -1117528497.793498   \n",
       "feature_names  (OverallQual, BsmtFinSF1, GrLivArea, MSSubClas...   \n",
       "ci_bound                                         402675389.46986   \n",
       "std_dev                                         313295133.214006   \n",
       "std_err                                         156647566.607003   \n",
       "\n",
       "                                                             9    \\\n",
       "feature_idx                (2, 5, 12, 29, 81, 82, 226, 237, 241)   \n",
       "cv_scores      [-1646681456.3052416, -953640064.2856702, -848...   \n",
       "avg_score                                     -1084260806.995014   \n",
       "feature_names  (OverallQual, BsmtFinSF1, GrLivArea, MSSubClas...   \n",
       "ci_bound                                        395297083.367851   \n",
       "std_dev                                         307554560.401335   \n",
       "std_err                                         153777280.200667   \n",
       "\n",
       "                                                             10   ...  \\\n",
       "feature_idx            (2, 5, 12, 29, 55, 81, 82, 226, 237, 241)  ...   \n",
       "cv_scores      [-1605140420.3188343, -912871887.9636647, -848...  ...   \n",
       "avg_score                                     -1066848717.013292  ...   \n",
       "feature_names  (OverallQual, BsmtFinSF1, GrLivArea, MSSubClas...  ...   \n",
       "ci_bound                                        379273374.032127  ...   \n",
       "std_dev                                          295087570.16007  ...   \n",
       "std_err                                         147543785.080035  ...   \n",
       "\n",
       "                                                             240  \\\n",
       "feature_idx    (0, 1, 2, 3, 4, 5, 6, 7, 8, 10, 12, 13, 14, 15...   \n",
       "cv_scores      [-1738504244.9474144, -943934217.825801, -8097...   \n",
       "avg_score                                     -1109446710.762368   \n",
       "feature_names  (LotFrontage, LotArea, OverallQual, OverallCon...   \n",
       "ci_bound                                        429319649.957041   \n",
       "std_dev                                         334025273.066134   \n",
       "std_err                                         167012636.533067   \n",
       "\n",
       "                                                             241  \\\n",
       "feature_idx    (0, 1, 2, 3, 4, 5, 6, 7, 8, 10, 12, 13, 14, 15...   \n",
       "cv_scores      [-1774436531.146387, -950028674.3912158, -7945...   \n",
       "avg_score                                       -1140321532.0731   \n",
       "feature_names  (LotFrontage, LotArea, OverallQual, OverallCon...   \n",
       "ci_bound                                        450109672.003957   \n",
       "std_dev                                         350200616.524014   \n",
       "std_err                                         175100308.262007   \n",
       "\n",
       "                                                             242  \\\n",
       "feature_idx    (0, 1, 2, 3, 4, 5, 6, 7, 8, 10, 12, 13, 14, 15...   \n",
       "cv_scores      [-1774436531.145777, -944961584.9973902, -7945...   \n",
       "avg_score                                     -1141700622.809399   \n",
       "feature_names  (LotFrontage, LotArea, OverallQual, OverallCon...   \n",
       "ci_bound                                        449048958.115127   \n",
       "std_dev                                         349375345.082567   \n",
       "std_err                                         174687672.541283   \n",
       "\n",
       "                                                             243  \\\n",
       "feature_idx    (0, 1, 2, 3, 4, 5, 6, 7, 8, 10, 12, 13, 14, 15...   \n",
       "cv_scores      [-1805796269.5121906, -945514151.7747034, -817...   \n",
       "avg_score                                      -1178133392.84886   \n",
       "feature_names  (LotFrontage, LotArea, OverallQual, OverallCon...   \n",
       "ci_bound                                        471278084.840533   \n",
       "std_dev                                         366670360.871429   \n",
       "std_err                                         183335180.435714   \n",
       "\n",
       "                                                             244  \\\n",
       "feature_idx    (0, 1, 2, 3, 4, 5, 6, 7, 8, 9, 10, 12, 13, 14,...   \n",
       "cv_scores      [-1807640170.9372907, -989208934.5597509, -851...   \n",
       "avg_score                                     -1222835684.917508   \n",
       "feature_names  (LotFrontage, LotArea, OverallQual, OverallCon...   \n",
       "ci_bound                                        431633319.002616   \n",
       "std_dev                                         335825386.186533   \n",
       "std_err                                         167912693.093266   \n",
       "\n",
       "                                                             245  \\\n",
       "feature_idx    (0, 1, 2, 3, 4, 5, 6, 7, 8, 9, 10, 11, 12, 13,...   \n",
       "cv_scores      [-1807640170.937492, -989208934.5593051, -8519...   \n",
       "avg_score                                     -1222835684.917434   \n",
       "feature_names  (LotFrontage, LotArea, OverallQual, OverallCon...   \n",
       "ci_bound                                        431633319.002859   \n",
       "std_dev                                         335825386.186722   \n",
       "std_err                                         167912693.093361   \n",
       "\n",
       "                                                             246  \\\n",
       "feature_idx    (0, 1, 2, 3, 4, 5, 6, 7, 8, 9, 10, 11, 12, 13,...   \n",
       "cv_scores      [-1829274440.1582906, -993870047.4249827, -861...   \n",
       "avg_score                                     -1287063438.842952   \n",
       "feature_names  (LotFrontage, LotArea, OverallQual, OverallCon...   \n",
       "ci_bound                                        436574481.938514   \n",
       "std_dev                                         339669778.818206   \n",
       "std_err                                         169834889.409103   \n",
       "\n",
       "                                                             247  \\\n",
       "feature_idx    (0, 1, 2, 3, 4, 5, 6, 7, 8, 9, 10, 11, 12, 13,...   \n",
       "cv_scores      [-1829274440.1589813, -999477877.1431607, -861...   \n",
       "avg_score                                     -1285429705.153014   \n",
       "feature_names  (LotFrontage, LotArea, OverallQual, OverallCon...   \n",
       "ci_bound                                        434679186.389781   \n",
       "std_dev                                         338195174.491874   \n",
       "std_err                                         169097587.245937   \n",
       "\n",
       "                                                             248  \\\n",
       "feature_idx    (0, 1, 2, 3, 4, 5, 6, 7, 8, 9, 10, 11, 12, 13,...   \n",
       "cv_scores      [-1712432236.4036915, -1029682934.675289, -174...   \n",
       "avg_score                                     -1379274855.647108   \n",
       "feature_names  (LotFrontage, LotArea, OverallQual, OverallCon...   \n",
       "ci_bound                                        374972187.058584   \n",
       "std_dev                                         291741100.569195   \n",
       "std_err                                         145870550.284598   \n",
       "\n",
       "                                                             249  \n",
       "feature_idx    (0, 1, 2, 3, 4, 5, 6, 7, 8, 9, 10, 11, 12, 13,...  \n",
       "cv_scores      [-1712267559.4299028, -1076447124.4277267, -16...  \n",
       "avg_score                                      -1380817607.98993  \n",
       "feature_names  (LotFrontage, LotArea, OverallQual, OverallCon...  \n",
       "ci_bound                                        331296306.994073  \n",
       "std_dev                                         257759782.065811  \n",
       "std_err                                         128879891.032905  \n",
       "\n",
       "[7 rows x 249 columns]"
      ]
     },
     "execution_count": 87,
     "metadata": {},
     "output_type": "execute_result"
    }
   ],
   "source": [
    "pd.DataFrame(sfs1.get_metric_dict())"
   ]
  },
  {
   "cell_type": "code",
   "execution_count": 92,
   "id": "708c0734-0d2b-422b-88f9-29011ff62063",
   "metadata": {
    "tags": []
   },
   "outputs": [
    {
     "data": {
      "text/plain": [
       "-797153440.9484987"
      ]
     },
     "execution_count": 92,
     "metadata": {},
     "output_type": "execute_result"
    }
   ],
   "source": [
    "sfs1.k_score_"
   ]
  },
  {
   "cell_type": "code",
   "execution_count": 93,
   "id": "ec7dff7a-6e6c-4641-9496-69424b2589bf",
   "metadata": {
    "tags": []
   },
   "outputs": [],
   "source": [
    "X_train_sfs = sfs1.transform(X_train)\n",
    "X_test_sfs = sfs1.transform(X_test)"
   ]
  },
  {
   "cell_type": "code",
   "execution_count": 94,
   "id": "77f2f21b-dfb1-456b-b731-1fbb3e6d9f28",
   "metadata": {
    "tags": []
   },
   "outputs": [
    {
     "data": {
      "text/html": [
       "<style>#sk-container-id-3 {color: black;background-color: white;}#sk-container-id-3 pre{padding: 0;}#sk-container-id-3 div.sk-toggleable {background-color: white;}#sk-container-id-3 label.sk-toggleable__label {cursor: pointer;display: block;width: 100%;margin-bottom: 0;padding: 0.3em;box-sizing: border-box;text-align: center;}#sk-container-id-3 label.sk-toggleable__label-arrow:before {content: \"▸\";float: left;margin-right: 0.25em;color: #696969;}#sk-container-id-3 label.sk-toggleable__label-arrow:hover:before {color: black;}#sk-container-id-3 div.sk-estimator:hover label.sk-toggleable__label-arrow:before {color: black;}#sk-container-id-3 div.sk-toggleable__content {max-height: 0;max-width: 0;overflow: hidden;text-align: left;background-color: #f0f8ff;}#sk-container-id-3 div.sk-toggleable__content pre {margin: 0.2em;color: black;border-radius: 0.25em;background-color: #f0f8ff;}#sk-container-id-3 input.sk-toggleable__control:checked~div.sk-toggleable__content {max-height: 200px;max-width: 100%;overflow: auto;}#sk-container-id-3 input.sk-toggleable__control:checked~label.sk-toggleable__label-arrow:before {content: \"▾\";}#sk-container-id-3 div.sk-estimator input.sk-toggleable__control:checked~label.sk-toggleable__label {background-color: #d4ebff;}#sk-container-id-3 div.sk-label input.sk-toggleable__control:checked~label.sk-toggleable__label {background-color: #d4ebff;}#sk-container-id-3 input.sk-hidden--visually {border: 0;clip: rect(1px 1px 1px 1px);clip: rect(1px, 1px, 1px, 1px);height: 1px;margin: -1px;overflow: hidden;padding: 0;position: absolute;width: 1px;}#sk-container-id-3 div.sk-estimator {font-family: monospace;background-color: #f0f8ff;border: 1px dotted black;border-radius: 0.25em;box-sizing: border-box;margin-bottom: 0.5em;}#sk-container-id-3 div.sk-estimator:hover {background-color: #d4ebff;}#sk-container-id-3 div.sk-parallel-item::after {content: \"\";width: 100%;border-bottom: 1px solid gray;flex-grow: 1;}#sk-container-id-3 div.sk-label:hover label.sk-toggleable__label {background-color: #d4ebff;}#sk-container-id-3 div.sk-serial::before {content: \"\";position: absolute;border-left: 1px solid gray;box-sizing: border-box;top: 0;bottom: 0;left: 50%;z-index: 0;}#sk-container-id-3 div.sk-serial {display: flex;flex-direction: column;align-items: center;background-color: white;padding-right: 0.2em;padding-left: 0.2em;position: relative;}#sk-container-id-3 div.sk-item {position: relative;z-index: 1;}#sk-container-id-3 div.sk-parallel {display: flex;align-items: stretch;justify-content: center;background-color: white;position: relative;}#sk-container-id-3 div.sk-item::before, #sk-container-id-3 div.sk-parallel-item::before {content: \"\";position: absolute;border-left: 1px solid gray;box-sizing: border-box;top: 0;bottom: 0;left: 50%;z-index: -1;}#sk-container-id-3 div.sk-parallel-item {display: flex;flex-direction: column;z-index: 1;position: relative;background-color: white;}#sk-container-id-3 div.sk-parallel-item:first-child::after {align-self: flex-end;width: 50%;}#sk-container-id-3 div.sk-parallel-item:last-child::after {align-self: flex-start;width: 50%;}#sk-container-id-3 div.sk-parallel-item:only-child::after {width: 0;}#sk-container-id-3 div.sk-dashed-wrapped {border: 1px dashed gray;margin: 0 0.4em 0.5em 0.4em;box-sizing: border-box;padding-bottom: 0.4em;background-color: white;}#sk-container-id-3 div.sk-label label {font-family: monospace;font-weight: bold;display: inline-block;line-height: 1.2em;}#sk-container-id-3 div.sk-label-container {text-align: center;}#sk-container-id-3 div.sk-container {/* jupyter's `normalize.less` sets `[hidden] { display: none; }` but bootstrap.min.css set `[hidden] { display: none !important; }` so we also need the `!important` here to be able to override the default hidden behavior on the sphinx rendered scikit-learn.org. See: https://github.com/scikit-learn/scikit-learn/issues/21755 */display: inline-block !important;position: relative;}#sk-container-id-3 div.sk-text-repr-fallback {display: none;}</style><div id=\"sk-container-id-3\" class=\"sk-top-container\"><div class=\"sk-text-repr-fallback\"><pre>LinearRegression()</pre><b>In a Jupyter environment, please rerun this cell to show the HTML representation or trust the notebook. <br />On GitHub, the HTML representation is unable to render, please try loading this page with nbviewer.org.</b></div><div class=\"sk-container\" hidden><div class=\"sk-item\"><div class=\"sk-estimator sk-toggleable\"><input class=\"sk-toggleable__control sk-hidden--visually\" id=\"sk-estimator-id-7\" type=\"checkbox\" checked><label for=\"sk-estimator-id-7\" class=\"sk-toggleable__label sk-toggleable__label-arrow\">LinearRegression</label><div class=\"sk-toggleable__content\"><pre>LinearRegression()</pre></div></div></div></div></div>"
      ],
      "text/plain": [
       "LinearRegression()"
      ]
     },
     "execution_count": 94,
     "metadata": {},
     "output_type": "execute_result"
    }
   ],
   "source": [
    "lr_sfs.fit(X_train_sfs, y_train)"
   ]
  },
  {
   "cell_type": "code",
   "execution_count": 95,
   "id": "029f981d-7081-4692-af57-44a867606e0a",
   "metadata": {
    "tags": []
   },
   "outputs": [
    {
     "name": "stdout",
     "output_type": "stream",
     "text": [
      "Mean squared error (MSE) score:  1529827848.5579665\n",
      "R squared (R2) score:  0.737569059559478\n",
      "Model score:  0.7066091970842658\n"
     ]
    }
   ],
   "source": [
    "y_pred_sfs = lr_sfs.predict(X_test_sfs)\n",
    "print('Mean squared error (MSE) score: ', mean_squared_error(y_pred_sfs, y_test))\n",
    "print('R squared (R2) score: ',r2_score(y_pred_sfs,y_test))\n",
    "print('Model score: ', lr_sfs.score(X_test_sfs, y_test))"
   ]
  },
  {
   "cell_type": "code",
   "execution_count": 96,
   "id": "e7b013c8-b8da-41dd-b4a3-70fd310b5c96",
   "metadata": {
    "tags": []
   },
   "outputs": [
    {
     "data": {
      "text/plain": [
       "array([ 2.37853486e-01,  8.62670552e+03,  5.09023615e+03,  2.54731966e+02,\n",
       "        2.32415620e+01,  1.31883002e+01,  4.91267884e+01,  7.47754794e+03,\n",
       "        4.50530729e+03,  2.59756074e+01, -2.33314696e+01,  4.69515664e+01,\n",
       "       -7.80973765e+01, -4.62311563e+02,  7.76664151e+03, -1.50461618e+04,\n",
       "       -2.96320035e+04,  3.23654310e+03,  1.49276114e+04,  1.20069653e+04,\n",
       "        1.91074855e+04,  8.87985270e+03,  1.33374177e+04,  1.28753210e+04,\n",
       "        7.03722027e+03,  1.70283615e+04,  1.11986866e+04, -4.45193002e+03,\n",
       "        2.49313296e+04, -9.12429854e+03,  2.74049796e+04,  4.90246029e+04,\n",
       "        4.70372066e+04,  1.04252050e+04,  1.34222342e+04,  6.24553120e+04,\n",
       "        2.89411981e+04,  1.62649526e+04,  1.86029270e+04,  2.64062363e+04,\n",
       "        8.59271386e+04, -6.08636476e+04,  3.63797881e-11,  2.29333261e+04,\n",
       "        2.19497497e+04,  1.08474884e+04,  6.91428817e+03, -5.30986945e+03,\n",
       "        1.45519152e-11,  3.74176701e+04,  5.09317033e-11, -1.31149392e+04,\n",
       "        7.59741991e+04,  7.27595761e-11,  1.09770281e+04, -1.09139364e-11,\n",
       "       -2.60898668e+03, -3.84675643e+04,  1.73649478e+04,  2.97035393e+03,\n",
       "       -3.71916744e+03, -1.69417334e+04, -2.91038305e-11, -1.21680814e+04,\n",
       "       -5.06438847e+04, -1.00088500e+04, -6.04104460e+03,  7.76970628e+03,\n",
       "        9.63889417e+03, -7.10322079e+03, -3.84226341e+04,  3.09486516e+04,\n",
       "       -1.09139364e-11,  2.28770909e+04,  5.96723144e+04,  1.92103746e+04,\n",
       "       -7.01422589e+03, -1.12718348e+05,  2.64277115e+04, -8.95212948e+03,\n",
       "       -8.60830606e+03,  1.61947684e+04,  1.49019689e+04,  1.66096883e+04,\n",
       "        1.29602491e+04, -1.29602491e+04,  6.76920613e+03, -7.30699278e+03,\n",
       "        7.14555056e+03, -5.51303693e+03,  5.96933940e+03,  2.80613717e+03,\n",
       "        7.35882343e+03,  7.78627269e+03,  2.82983391e+04])"
      ]
     },
     "execution_count": 96,
     "metadata": {},
     "output_type": "execute_result"
    }
   ],
   "source": [
    "lr_sfs.coef_"
   ]
  },
  {
   "cell_type": "code",
   "execution_count": 97,
   "id": "8cf2e4e1-986c-418e-8200-15c25bdaad32",
   "metadata": {
    "tags": []
   },
   "outputs": [
    {
     "data": {
      "text/plain": [
       "-702711.127979979"
      ]
     },
     "execution_count": 97,
     "metadata": {},
     "output_type": "execute_result"
    }
   ],
   "source": [
    "lr_sfs.intercept_"
   ]
  },
  {
   "cell_type": "code",
   "execution_count": 98,
   "id": "acdef9bb-cb7e-49f7-af73-f57c95249de3",
   "metadata": {
    "tags": []
   },
   "outputs": [],
   "source": [
    "errors = y_pred_sfs - y_test"
   ]
  },
  {
   "cell_type": "code",
   "execution_count": 99,
   "id": "db62615f-37d4-4aac-a008-6f3f7064202f",
   "metadata": {
    "tags": []
   },
   "outputs": [
    {
     "data": {
      "text/plain": [
       "Text(0, 0.5, 'Density')"
      ]
     },
     "execution_count": 99,
     "metadata": {},
     "output_type": "execute_result"
    },
    {
     "data": {
      "image/png": "[encoded data removed]",
      "text/plain": [
       "<Figure size 640x480 with 1 Axes>"
      ]
     },
     "metadata": {},
     "output_type": "display_data"
    }
   ],
   "source": [
    "plt.hist(errors, bins=6, density=True)\n",
    "plt.title(\"Distribution of prediction error\")\n",
    "plt.xlabel(\"Prediction error\")\n",
    "plt.ylabel(\"Density\")"
   ]
  },
  {
   "cell_type": "code",
   "execution_count": 100,
   "id": "611391dd-481d-47c9-88ab-105c090dbf58",
   "metadata": {
    "tags": []
   },
   "outputs": [
    {
     "data": {
      "text/plain": [
       "Text(0, 0.5, 'Predicted value')"
      ]
     },
     "execution_count": 100,
     "metadata": {},
     "output_type": "execute_result"
    },
    {
     "data": {
      "image/png": "[encoded data removed]",
      "text/plain": [
       "<Figure size 640x480 with 1 Axes>"
      ]
     },
     "metadata": {},
     "output_type": "display_data"
    }
   ],
   "source": [
    "plt.plot(y_test, y_pred_sfs, '.')\n",
    "minval, maxval = np.min(y_test), np.max(y_test)\n",
    "plt.plot([minval, maxval], [minval, maxval], 'r--')\n",
    "plt.xlabel(\"Actual value\")\n",
    "plt.ylabel(\"Predicted value\")"
   ]
  },
  {
   "cell_type": "code",
   "execution_count": 101,
   "id": "7661207c-c0dd-436e-bc73-381dc184c5f2",
   "metadata": {
    "tags": []
   },
   "outputs": [
    {
     "data": {
      "text/plain": [
       "Text(0, 0.5, 'Prediction error')"
      ]
     },
     "execution_count": 101,
     "metadata": {},
     "output_type": "execute_result"
    },
    {
     "data": {
      "image/png": "[encoded data removed]",
      "text/plain": [
       "<Figure size 640x480 with 1 Axes>"
      ]
     },
     "metadata": {},
     "output_type": "display_data"
    }
   ],
   "source": [
    "plt.plot(y_test, errors, '.')\n",
    "plt.hlines(y=0, xmin=minval, xmax=maxval, linestyles=\"--\", colors='r')\n",
    "plt.xlabel(\"Actual value\")\n",
    "plt.ylabel(\"Prediction error\")"
   ]
  },
  {
   "cell_type": "raw",
   "id": "88eb2d14-7eb4-40c5-a4a9-bf53b4e46cf8",
   "metadata": {},
   "source": [
    "Lasso regression "
   ]
  },
  {
   "cell_type": "code",
   "execution_count": 102,
   "id": "df498acc-ba84-4cea-ba17-23f0fc486303",
   "metadata": {
    "tags": []
   },
   "outputs": [],
   "source": [
    "scaler = StandardScaler()\n",
    "X_train_standardized = scaler.fit_transform(X_train)\n",
    "X_test_standardized = scaler.transform(X_test)"
   ]
  },
  {
   "cell_type": "code",
   "execution_count": 103,
   "id": "56284961-b5ad-4f4c-b449-e2ea442b4b02",
   "metadata": {
    "tags": []
   },
   "outputs": [
    {
     "name": "stderr",
     "output_type": "stream",
     "text": [
      "/opt/software/lib/python3.10/site-packages/sklearn/linear_model/_coordinate_descent.py:631: ConvergenceWarning: Objective did not converge. You might want to increase the number of iterations, check the scale of the features or consider increasing regularisation. Duality gap: 1.119e+10, tolerance: 6.907e+08\n",
      "  model = cd_fast.enet_coordinate_descent(\n"
     ]
    },
    {
     "data": {
      "text/html": [
       "<style>#sk-container-id-4 {color: black;background-color: white;}#sk-container-id-4 pre{padding: 0;}#sk-container-id-4 div.sk-toggleable {background-color: white;}#sk-container-id-4 label.sk-toggleable__label {cursor: pointer;display: block;width: 100%;margin-bottom: 0;padding: 0.3em;box-sizing: border-box;text-align: center;}#sk-container-id-4 label.sk-toggleable__label-arrow:before {content: \"▸\";float: left;margin-right: 0.25em;color: #696969;}#sk-container-id-4 label.sk-toggleable__label-arrow:hover:before {color: black;}#sk-container-id-4 div.sk-estimator:hover label.sk-toggleable__label-arrow:before {color: black;}#sk-container-id-4 div.sk-toggleable__content {max-height: 0;max-width: 0;overflow: hidden;text-align: left;background-color: #f0f8ff;}#sk-container-id-4 div.sk-toggleable__content pre {margin: 0.2em;color: black;border-radius: 0.25em;background-color: #f0f8ff;}#sk-container-id-4 input.sk-toggleable__control:checked~div.sk-toggleable__content {max-height: 200px;max-width: 100%;overflow: auto;}#sk-container-id-4 input.sk-toggleable__control:checked~label.sk-toggleable__label-arrow:before {content: \"▾\";}#sk-container-id-4 div.sk-estimator input.sk-toggleable__control:checked~label.sk-toggleable__label {background-color: #d4ebff;}#sk-container-id-4 div.sk-label input.sk-toggleable__control:checked~label.sk-toggleable__label {background-color: #d4ebff;}#sk-container-id-4 input.sk-hidden--visually {border: 0;clip: rect(1px 1px 1px 1px);clip: rect(1px, 1px, 1px, 1px);height: 1px;margin: -1px;overflow: hidden;padding: 0;position: absolute;width: 1px;}#sk-container-id-4 div.sk-estimator {font-family: monospace;background-color: #f0f8ff;border: 1px dotted black;border-radius: 0.25em;box-sizing: border-box;margin-bottom: 0.5em;}#sk-container-id-4 div.sk-estimator:hover {background-color: #d4ebff;}#sk-container-id-4 div.sk-parallel-item::after {content: \"\";width: 100%;border-bottom: 1px solid gray;flex-grow: 1;}#sk-container-id-4 div.sk-label:hover label.sk-toggleable__label {background-color: #d4ebff;}#sk-container-id-4 div.sk-serial::before {content: \"\";position: absolute;border-left: 1px solid gray;box-sizing: border-box;top: 0;bottom: 0;left: 50%;z-index: 0;}#sk-container-id-4 div.sk-serial {display: flex;flex-direction: column;align-items: center;background-color: white;padding-right: 0.2em;padding-left: 0.2em;position: relative;}#sk-container-id-4 div.sk-item {position: relative;z-index: 1;}#sk-container-id-4 div.sk-parallel {display: flex;align-items: stretch;justify-content: center;background-color: white;position: relative;}#sk-container-id-4 div.sk-item::before, #sk-container-id-4 div.sk-parallel-item::before {content: \"\";position: absolute;border-left: 1px solid gray;box-sizing: border-box;top: 0;bottom: 0;left: 50%;z-index: -1;}#sk-container-id-4 div.sk-parallel-item {display: flex;flex-direction: column;z-index: 1;position: relative;background-color: white;}#sk-container-id-4 div.sk-parallel-item:first-child::after {align-self: flex-end;width: 50%;}#sk-container-id-4 div.sk-parallel-item:last-child::after {align-self: flex-start;width: 50%;}#sk-container-id-4 div.sk-parallel-item:only-child::after {width: 0;}#sk-container-id-4 div.sk-dashed-wrapped {border: 1px dashed gray;margin: 0 0.4em 0.5em 0.4em;box-sizing: border-box;padding-bottom: 0.4em;background-color: white;}#sk-container-id-4 div.sk-label label {font-family: monospace;font-weight: bold;display: inline-block;line-height: 1.2em;}#sk-container-id-4 div.sk-label-container {text-align: center;}#sk-container-id-4 div.sk-container {/* jupyter's `normalize.less` sets `[hidden] { display: none; }` but bootstrap.min.css set `[hidden] { display: none !important; }` so we also need the `!important` here to be able to override the default hidden behavior on the sphinx rendered scikit-learn.org. See: https://github.com/scikit-learn/scikit-learn/issues/21755 */display: inline-block !important;position: relative;}#sk-container-id-4 div.sk-text-repr-fallback {display: none;}</style><div id=\"sk-container-id-4\" class=\"sk-top-container\"><div class=\"sk-text-repr-fallback\"><pre>Lasso()</pre><b>In a Jupyter environment, please rerun this cell to show the HTML representation or trust the notebook. <br />On GitHub, the HTML representation is unable to render, please try loading this page with nbviewer.org.</b></div><div class=\"sk-container\" hidden><div class=\"sk-item\"><div class=\"sk-estimator sk-toggleable\"><input class=\"sk-toggleable__control sk-hidden--visually\" id=\"sk-estimator-id-8\" type=\"checkbox\" checked><label for=\"sk-estimator-id-8\" class=\"sk-toggleable__label sk-toggleable__label-arrow\">Lasso</label><div class=\"sk-toggleable__content\"><pre>Lasso()</pre></div></div></div></div></div>"
      ],
      "text/plain": [
       "Lasso()"
      ]
     },
     "execution_count": 103,
     "metadata": {},
     "output_type": "execute_result"
    }
   ],
   "source": [
    "lasso_original = Lasso(alpha=1.0)\n",
    "lasso_original.fit(X_train_standardized, y_train)"
   ]
  },
  {
   "cell_type": "code",
   "execution_count": 104,
   "id": "86e31b33-68a6-48d3-a2f6-80156d2c99bb",
   "metadata": {
    "tags": []
   },
   "outputs": [
    {
     "name": "stdout",
     "output_type": "stream",
     "text": [
      "Mean squared error (MSE) score:  1785415743.2378323\n",
      "R squared (R2) score:  0.7192186279654738\n",
      "Model score:  0.6575924807874931\n"
     ]
    }
   ],
   "source": [
    "y_pred_original = lasso_original.predict(X_test_standardized)\n",
    "print('Mean squared error (MSE) score: ', mean_squared_error(y_pred_original, y_test))\n",
    "print('R squared (R2) score: ',r2_score(y_pred_original,y_test))\n",
    "print('Model score: ', lasso_original.score(X_test_standardized, y_test))"
   ]
  },
  {
   "cell_type": "code",
   "execution_count": 107,
   "id": "627ad478-dda6-42f6-b9c8-06f4d5b079c6",
   "metadata": {
    "tags": []
   },
   "outputs": [
    {
     "name": "stderr",
     "output_type": "stream",
     "text": [
      "/opt/software/lib/python3.10/site-packages/sklearn/linear_model/_coordinate_descent.py:617: ConvergenceWarning: Objective did not converge. You might want to increase the number of iterations. Duality gap: 1533624771.4042358, tolerance: 563405665.7429878\n",
      "  model = cd_fast.enet_coordinate_descent_gram(\n",
      "/opt/software/lib/python3.10/site-packages/sklearn/linear_model/_coordinate_descent.py:617: ConvergenceWarning: Objective did not converge. You might want to increase the number of iterations. Duality gap: 1207734211.994629, tolerance: 563405665.7429878\n",
      "  model = cd_fast.enet_coordinate_descent_gram(\n",
      "/opt/software/lib/python3.10/site-packages/sklearn/linear_model/_coordinate_descent.py:617: ConvergenceWarning: Objective did not converge. You might want to increase the number of iterations. Duality gap: 1171487616.5716553, tolerance: 563405665.7429878\n",
      "  model = cd_fast.enet_coordinate_descent_gram(\n",
      "/opt/software/lib/python3.10/site-packages/sklearn/linear_model/_coordinate_descent.py:617: ConvergenceWarning: Objective did not converge. You might want to increase the number of iterations. Duality gap: 1167846049.5535278, tolerance: 563405665.7429878\n",
      "  model = cd_fast.enet_coordinate_descent_gram(\n",
      "/opt/software/lib/python3.10/site-packages/sklearn/linear_model/_coordinate_descent.py:617: ConvergenceWarning: Objective did not converge. You might want to increase the number of iterations. Duality gap: 1167482888.8500977, tolerance: 563405665.7429878\n",
      "  model = cd_fast.enet_coordinate_descent_gram(\n",
      "/opt/software/lib/python3.10/site-packages/sklearn/linear_model/_coordinate_descent.py:617: ConvergenceWarning: Objective did not converge. You might want to increase the number of iterations. Duality gap: 894590945.1534424, tolerance: 545449283.2581841\n",
      "  model = cd_fast.enet_coordinate_descent_gram(\n",
      "/opt/software/lib/python3.10/site-packages/sklearn/linear_model/_coordinate_descent.py:617: ConvergenceWarning: Objective did not converge. You might want to increase the number of iterations. Duality gap: 661904710.699585, tolerance: 545449283.2581841\n",
      "  model = cd_fast.enet_coordinate_descent_gram(\n",
      "/opt/software/lib/python3.10/site-packages/sklearn/linear_model/_coordinate_descent.py:617: ConvergenceWarning: Objective did not converge. You might want to increase the number of iterations. Duality gap: 1618413934.86438, tolerance: 545449283.2581841\n",
      "  model = cd_fast.enet_coordinate_descent_gram(\n",
      "/opt/software/lib/python3.10/site-packages/sklearn/linear_model/_coordinate_descent.py:617: ConvergenceWarning: Objective did not converge. You might want to increase the number of iterations. Duality gap: 4399955888.052856, tolerance: 545449283.2581841\n",
      "  model = cd_fast.enet_coordinate_descent_gram(\n",
      "/opt/software/lib/python3.10/site-packages/sklearn/linear_model/_coordinate_descent.py:617: ConvergenceWarning: Objective did not converge. You might want to increase the number of iterations. Duality gap: 4399413560.265625, tolerance: 545449283.2581841\n",
      "  model = cd_fast.enet_coordinate_descent_gram(\n",
      "/opt/software/lib/python3.10/site-packages/sklearn/linear_model/_coordinate_descent.py:617: ConvergenceWarning: Objective did not converge. You might want to increase the number of iterations. Duality gap: 1014488916.8964844, tolerance: 558789710.6172214\n",
      "  model = cd_fast.enet_coordinate_descent_gram(\n",
      "/opt/software/lib/python3.10/site-packages/sklearn/linear_model/_coordinate_descent.py:617: ConvergenceWarning: Objective did not converge. You might want to increase the number of iterations. Duality gap: 1221308109.7006226, tolerance: 558789710.6172214\n",
      "  model = cd_fast.enet_coordinate_descent_gram(\n",
      "/opt/software/lib/python3.10/site-packages/sklearn/linear_model/_coordinate_descent.py:617: ConvergenceWarning: Objective did not converge. You might want to increase the number of iterations. Duality gap: 1135261792.404541, tolerance: 558789710.6172214\n",
      "  model = cd_fast.enet_coordinate_descent_gram(\n",
      "/opt/software/lib/python3.10/site-packages/sklearn/linear_model/_coordinate_descent.py:617: ConvergenceWarning: Objective did not converge. You might want to increase the number of iterations. Duality gap: 1128008347.7730713, tolerance: 558789710.6172214\n",
      "  model = cd_fast.enet_coordinate_descent_gram(\n",
      "/opt/software/lib/python3.10/site-packages/sklearn/linear_model/_coordinate_descent.py:617: ConvergenceWarning: Objective did not converge. You might want to increase the number of iterations. Duality gap: 1110320559.4957275, tolerance: 558789710.6172214\n",
      "  model = cd_fast.enet_coordinate_descent_gram(\n",
      "/opt/software/lib/python3.10/site-packages/sklearn/linear_model/_coordinate_descent.py:617: ConvergenceWarning: Objective did not converge. You might want to increase the number of iterations. Duality gap: 945458843.7276611, tolerance: 577603983.2334318\n",
      "  model = cd_fast.enet_coordinate_descent_gram(\n",
      "/opt/software/lib/python3.10/site-packages/sklearn/linear_model/_coordinate_descent.py:617: ConvergenceWarning: Objective did not converge. You might want to increase the number of iterations. Duality gap: 3782866072.6954346, tolerance: 577603983.2334318\n",
      "  model = cd_fast.enet_coordinate_descent_gram(\n",
      "/opt/software/lib/python3.10/site-packages/sklearn/linear_model/_coordinate_descent.py:617: ConvergenceWarning: Objective did not converge. You might want to increase the number of iterations. Duality gap: 3725872891.1348877, tolerance: 577603983.2334318\n",
      "  model = cd_fast.enet_coordinate_descent_gram(\n",
      "/opt/software/lib/python3.10/site-packages/sklearn/linear_model/_coordinate_descent.py:617: ConvergenceWarning: Objective did not converge. You might want to increase the number of iterations. Duality gap: 3720162595.237732, tolerance: 577603983.2334318\n",
      "  model = cd_fast.enet_coordinate_descent_gram(\n",
      "/opt/software/lib/python3.10/site-packages/sklearn/linear_model/_coordinate_descent.py:617: ConvergenceWarning: Objective did not converge. You might want to increase the number of iterations. Duality gap: 3719588655.8773804, tolerance: 577603983.2334318\n",
      "  model = cd_fast.enet_coordinate_descent_gram(\n",
      "/opt/software/lib/python3.10/site-packages/sklearn/linear_model/_coordinate_descent.py:617: ConvergenceWarning: Objective did not converge. You might want to increase the number of iterations. Duality gap: 1191176691.6726074, tolerance: 517555184.51157236\n",
      "  model = cd_fast.enet_coordinate_descent_gram(\n",
      "/opt/software/lib/python3.10/site-packages/sklearn/linear_model/_coordinate_descent.py:617: ConvergenceWarning: Objective did not converge. You might want to increase the number of iterations. Duality gap: 892294675.1921387, tolerance: 517555184.51157236\n",
      "  model = cd_fast.enet_coordinate_descent_gram(\n",
      "/opt/software/lib/python3.10/site-packages/sklearn/linear_model/_coordinate_descent.py:617: ConvergenceWarning: Objective did not converge. You might want to increase the number of iterations. Duality gap: 855613455.3341064, tolerance: 517555184.51157236\n",
      "  model = cd_fast.enet_coordinate_descent_gram(\n",
      "/opt/software/lib/python3.10/site-packages/sklearn/linear_model/_coordinate_descent.py:617: ConvergenceWarning: Objective did not converge. You might want to increase the number of iterations. Duality gap: 807326394.6723022, tolerance: 517555184.51157236\n",
      "  model = cd_fast.enet_coordinate_descent_gram(\n",
      "/opt/software/lib/python3.10/site-packages/sklearn/linear_model/_coordinate_descent.py:617: ConvergenceWarning: Objective did not converge. You might want to increase the number of iterations. Duality gap: 1577975347.3791504, tolerance: 517555184.51157236\n",
      "  model = cd_fast.enet_coordinate_descent_gram(\n",
      "/opt/software/lib/python3.10/site-packages/sklearn/linear_model/_coordinate_descent.py:631: ConvergenceWarning: Objective did not converge. You might want to increase the number of iterations, check the scale of the features or consider increasing regularisation. Duality gap: 1.472e+09, tolerance: 6.907e+08\n",
      "  model = cd_fast.enet_coordinate_descent(\n"
     ]
    },
    {
     "data": {
      "text/html": [
       "<style>#sk-container-id-5 {color: black;background-color: white;}#sk-container-id-5 pre{padding: 0;}#sk-container-id-5 div.sk-toggleable {background-color: white;}#sk-container-id-5 label.sk-toggleable__label {cursor: pointer;display: block;width: 100%;margin-bottom: 0;padding: 0.3em;box-sizing: border-box;text-align: center;}#sk-container-id-5 label.sk-toggleable__label-arrow:before {content: \"▸\";float: left;margin-right: 0.25em;color: #696969;}#sk-container-id-5 label.sk-toggleable__label-arrow:hover:before {color: black;}#sk-container-id-5 div.sk-estimator:hover label.sk-toggleable__label-arrow:before {color: black;}#sk-container-id-5 div.sk-toggleable__content {max-height: 0;max-width: 0;overflow: hidden;text-align: left;background-color: #f0f8ff;}#sk-container-id-5 div.sk-toggleable__content pre {margin: 0.2em;color: black;border-radius: 0.25em;background-color: #f0f8ff;}#sk-container-id-5 input.sk-toggleable__control:checked~div.sk-toggleable__content {max-height: 200px;max-width: 100%;overflow: auto;}#sk-container-id-5 input.sk-toggleable__control:checked~label.sk-toggleable__label-arrow:before {content: \"▾\";}#sk-container-id-5 div.sk-estimator input.sk-toggleable__control:checked~label.sk-toggleable__label {background-color: #d4ebff;}#sk-container-id-5 div.sk-label input.sk-toggleable__control:checked~label.sk-toggleable__label {background-color: #d4ebff;}#sk-container-id-5 input.sk-hidden--visually {border: 0;clip: rect(1px 1px 1px 1px);clip: rect(1px, 1px, 1px, 1px);height: 1px;margin: -1px;overflow: hidden;padding: 0;position: absolute;width: 1px;}#sk-container-id-5 div.sk-estimator {font-family: monospace;background-color: #f0f8ff;border: 1px dotted black;border-radius: 0.25em;box-sizing: border-box;margin-bottom: 0.5em;}#sk-container-id-5 div.sk-estimator:hover {background-color: #d4ebff;}#sk-container-id-5 div.sk-parallel-item::after {content: \"\";width: 100%;border-bottom: 1px solid gray;flex-grow: 1;}#sk-container-id-5 div.sk-label:hover label.sk-toggleable__label {background-color: #d4ebff;}#sk-container-id-5 div.sk-serial::before {content: \"\";position: absolute;border-left: 1px solid gray;box-sizing: border-box;top: 0;bottom: 0;left: 50%;z-index: 0;}#sk-container-id-5 div.sk-serial {display: flex;flex-direction: column;align-items: center;background-color: white;padding-right: 0.2em;padding-left: 0.2em;position: relative;}#sk-container-id-5 div.sk-item {position: relative;z-index: 1;}#sk-container-id-5 div.sk-parallel {display: flex;align-items: stretch;justify-content: center;background-color: white;position: relative;}#sk-container-id-5 div.sk-item::before, #sk-container-id-5 div.sk-parallel-item::before {content: \"\";position: absolute;border-left: 1px solid gray;box-sizing: border-box;top: 0;bottom: 0;left: 50%;z-index: -1;}#sk-container-id-5 div.sk-parallel-item {display: flex;flex-direction: column;z-index: 1;position: relative;background-color: white;}#sk-container-id-5 div.sk-parallel-item:first-child::after {align-self: flex-end;width: 50%;}#sk-container-id-5 div.sk-parallel-item:last-child::after {align-self: flex-start;width: 50%;}#sk-container-id-5 div.sk-parallel-item:only-child::after {width: 0;}#sk-container-id-5 div.sk-dashed-wrapped {border: 1px dashed gray;margin: 0 0.4em 0.5em 0.4em;box-sizing: border-box;padding-bottom: 0.4em;background-color: white;}#sk-container-id-5 div.sk-label label {font-family: monospace;font-weight: bold;display: inline-block;line-height: 1.2em;}#sk-container-id-5 div.sk-label-container {text-align: center;}#sk-container-id-5 div.sk-container {/* jupyter's `normalize.less` sets `[hidden] { display: none; }` but bootstrap.min.css set `[hidden] { display: none !important; }` so we also need the `!important` here to be able to override the default hidden behavior on the sphinx rendered scikit-learn.org. See: https://github.com/scikit-learn/scikit-learn/issues/21755 */display: inline-block !important;position: relative;}#sk-container-id-5 div.sk-text-repr-fallback {display: none;}</style><div id=\"sk-container-id-5\" class=\"sk-top-container\"><div class=\"sk-text-repr-fallback\"><pre>LassoCV(alphas=[0.001, 0.01, 0.1, 1.0, 10.0], cv=5)</pre><b>In a Jupyter environment, please rerun this cell to show the HTML representation or trust the notebook. <br />On GitHub, the HTML representation is unable to render, please try loading this page with nbviewer.org.</b></div><div class=\"sk-container\" hidden><div class=\"sk-item\"><div class=\"sk-estimator sk-toggleable\"><input class=\"sk-toggleable__control sk-hidden--visually\" id=\"sk-estimator-id-9\" type=\"checkbox\" checked><label for=\"sk-estimator-id-9\" class=\"sk-toggleable__label sk-toggleable__label-arrow\">LassoCV</label><div class=\"sk-toggleable__content\"><pre>LassoCV(alphas=[0.001, 0.01, 0.1, 1.0, 10.0], cv=5)</pre></div></div></div></div></div>"
      ],
      "text/plain": [
       "LassoCV(alphas=[0.001, 0.01, 0.1, 1.0, 10.0], cv=5)"
      ]
     },
     "execution_count": 107,
     "metadata": {},
     "output_type": "execute_result"
    }
   ],
   "source": [
    "lasso = LassoCV(alphas=[0.001, 0.01, 0.1, 1.0, 10.0], cv=5)\n",
    "lasso.fit(X_train_standardized, y_train)"
   ]
  },
  {
   "cell_type": "code",
   "execution_count": 108,
   "id": "e2e44a5d-3327-42d9-9524-7a3496d04328",
   "metadata": {
    "tags": []
   },
   "outputs": [
    {
     "name": "stdout",
     "output_type": "stream",
     "text": [
      "Selected alpha: 10.0\n"
     ]
    }
   ],
   "source": [
    "print(\"Selected alpha:\", lasso.alpha_)"
   ]
  },
  {
   "cell_type": "code",
   "execution_count": 109,
   "id": "0743f46d-dace-4dbd-82ea-bda7cec219e9",
   "metadata": {
    "tags": []
   },
   "outputs": [],
   "source": [
    "lasso_coefs = lasso.coef_\n",
    "selected_features = X.columns[lasso_coefs != 0]"
   ]
  },
  {
   "cell_type": "code",
   "execution_count": 110,
   "id": "45207bc7-cf35-44e3-81d7-069893405871",
   "metadata": {
    "tags": []
   },
   "outputs": [
    {
     "name": "stdout",
     "output_type": "stream",
     "text": [
      "Selected features: Index(['LotFrontage', 'LotArea', 'OverallQual', 'OverallCond', 'YearBuilt',\n",
      "       'BsmtFinSF1', 'BsmtFinSF2', 'TotalBsmtSF', '1stFlrSF', '2ndFlrSF',\n",
      "       ...\n",
      "       'BsmtFinType1_encoded', 'BsmtFinType2_encoded', 'HeatingQC_encoded',\n",
      "       'KitchenQual_encoded', 'Functional_encoded', 'FireplaceQu_encoded',\n",
      "       'GarageQual_encoded', 'GarageCond_encoded', 'PoolQC_encoded',\n",
      "       'Fence_encoded'],\n",
      "      dtype='object', length=215)\n"
     ]
    }
   ],
   "source": [
    "print(\"Selected features:\", selected_features)"
   ]
  },
  {
   "cell_type": "code",
   "execution_count": 122,
   "id": "92fe632a-5c48-4c0c-8666-78ec838962e4",
   "metadata": {
    "tags": []
   },
   "outputs": [
    {
     "data": {
      "text/plain": [
       "Text(0, 0.5, 'Predicted value')"
      ]
     },
     "execution_count": 122,
     "metadata": {},
     "output_type": "execute_result"
    },
    {
     "data": {
      "image/png": "[encoded data removed]",
      "text/plain": [
       "<Figure size 640x480 with 1 Axes>"
      ]
     },
     "metadata": {},
     "output_type": "display_data"
    }
   ],
   "source": [
    "plt.plot(y_test, y_pred, '.')\n",
    "minval, maxval = np.min(y_test), np.max(y_test)\n",
    "plt.plot([minval, maxval], [minval, maxval], 'r--')\n",
    "plt.xlabel(\"Actual value\")\n",
    "plt.ylabel(\"Predicted value\")"
   ]
  },
  {
   "cell_type": "code",
   "execution_count": 111,
   "id": "c697ea5d-8259-4f43-bed4-a445f5e7bb62",
   "metadata": {
    "tags": []
   },
   "outputs": [
    {
     "name": "stdout",
     "output_type": "stream",
     "text": [
      "Mean squared error (MSE) score:  1747195969.4903564\n",
      "R squared (R2) score:  0.7231035187368924\n",
      "Model score:  0.6575924807874931\n"
     ]
    }
   ],
   "source": [
    "y_pred = lasso.predict(X_test_standardized)\n",
    "print('Mean squared error (MSE) score: ', mean_squared_error(y_pred, y_test))\n",
    "print('R squared (R2) score: ',r2_score(y_pred,y_test))\n",
    "print('Model score: ', lasso_original.score(X_test_standardized, y_test))"
   ]
  },
  {
   "cell_type": "raw",
   "id": "a0070340-fe9a-43fd-921a-75bb75458db2",
   "metadata": {},
   "source": [
    "XGBoost"
   ]
  },
  {
   "cell_type": "code",
   "execution_count": 114,
   "id": "b7fdda2b-2ce8-40cb-a181-4335b8812020",
   "metadata": {
    "tags": []
   },
   "outputs": [
    {
     "name": "stdout",
     "output_type": "stream",
     "text": [
      "1 -3518694492.176834\n",
      "2 -2654735168.4966226\n",
      "3 -2074040533.2589574\n",
      "4 -1958542175.067453\n",
      "5 -1994852060.9047744\n",
      "6 -1902998435.3408856\n",
      "7 -2355162235.6544356\n",
      "8 -2208973856.609786\n",
      "9 -2517914766.953231\n"
     ]
    }
   ],
   "source": [
    "crossvalidation=KFold(n_splits=10, shuffle=True, random_state=1)\n",
    "for depth in range(1, 10):\n",
    "     tree_regressor=tree.DecisionTreeRegressor(max_depth=depth,random_state=1)\n",
    "     if tree_regressor.fit(X_train,y_train.values.ravel()).tree_.max_depth < depth:\n",
    "         break\n",
    "     score=np.mean(cross_val_score(tree_regressor,X_train,y_train.values.ravel(), scoring='neg_mean_squared_error', cv=crossvalidation, n_jobs=1))\n",
    "     print(depth, score)\n"
   ]
  },
  {
   "cell_type": "code",
   "execution_count": 116,
   "id": "6b3e84b1-664d-4ef3-acc2-7624d3862067",
   "metadata": {
    "tags": []
   },
   "outputs": [
    {
     "data": {
      "text/html": [
       "<style>#sk-container-id-6 {color: black;background-color: white;}#sk-container-id-6 pre{padding: 0;}#sk-container-id-6 div.sk-toggleable {background-color: white;}#sk-container-id-6 label.sk-toggleable__label {cursor: pointer;display: block;width: 100%;margin-bottom: 0;padding: 0.3em;box-sizing: border-box;text-align: center;}#sk-container-id-6 label.sk-toggleable__label-arrow:before {content: \"▸\";float: left;margin-right: 0.25em;color: #696969;}#sk-container-id-6 label.sk-toggleable__label-arrow:hover:before {color: black;}#sk-container-id-6 div.sk-estimator:hover label.sk-toggleable__label-arrow:before {color: black;}#sk-container-id-6 div.sk-toggleable__content {max-height: 0;max-width: 0;overflow: hidden;text-align: left;background-color: #f0f8ff;}#sk-container-id-6 div.sk-toggleable__content pre {margin: 0.2em;color: black;border-radius: 0.25em;background-color: #f0f8ff;}#sk-container-id-6 input.sk-toggleable__control:checked~div.sk-toggleable__content {max-height: 200px;max-width: 100%;overflow: auto;}#sk-container-id-6 input.sk-toggleable__control:checked~label.sk-toggleable__label-arrow:before {content: \"▾\";}#sk-container-id-6 div.sk-estimator input.sk-toggleable__control:checked~label.sk-toggleable__label {background-color: #d4ebff;}#sk-container-id-6 div.sk-label input.sk-toggleable__control:checked~label.sk-toggleable__label {background-color: #d4ebff;}#sk-container-id-6 input.sk-hidden--visually {border: 0;clip: rect(1px 1px 1px 1px);clip: rect(1px, 1px, 1px, 1px);height: 1px;margin: -1px;overflow: hidden;padding: 0;position: absolute;width: 1px;}#sk-container-id-6 div.sk-estimator {font-family: monospace;background-color: #f0f8ff;border: 1px dotted black;border-radius: 0.25em;box-sizing: border-box;margin-bottom: 0.5em;}#sk-container-id-6 div.sk-estimator:hover {background-color: #d4ebff;}#sk-container-id-6 div.sk-parallel-item::after {content: \"\";width: 100%;border-bottom: 1px solid gray;flex-grow: 1;}#sk-container-id-6 div.sk-label:hover label.sk-toggleable__label {background-color: #d4ebff;}#sk-container-id-6 div.sk-serial::before {content: \"\";position: absolute;border-left: 1px solid gray;box-sizing: border-box;top: 0;bottom: 0;left: 50%;z-index: 0;}#sk-container-id-6 div.sk-serial {display: flex;flex-direction: column;align-items: center;background-color: white;padding-right: 0.2em;padding-left: 0.2em;position: relative;}#sk-container-id-6 div.sk-item {position: relative;z-index: 1;}#sk-container-id-6 div.sk-parallel {display: flex;align-items: stretch;justify-content: center;background-color: white;position: relative;}#sk-container-id-6 div.sk-item::before, #sk-container-id-6 div.sk-parallel-item::before {content: \"\";position: absolute;border-left: 1px solid gray;box-sizing: border-box;top: 0;bottom: 0;left: 50%;z-index: -1;}#sk-container-id-6 div.sk-parallel-item {display: flex;flex-direction: column;z-index: 1;position: relative;background-color: white;}#sk-container-id-6 div.sk-parallel-item:first-child::after {align-self: flex-end;width: 50%;}#sk-container-id-6 div.sk-parallel-item:last-child::after {align-self: flex-start;width: 50%;}#sk-container-id-6 div.sk-parallel-item:only-child::after {width: 0;}#sk-container-id-6 div.sk-dashed-wrapped {border: 1px dashed gray;margin: 0 0.4em 0.5em 0.4em;box-sizing: border-box;padding-bottom: 0.4em;background-color: white;}#sk-container-id-6 div.sk-label label {font-family: monospace;font-weight: bold;display: inline-block;line-height: 1.2em;}#sk-container-id-6 div.sk-label-container {text-align: center;}#sk-container-id-6 div.sk-container {/* jupyter's `normalize.less` sets `[hidden] { display: none; }` but bootstrap.min.css set `[hidden] { display: none !important; }` so we also need the `!important` here to be able to override the default hidden behavior on the sphinx rendered scikit-learn.org. See: https://github.com/scikit-learn/scikit-learn/issues/21755 */display: inline-block !important;position: relative;}#sk-container-id-6 div.sk-text-repr-fallback {display: none;}</style><div id=\"sk-container-id-6\" class=\"sk-top-container\"><div class=\"sk-text-repr-fallback\"><pre>GridSearchCV(cv=KFold(n_splits=10, random_state=1, shuffle=True),\n",
       "             estimator=XGBRegressor(base_score=None, booster=None,\n",
       "                                    callbacks=None, colsample_bylevel=None,\n",
       "                                    colsample_bynode=None,\n",
       "                                    colsample_bytree=None,\n",
       "                                    early_stopping_rounds=None,\n",
       "                                    enable_categorical=False, eval_metric=None,\n",
       "                                    feature_types=None, gamma=None, gpu_id=None,\n",
       "                                    grow_policy=None, importance_type=None,\n",
       "                                    inte...\n",
       "                                    max_cat_threshold=None,\n",
       "                                    max_cat_to_onehot=None, max_delta_step=None,\n",
       "                                    max_depth=None, max_leaves=None,\n",
       "                                    min_child_weight=None, missing=nan,\n",
       "                                    monotone_constraints=None, n_estimators=100,\n",
       "                                    n_jobs=None, num_parallel_tree=None,\n",
       "                                    predictor=None, random_state=None, ...),\n",
       "             n_jobs=4,\n",
       "             param_grid={&#x27;max_depth&#x27;: [2, 3, 4, 5, 6, 7],\n",
       "                         &#x27;min_child_weight&#x27;: [1, 2, 3],\n",
       "                         &#x27;n_estimators&#x27;: [100, 150, 200, 250]})</pre><b>In a Jupyter environment, please rerun this cell to show the HTML representation or trust the notebook. <br />On GitHub, the HTML representation is unable to render, please try loading this page with nbviewer.org.</b></div><div class=\"sk-container\" hidden><div class=\"sk-item sk-dashed-wrapped\"><div class=\"sk-label-container\"><div class=\"sk-label sk-toggleable\"><input class=\"sk-toggleable__control sk-hidden--visually\" id=\"sk-estimator-id-10\" type=\"checkbox\" ><label for=\"sk-estimator-id-10\" class=\"sk-toggleable__label sk-toggleable__label-arrow\">GridSearchCV</label><div class=\"sk-toggleable__content\"><pre>GridSearchCV(cv=KFold(n_splits=10, random_state=1, shuffle=True),\n",
       "             estimator=XGBRegressor(base_score=None, booster=None,\n",
       "                                    callbacks=None, colsample_bylevel=None,\n",
       "                                    colsample_bynode=None,\n",
       "                                    colsample_bytree=None,\n",
       "                                    early_stopping_rounds=None,\n",
       "                                    enable_categorical=False, eval_metric=None,\n",
       "                                    feature_types=None, gamma=None, gpu_id=None,\n",
       "                                    grow_policy=None, importance_type=None,\n",
       "                                    inte...\n",
       "                                    max_cat_threshold=None,\n",
       "                                    max_cat_to_onehot=None, max_delta_step=None,\n",
       "                                    max_depth=None, max_leaves=None,\n",
       "                                    min_child_weight=None, missing=nan,\n",
       "                                    monotone_constraints=None, n_estimators=100,\n",
       "                                    n_jobs=None, num_parallel_tree=None,\n",
       "                                    predictor=None, random_state=None, ...),\n",
       "             n_jobs=4,\n",
       "             param_grid={&#x27;max_depth&#x27;: [2, 3, 4, 5, 6, 7],\n",
       "                         &#x27;min_child_weight&#x27;: [1, 2, 3],\n",
       "                         &#x27;n_estimators&#x27;: [100, 150, 200, 250]})</pre></div></div></div><div class=\"sk-parallel\"><div class=\"sk-parallel-item\"><div class=\"sk-item\"><div class=\"sk-label-container\"><div class=\"sk-label sk-toggleable\"><input class=\"sk-toggleable__control sk-hidden--visually\" id=\"sk-estimator-id-11\" type=\"checkbox\" ><label for=\"sk-estimator-id-11\" class=\"sk-toggleable__label sk-toggleable__label-arrow\">estimator: XGBRegressor</label><div class=\"sk-toggleable__content\"><pre>XGBRegressor(base_score=None, booster=None, callbacks=None,\n",
       "             colsample_bylevel=None, colsample_bynode=None,\n",
       "             colsample_bytree=None, early_stopping_rounds=None,\n",
       "             enable_categorical=False, eval_metric=None, feature_types=None,\n",
       "             gamma=None, gpu_id=None, grow_policy=None, importance_type=None,\n",
       "             interaction_constraints=None, learning_rate=None, max_bin=None,\n",
       "             max_cat_threshold=None, max_cat_to_onehot=None,\n",
       "             max_delta_step=None, max_depth=None, max_leaves=None,\n",
       "             min_child_weight=None, missing=nan, monotone_constraints=None,\n",
       "             n_estimators=100, n_jobs=None, num_parallel_tree=None,\n",
       "             predictor=None, random_state=None, ...)</pre></div></div></div><div class=\"sk-serial\"><div class=\"sk-item\"><div class=\"sk-estimator sk-toggleable\"><input class=\"sk-toggleable__control sk-hidden--visually\" id=\"sk-estimator-id-12\" type=\"checkbox\" ><label for=\"sk-estimator-id-12\" class=\"sk-toggleable__label sk-toggleable__label-arrow\">XGBRegressor</label><div class=\"sk-toggleable__content\"><pre>XGBRegressor(base_score=None, booster=None, callbacks=None,\n",
       "             colsample_bylevel=None, colsample_bynode=None,\n",
       "             colsample_bytree=None, early_stopping_rounds=None,\n",
       "             enable_categorical=False, eval_metric=None, feature_types=None,\n",
       "             gamma=None, gpu_id=None, grow_policy=None, importance_type=None,\n",
       "             interaction_constraints=None, learning_rate=None, max_bin=None,\n",
       "             max_cat_threshold=None, max_cat_to_onehot=None,\n",
       "             max_delta_step=None, max_depth=None, max_leaves=None,\n",
       "             min_child_weight=None, missing=nan, monotone_constraints=None,\n",
       "             n_estimators=100, n_jobs=None, num_parallel_tree=None,\n",
       "             predictor=None, random_state=None, ...)</pre></div></div></div></div></div></div></div></div></div></div>"
      ],
      "text/plain": [
       "GridSearchCV(cv=KFold(n_splits=10, random_state=1, shuffle=True),\n",
       "             estimator=XGBRegressor(base_score=None, booster=None,\n",
       "                                    callbacks=None, colsample_bylevel=None,\n",
       "                                    colsample_bynode=None,\n",
       "                                    colsample_bytree=None,\n",
       "                                    early_stopping_rounds=None,\n",
       "                                    enable_categorical=False, eval_metric=None,\n",
       "                                    feature_types=None, gamma=None, gpu_id=None,\n",
       "                                    grow_policy=None, importance_type=None,\n",
       "                                    inte...\n",
       "                                    max_cat_threshold=None,\n",
       "                                    max_cat_to_onehot=None, max_delta_step=None,\n",
       "                                    max_depth=None, max_leaves=None,\n",
       "                                    min_child_weight=None, missing=nan,\n",
       "                                    monotone_constraints=None, n_estimators=100,\n",
       "                                    n_jobs=None, num_parallel_tree=None,\n",
       "                                    predictor=None, random_state=None, ...),\n",
       "             n_jobs=4,\n",
       "             param_grid={'max_depth': [2, 3, 4, 5, 6, 7],\n",
       "                         'min_child_weight': [1, 2, 3],\n",
       "                         'n_estimators': [100, 150, 200, 250]})"
      ]
     },
     "execution_count": 116,
     "metadata": {},
     "output_type": "execute_result"
    }
   ],
   "source": [
    "# Define the XGBoost Regressor model\n",
    "model_xgb = XGBRegressor()\n",
    "\n",
    "# Define the hyperparameter grid for GridSearchCV\n",
    "param_test1 = {\n",
    "    'min_child_weight': [1, 2, 3],\n",
    "    'max_depth': [2, 3, 4, 5, 6, 7],\n",
    "    'n_estimators': [100, 150, 200, 250]\n",
    "}\n",
    "\n",
    "# Create a GridSearchCV object\n",
    "xgb_gs = GridSearchCV(estimator=model_xgb,\n",
    "                      param_grid=param_test1,\n",
    "                      n_jobs=4,\n",
    "                      cv=crossvalidation)\n",
    "\n",
    "# Fit the model with the hyperparameter grid to find the best parameters\n",
    "xgb_gs.fit(X_train, y_train)"
   ]
  },
  {
   "cell_type": "code",
   "execution_count": 117,
   "id": "d37bfa51-102d-4273-8dcd-681a2604d3f1",
   "metadata": {
    "tags": []
   },
   "outputs": [
    {
     "name": "stdout",
     "output_type": "stream",
     "text": [
      "max_depth_min_child_weight\n",
      "Best Parameters: {'max_depth': 5, 'min_child_weight': 3, 'n_estimators': 150}\n",
      "Best Score: 0.8212614100517049\n"
     ]
    }
   ],
   "source": [
    "# Print the best hyperparameters and best score\n",
    "print('max_depth_min_child_weight')\n",
    "print('Best Parameters:', xgb_gs.best_params_)\n",
    "print('Best Score:', xgb_gs.best_score_)"
   ]
  },
  {
   "cell_type": "code",
   "execution_count": 118,
   "id": "0f7f60a2-5804-402f-af06-7fa3be0b40bc",
   "metadata": {
    "tags": []
   },
   "outputs": [],
   "source": [
    "# Create a new XGBoost Regressor with the best hyperparameters\n",
    "best_params = xgb_gs.best_params_\n",
    "model_xgb2 = XGBRegressor(n_estimators=best_params['n_estimators'],\n",
    "                         min_child_weight=best_params['min_child_weight'],\n",
    "                         max_depth=best_params['max_depth'])"
   ]
  },
  {
   "cell_type": "code",
   "execution_count": 119,
   "id": "dcfed115-9e67-4f01-a63d-66070e9f9db2",
   "metadata": {
    "tags": []
   },
   "outputs": [
    {
     "data": {
      "text/html": [
       "<style>#sk-container-id-7 {color: black;background-color: white;}#sk-container-id-7 pre{padding: 0;}#sk-container-id-7 div.sk-toggleable {background-color: white;}#sk-container-id-7 label.sk-toggleable__label {cursor: pointer;display: block;width: 100%;margin-bottom: 0;padding: 0.3em;box-sizing: border-box;text-align: center;}#sk-container-id-7 label.sk-toggleable__label-arrow:before {content: \"▸\";float: left;margin-right: 0.25em;color: #696969;}#sk-container-id-7 label.sk-toggleable__label-arrow:hover:before {color: black;}#sk-container-id-7 div.sk-estimator:hover label.sk-toggleable__label-arrow:before {color: black;}#sk-container-id-7 div.sk-toggleable__content {max-height: 0;max-width: 0;overflow: hidden;text-align: left;background-color: #f0f8ff;}#sk-container-id-7 div.sk-toggleable__content pre {margin: 0.2em;color: black;border-radius: 0.25em;background-color: #f0f8ff;}#sk-container-id-7 input.sk-toggleable__control:checked~div.sk-toggleable__content {max-height: 200px;max-width: 100%;overflow: auto;}#sk-container-id-7 input.sk-toggleable__control:checked~label.sk-toggleable__label-arrow:before {content: \"▾\";}#sk-container-id-7 div.sk-estimator input.sk-toggleable__control:checked~label.sk-toggleable__label {background-color: #d4ebff;}#sk-container-id-7 div.sk-label input.sk-toggleable__control:checked~label.sk-toggleable__label {background-color: #d4ebff;}#sk-container-id-7 input.sk-hidden--visually {border: 0;clip: rect(1px 1px 1px 1px);clip: rect(1px, 1px, 1px, 1px);height: 1px;margin: -1px;overflow: hidden;padding: 0;position: absolute;width: 1px;}#sk-container-id-7 div.sk-estimator {font-family: monospace;background-color: #f0f8ff;border: 1px dotted black;border-radius: 0.25em;box-sizing: border-box;margin-bottom: 0.5em;}#sk-container-id-7 div.sk-estimator:hover {background-color: #d4ebff;}#sk-container-id-7 div.sk-parallel-item::after {content: \"\";width: 100%;border-bottom: 1px solid gray;flex-grow: 1;}#sk-container-id-7 div.sk-label:hover label.sk-toggleable__label {background-color: #d4ebff;}#sk-container-id-7 div.sk-serial::before {content: \"\";position: absolute;border-left: 1px solid gray;box-sizing: border-box;top: 0;bottom: 0;left: 50%;z-index: 0;}#sk-container-id-7 div.sk-serial {display: flex;flex-direction: column;align-items: center;background-color: white;padding-right: 0.2em;padding-left: 0.2em;position: relative;}#sk-container-id-7 div.sk-item {position: relative;z-index: 1;}#sk-container-id-7 div.sk-parallel {display: flex;align-items: stretch;justify-content: center;background-color: white;position: relative;}#sk-container-id-7 div.sk-item::before, #sk-container-id-7 div.sk-parallel-item::before {content: \"\";position: absolute;border-left: 1px solid gray;box-sizing: border-box;top: 0;bottom: 0;left: 50%;z-index: -1;}#sk-container-id-7 div.sk-parallel-item {display: flex;flex-direction: column;z-index: 1;position: relative;background-color: white;}#sk-container-id-7 div.sk-parallel-item:first-child::after {align-self: flex-end;width: 50%;}#sk-container-id-7 div.sk-parallel-item:last-child::after {align-self: flex-start;width: 50%;}#sk-container-id-7 div.sk-parallel-item:only-child::after {width: 0;}#sk-container-id-7 div.sk-dashed-wrapped {border: 1px dashed gray;margin: 0 0.4em 0.5em 0.4em;box-sizing: border-box;padding-bottom: 0.4em;background-color: white;}#sk-container-id-7 div.sk-label label {font-family: monospace;font-weight: bold;display: inline-block;line-height: 1.2em;}#sk-container-id-7 div.sk-label-container {text-align: center;}#sk-container-id-7 div.sk-container {/* jupyter's `normalize.less` sets `[hidden] { display: none; }` but bootstrap.min.css set `[hidden] { display: none !important; }` so we also need the `!important` here to be able to override the default hidden behavior on the sphinx rendered scikit-learn.org. See: https://github.com/scikit-learn/scikit-learn/issues/21755 */display: inline-block !important;position: relative;}#sk-container-id-7 div.sk-text-repr-fallback {display: none;}</style><div id=\"sk-container-id-7\" class=\"sk-top-container\"><div class=\"sk-text-repr-fallback\"><pre>XGBRegressor(base_score=None, booster=None, callbacks=None,\n",
       "             colsample_bylevel=None, colsample_bynode=None,\n",
       "             colsample_bytree=None, early_stopping_rounds=None,\n",
       "             enable_categorical=False, eval_metric=None, feature_types=None,\n",
       "             gamma=None, gpu_id=None, grow_policy=None, importance_type=None,\n",
       "             interaction_constraints=None, learning_rate=None, max_bin=None,\n",
       "             max_cat_threshold=None, max_cat_to_onehot=None,\n",
       "             max_delta_step=None, max_depth=5, max_leaves=None,\n",
       "             min_child_weight=3, missing=nan, monotone_constraints=None,\n",
       "             n_estimators=150, n_jobs=None, num_parallel_tree=None,\n",
       "             predictor=None, random_state=None, ...)</pre><b>In a Jupyter environment, please rerun this cell to show the HTML representation or trust the notebook. <br />On GitHub, the HTML representation is unable to render, please try loading this page with nbviewer.org.</b></div><div class=\"sk-container\" hidden><div class=\"sk-item\"><div class=\"sk-estimator sk-toggleable\"><input class=\"sk-toggleable__control sk-hidden--visually\" id=\"sk-estimator-id-13\" type=\"checkbox\" checked><label for=\"sk-estimator-id-13\" class=\"sk-toggleable__label sk-toggleable__label-arrow\">XGBRegressor</label><div class=\"sk-toggleable__content\"><pre>XGBRegressor(base_score=None, booster=None, callbacks=None,\n",
       "             colsample_bylevel=None, colsample_bynode=None,\n",
       "             colsample_bytree=None, early_stopping_rounds=None,\n",
       "             enable_categorical=False, eval_metric=None, feature_types=None,\n",
       "             gamma=None, gpu_id=None, grow_policy=None, importance_type=None,\n",
       "             interaction_constraints=None, learning_rate=None, max_bin=None,\n",
       "             max_cat_threshold=None, max_cat_to_onehot=None,\n",
       "             max_delta_step=None, max_depth=5, max_leaves=None,\n",
       "             min_child_weight=3, missing=nan, monotone_constraints=None,\n",
       "             n_estimators=150, n_jobs=None, num_parallel_tree=None,\n",
       "             predictor=None, random_state=None, ...)</pre></div></div></div></div></div>"
      ],
      "text/plain": [
       "XGBRegressor(base_score=None, booster=None, callbacks=None,\n",
       "             colsample_bylevel=None, colsample_bynode=None,\n",
       "             colsample_bytree=None, early_stopping_rounds=None,\n",
       "             enable_categorical=False, eval_metric=None, feature_types=None,\n",
       "             gamma=None, gpu_id=None, grow_policy=None, importance_type=None,\n",
       "             interaction_constraints=None, learning_rate=None, max_bin=None,\n",
       "             max_cat_threshold=None, max_cat_to_onehot=None,\n",
       "             max_delta_step=None, max_depth=5, max_leaves=None,\n",
       "             min_child_weight=3, missing=nan, monotone_constraints=None,\n",
       "             n_estimators=150, n_jobs=None, num_parallel_tree=None,\n",
       "             predictor=None, random_state=None, ...)"
      ]
     },
     "execution_count": 119,
     "metadata": {},
     "output_type": "execute_result"
    }
   ],
   "source": [
    "# Train the model with the best hyperparameters\n",
    "model_xgb2.fit(X_train, y_train.values.ravel())"
   ]
  },
  {
   "cell_type": "code",
   "execution_count": 121,
   "id": "92e4b07b-f636-41f4-8c8d-545b2ed478ad",
   "metadata": {
    "tags": []
   },
   "outputs": [
    {
     "name": "stdout",
     "output_type": "stream",
     "text": [
      "Model score: 0.8522767196373697\n",
      "Mean Squared Error: 770273593.90\n",
      "R2 score: 0.8458909093473441\n"
     ]
    }
   ],
   "source": [
    "# Make predictions on the test data\n",
    "y_pred = model_xgb2.predict(X_test)\n",
    "# Get R_2 score of XGBoost Regressor\n",
    "score = model_xgb2.score(X_test,y_test)\n",
    "print(\"Model score:\",score)\n",
    "# Calculate Mean Squared Error (MAE) for regression\n",
    "mse = mean_squared_error(y_test, y_pred)\n",
    "print(\"Mean Squared Error: %.2f\" % mse)\n",
    "#Calculate R2 score \n",
    "r2 = r2_score(y_pred,y_test)\n",
    "print(\"R2 score:\", r2)"
   ]
  }
 ],
 "metadata": {
  "kernelspec": {
   "display_name": "Python 3",
   "language": "python",
   "name": "python3"
  },
  "language_info": {
   "codemirror_mode": {
    "name": "ipython",
    "version": 3
   },
   "file_extension": ".py",
   "mimetype": "text/x-python",
   "name": "python",
   "nbconvert_exporter": "python",
   "pygments_lexer": "ipython3",
   "version": "3.10.8"
  }
 },
 "nbformat": 4,
 "nbformat_minor": 5
}
